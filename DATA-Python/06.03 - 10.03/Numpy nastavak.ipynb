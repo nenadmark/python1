{
 "cells": [
  {
   "cell_type": "code",
   "execution_count": 1,
   "id": "cbd89c81",
   "metadata": {},
   "outputs": [],
   "source": [
    "import numpy as np"
   ]
  },
  {
   "cell_type": "markdown",
   "id": "7bdd9a1c",
   "metadata": {},
   "source": [
    "## Ponavljanje"
   ]
  },
  {
   "cell_type": "markdown",
   "id": "15ae1a88",
   "metadata": {},
   "source": [
    "Bez korištenje `numpy-a`, ispisati tablicu množenja do 10."
   ]
  },
  {
   "cell_type": "code",
   "execution_count": 12,
   "id": "664523a2",
   "metadata": {},
   "outputs": [
    {
     "name": "stdout",
     "output_type": "stream",
     "text": [
      "1\t2\t3\t4\t5\t6\t7\t8\t9\t10\t\n",
      "2\t4\t6\t8\t10\t12\t14\t16\t18\t20\t\n",
      "3\t6\t9\t12\t15\t18\t21\t24\t27\t30\t\n",
      "4\t8\t12\t16\t20\t24\t28\t32\t36\t40\t\n",
      "5\t10\t15\t20\t25\t30\t35\t40\t45\t50\t\n",
      "6\t12\t18\t24\t30\t36\t42\t48\t54\t60\t\n",
      "7\t14\t21\t28\t35\t42\t49\t56\t63\t70\t\n",
      "8\t16\t24\t32\t40\t48\t56\t64\t72\t80\t\n",
      "9\t18\t27\t36\t45\t54\t63\t72\t81\t90\t\n",
      "10\t20\t30\t40\t50\t60\t70\t80\t90\t100\t\n"
     ]
    }
   ],
   "source": [
    "def tablica_mnozenja(limit=10):\n",
    "    for i in range(1, limit + 1):\n",
    "        for j in range(1, limit + 1):\n",
    "            rez = i * j\n",
    "            print(rez, end=\"\\t\")\n",
    "        \n",
    "        print()\n",
    "        \n",
    "tablica_mnozenja()\n",
    "# tablica_mnozenja(5)\n",
    "# tablica_mnozenja(16)"
   ]
  },
  {
   "cell_type": "markdown",
   "id": "4b72e1a0",
   "metadata": {},
   "source": [
    "Koristeći `numpy`, kreirati niz koji predstavlja tablicu množenja do 10."
   ]
  },
  {
   "cell_type": "code",
   "execution_count": 14,
   "id": "75aba944",
   "metadata": {},
   "outputs": [
    {
     "name": "stdout",
     "output_type": "stream",
     "text": [
      "[ 1  2  3  4  5  6  7  8  9 10]\n",
      "[ 2  4  6  8 10 12 14 16 18 20]\n",
      "[ 3  6  9 12 15 18 21 24 27 30]\n",
      "[ 4  8 12 16 20 24 28 32 36 40]\n",
      "[ 5 10 15 20 25 30 35 40 45 50]\n",
      "[ 6 12 18 24 30 36 42 48 54 60]\n",
      "[ 7 14 21 28 35 42 49 56 63 70]\n",
      "[ 8 16 24 32 40 48 56 64 72 80]\n",
      "[ 9 18 27 36 45 54 63 72 81 90]\n",
      "[ 10  20  30  40  50  60  70  80  90 100]\n"
     ]
    }
   ],
   "source": [
    "#redak = np.array([i for i in range(1, 11)])\n",
    "redak = np.arange(1, 11)\n",
    "\n",
    "for n in range(1, 11):\n",
    "    tabl = redak * n\n",
    "    print(tabl)"
   ]
  },
  {
   "cell_type": "code",
   "execution_count": 17,
   "id": "c9964ee1",
   "metadata": {},
   "outputs": [
    {
     "name": "stdout",
     "output_type": "stream",
     "text": [
      "[[  1   2   3   4   5   6   7   8   9  10]\n",
      " [  2   4   6   8  10  12  14  16  18  20]\n",
      " [  3   6   9  12  15  18  21  24  27  30]\n",
      " [  4   8  12  16  20  24  28  32  36  40]\n",
      " [  5  10  15  20  25  30  35  40  45  50]\n",
      " [  6  12  18  24  30  36  42  48  54  60]\n",
      " [  7  14  21  28  35  42  49  56  63  70]\n",
      " [  8  16  24  32  40  48  56  64  72  80]\n",
      " [  9  18  27  36  45  54  63  72  81  90]\n",
      " [ 10  20  30  40  50  60  70  80  90 100]]\n",
      "[[1 2 3]\n",
      " [2 4 6]\n",
      " [3 6 9]]\n"
     ]
    }
   ],
   "source": [
    "def np_tabl(limit=10):\n",
    "    tabl2 = np.zeros((limit, limit), dtype=np.int32)\n",
    "    for i in range(limit):\n",
    "        for j in range(limit):\n",
    "            tabl2[i][j] = (i + 1) * (j + 1)\n",
    "    \n",
    "    print(tabl2)\n",
    "\n",
    "np_tabl()\n",
    "np_tabl(3)"
   ]
  },
  {
   "cell_type": "code",
   "execution_count": 19,
   "id": "1cbc82dc",
   "metadata": {},
   "outputs": [
    {
     "name": "stdout",
     "output_type": "stream",
     "text": [
      "[[  1   2   3   4   5   6   7   8   9  10]\n",
      " [  2   4   6   8  10  12  14  16  18  20]\n",
      " [  3   6   9  12  15  18  21  24  27  30]\n",
      " [  4   8  12  16  20  24  28  32  36  40]\n",
      " [  5  10  15  20  25  30  35  40  45  50]\n",
      " [  6  12  18  24  30  36  42  48  54  60]\n",
      " [  7  14  21  28  35  42  49  56  63  70]\n",
      " [  8  16  24  32  40  48  56  64  72  80]\n",
      " [  9  18  27  36  45  54  63  72  81  90]\n",
      " [ 10  20  30  40  50  60  70  80  90 100]]\n"
     ]
    }
   ],
   "source": [
    "def np_tabl2(i, j):\n",
    "    return (i + 1) * (j + 1)\n",
    "\n",
    "table = np.fromfunction(np_tabl2, (10, 10), dtype=np.int32)\n",
    "print(table)"
   ]
  },
  {
   "cell_type": "code",
   "execution_count": 20,
   "id": "109e492c",
   "metadata": {},
   "outputs": [
    {
     "name": "stdout",
     "output_type": "stream",
     "text": [
      "[[1 2 3]\n",
      " [2 4 6]\n",
      " [3 6 9]]\n"
     ]
    }
   ],
   "source": [
    "table = np.fromfunction(np_tabl2, (3, 3), dtype=np.int32)\n",
    "print(table)"
   ]
  },
  {
   "cell_type": "markdown",
   "id": "45468ef8",
   "metadata": {},
   "source": [
    "### Dodatni `fromfunction` primjer\n",
    "\n",
    "Imamo dva broja koja želimo transformirati tako da drugi broj pomnožimo s brojem 15 i to dodamo prvom broju.\n",
    "Opisano ponašanje napisati u obliku funkcije i tu funkciju iskoristiti kao ulazni parametar za kreiranje `numpy` niza."
   ]
  },
  {
   "cell_type": "code",
   "execution_count": 22,
   "id": "2da66d30",
   "metadata": {},
   "outputs": [
    {
     "name": "stdout",
     "output_type": "stream",
     "text": [
      "[[ 0 15]\n",
      " [ 1 16]]\n"
     ]
    }
   ],
   "source": [
    "def test_funkcija(x, y):\n",
    "    return y * 15 + x\n",
    "\n",
    "np_test = np.fromfunction(test_funkcija, (2, 2), dtype=np.int32)\n",
    "\n",
    "print(np_test)"
   ]
  },
  {
   "cell_type": "code",
   "execution_count": 24,
   "id": "468a6b57",
   "metadata": {},
   "outputs": [
    {
     "name": "stdout",
     "output_type": "stream",
     "text": [
      "[[ 0 15]\n",
      " [ 1 16]]\n",
      "int32\n"
     ]
    }
   ],
   "source": [
    "np_test_2 = np.fromfunction(lambda x, y: y * 15 + x, (2, 2), dtype=int)\n",
    "\n",
    "print(np_test_2)\n",
    "print(np_test_2.dtype)"
   ]
  },
  {
   "cell_type": "markdown",
   "id": "f35c2395",
   "metadata": {},
   "source": [
    "# Zapisivanje u tekstualne datoteke koristeći `numpy`"
   ]
  },
  {
   "cell_type": "code",
   "execution_count": 25,
   "id": "f7c266be",
   "metadata": {},
   "outputs": [
    {
     "name": "stdout",
     "output_type": "stream",
     "text": [
      "[[  1   2   3   4   5   6   7   8   9  10]\n",
      " [  2   4   6   8  10  12  14  16  18  20]\n",
      " [  3   6   9  12  15  18  21  24  27  30]\n",
      " [  4   8  12  16  20  24  28  32  36  40]\n",
      " [  5  10  15  20  25  30  35  40  45  50]\n",
      " [  6  12  18  24  30  36  42  48  54  60]\n",
      " [  7  14  21  28  35  42  49  56  63  70]\n",
      " [  8  16  24  32  40  48  56  64  72  80]\n",
      " [  9  18  27  36  45  54  63  72  81  90]\n",
      " [ 10  20  30  40  50  60  70  80  90 100]]\n"
     ]
    }
   ],
   "source": [
    "tablica_mnozenja_do_10 = np.fromfunction(np_tabl2, (10, 10), dtype=np.int32)\n",
    "print(tablica_mnozenja_do_10)"
   ]
  },
  {
   "cell_type": "code",
   "execution_count": 35,
   "id": "530f9cb5",
   "metadata": {},
   "outputs": [],
   "source": [
    "np.savetxt(\"tablica_mnozenja_do_10.txt\", tablica_mnozenja_do_10, fmt=\"%d\")"
   ]
  },
  {
   "cell_type": "markdown",
   "id": "7a45357a",
   "metadata": {},
   "source": [
    "## Zadatak"
   ]
  },
  {
   "cell_type": "markdown",
   "id": "5b4471c5",
   "metadata": {},
   "source": [
    "U datoteku `tablica_mnozenja.txt` zapišite tablicu množenja od 1 do 10, dodajte zaglavlje u kojem će pisati sljedeći tekst:\n",
    "\n",
    "**Naziv datoteke: tablica_mnozenja.txt**\n",
    "\n",
    "**Autor: \"Ime Prezime\"**  # zamijenite sa svojim imenom i prezimenom\n",
    "_________________________\n",
    "\"umetni tablicu mnozenja\"\n",
    "__________________________\n",
    "\n",
    "Nakon tablice množenja zapisati `datum i vrijeme` kreiranje datoteke."
   ]
  },
  {
   "cell_type": "code",
   "execution_count": 38,
   "id": "2d9e20ca",
   "metadata": {},
   "outputs": [],
   "source": [
    "import datetime as dt"
   ]
  },
  {
   "cell_type": "code",
   "execution_count": 87,
   "id": "bc0f7412",
   "metadata": {},
   "outputs": [],
   "source": [
    "header = \"Naziv datoteke: tablica_mnozenja.txt\\nAutor: Pero Peric\\n--------------------------------\"\n",
    "footer = f\"---------------------------\\nDatum i vrijeme zapisivanja:{dt.datetime.now().strftime('%d.%m.%Y %H:%M:%S')}\"\n",
    "np.savetxt(\"tablica_mnozenja.txt\", tablica_mnozenja_do_10, fmt=\"%i\", header=header, footer=footer)"
   ]
  },
  {
   "cell_type": "code",
   "execution_count": 43,
   "id": "b6cbf741",
   "metadata": {},
   "outputs": [],
   "source": [
    "header_2 = \"\"\"Naziv datoteke: tablica_mnozenja_2.txt\n",
    "Autor: Pero Perić\n",
    "**************************************\"\"\"\n",
    "footer_2 = f\"\"\"**************************************\n",
    "Datum i vrijeme zapisivanja: {dt.datetime.now().strftime('%d.%m.%Y %H:%M:%S')}\"\"\"\n",
    "np.savetxt(\"tablica_mnozenja_2.txt\", tablica_mnozenja_do_10, fmt=\"%i\", header=header_2, footer=footer_2)"
   ]
  },
  {
   "cell_type": "markdown",
   "id": "4f1bddac",
   "metadata": {},
   "source": [
    "# Čitanje iz datoteka koristeći `numpy`"
   ]
  },
  {
   "cell_type": "code",
   "execution_count": 106,
   "id": "893e16d4",
   "metadata": {},
   "outputs": [],
   "source": [
    "np.loadtxt?"
   ]
  },
  {
   "cell_type": "code",
   "execution_count": 114,
   "id": "005d7b96",
   "metadata": {},
   "outputs": [],
   "source": [
    "def konverzija(x):\n",
    "    val = int(x)\n",
    "    if val < 5:\n",
    "        return val ** 3\n",
    "    else:\n",
    "        return val ** 2"
   ]
  },
  {
   "cell_type": "code",
   "execution_count": 115,
   "id": "386456e6",
   "metadata": {},
   "outputs": [],
   "source": [
    "# tablica_mnozenja_datoteka = np.loadtxt(\"tablica_mnozenja.txt\")\n",
    "# tablica_mnozenja_datoteka = np.loadtxt(\"tablica_mnozenja.txt\", dtype=int)\n",
    "# tablica_mnozenja_datoteka = np.loadtxt(\"tablica_mnozenja.txt\", dtype=int, skiprows=5)\n",
    "# tablica_mnozenja_datoteka = np.loadtxt(\"tablica_mnozenja.txt\", dtype=int, usecols=(1, 3))\n",
    "tablica_mnozenja_datoteka = np.loadtxt(\n",
    "    \"tablica_mnozenja.txt\",\n",
    "    dtype=int,\n",
    "    converters={\n",
    "        0: konverzija\n",
    "    }\n",
    ")"
   ]
  },
  {
   "cell_type": "code",
   "execution_count": 116,
   "id": "b95b6c85",
   "metadata": {},
   "outputs": [
    {
     "data": {
      "text/plain": [
       "array([[  1,   2,   3,   4,   5,   6,   7,   8,   9,  10],\n",
       "       [  8,   4,   6,   8,  10,  12,  14,  16,  18,  20],\n",
       "       [ 27,   6,   9,  12,  15,  18,  21,  24,  27,  30],\n",
       "       [ 64,   8,  12,  16,  20,  24,  28,  32,  36,  40],\n",
       "       [ 25,  10,  15,  20,  25,  30,  35,  40,  45,  50],\n",
       "       [ 36,  12,  18,  24,  30,  36,  42,  48,  54,  60],\n",
       "       [ 49,  14,  21,  28,  35,  42,  49,  56,  63,  70],\n",
       "       [ 64,  16,  24,  32,  40,  48,  56,  64,  72,  80],\n",
       "       [ 81,  18,  27,  36,  45,  54,  63,  72,  81,  90],\n",
       "       [100,  20,  30,  40,  50,  60,  70,  80,  90, 100]])"
      ]
     },
     "execution_count": 116,
     "metadata": {},
     "output_type": "execute_result"
    }
   ],
   "source": [
    "tablica_mnozenja_datoteka"
   ]
  },
  {
   "cell_type": "code",
   "execution_count": 127,
   "id": "134534da",
   "metadata": {},
   "outputs": [],
   "source": [
    "e_cars_np = np.loadtxt(\n",
    "    \"e-cars.csv\",\n",
    "    delimiter=\";\",  # vrijednosti su nam odvojene sa ;\n",
    "    skiprows=1,  # prvi red sadrži nazive stupaca, to preskačemo\n",
    "    dtype=str,  # imamo stringove i integere pa trebamo sve pretvoriti u str inače imamo grešku\n",
    ")"
   ]
  },
  {
   "cell_type": "code",
   "execution_count": 131,
   "id": "1abfb24f",
   "metadata": {},
   "outputs": [
    {
     "name": "stdout",
     "output_type": "stream",
     "text": [
      "[['2012' 'MITSUBISHI' 'i-MiEV' 'SUBCOMPACT' '49' 'A1' 'B' '16.9' '21.4'\n",
      "  '18.7' '1.9' '2.4' '2.1' '0' 'n/a' '100' '7']\n",
      " ['2012' 'NISSAN' 'LEAF' 'MID-SIZE' '80' 'A1' 'B' '19.3' '23' '21.1'\n",
      "  '2.2' '2.6' '2.4' '0' 'n/a' '117' '7']\n",
      " ['2013' 'FORD' 'FOCUS ELECTRIC' 'COMPACT' '107' 'A1' 'B' '19' '21.1'\n",
      "  '20' '2.1' '2.4' '2.2' '0' 'n/a' '122' '4']\n",
      " ['2013' 'MITSUBISHI' 'i-MiEV' 'SUBCOMPACT' '49' 'A1' 'B' '16.9' '21.4'\n",
      "  '18.7' '1.9' '2.4' '2.1' '0' 'n/a' '100' '7']\n",
      " ['2013' 'NISSAN' 'LEAF' 'MID-SIZE' '80' 'A1' 'B' '19.3' '23' '21.1'\n",
      "  '2.2' '2.6' '2.4' '0' 'n/a' '117' '7']\n",
      " ['2013' 'SMART' 'FORTWO ELECTRIC DRIVE CABRIOLET' 'TWO-SEATER' '35' 'A1'\n",
      "  'B' '17.2' '22.5' '19.6' '1.9' '2.5' '2.2' '0' 'n/a' '109' '8']\n",
      " ['2013' 'SMART' 'FORTWO ELECTRIC DRIVE COUPE' 'TWO-SEATER' '35' 'A1' 'B'\n",
      "  '17.2' '22.5' '19.6' '1.9' '2.5' '2.2' '0' 'n/a' '109' '8']\n",
      " ['2013' 'TESLA' 'MODEL S (40 kWh battery)' 'FULL-SIZE' '270' 'A1' 'B'\n",
      "  '22.4' '21.9' '22.2' '2.5' '2.5' '2.5' '0' 'n/a' '224' '6']\n",
      " ['2013' 'TESLA' 'MODEL S (60 kWh battery)' 'FULL-SIZE' '270' 'A1' 'B'\n",
      "  '22.2' '21.7' '21.9' '2.5' '2.4' '2.5' '0' 'n/a' '335' '10']\n",
      " ['2013' 'TESLA' 'MODEL S (85 kWh battery)' 'FULL-SIZE' '270' 'A1' 'B'\n",
      "  '23.8' '23.2' '23.6' '2.7' '2.6' '2.6' '0' 'n/a' '426' '12']\n",
      " ['2013' 'TESLA' 'MODEL S PERFORMANCE' 'FULL-SIZE' '310' 'A1' 'B' '23.9'\n",
      "  '23.2' '23.6' '2.7' '2.6' '2.6' '0' 'n/a' '426' '12']\n",
      " ['2014' 'CHEVROLET' 'SPARK EV' 'SUBCOMPACT' '104' 'A1' 'B' '16' '19.6'\n",
      "  '17.8' '1.8' '2.2' '2' '0' 'n/a' '131' '7']\n",
      " ['2014' 'FORD' 'FOCUS ELECTRIC' 'COMPACT' '107' 'A1' 'B' '19' '21.1'\n",
      "  '20' '2.1' '2.4' '2.2' '0' 'n/a' '122' '4']\n",
      " ['2014' 'MITSUBISHI' 'i-MiEV' 'SUBCOMPACT' '49' 'A1' 'B' '16.9' '21.4'\n",
      "  '18.7' '1.9' '2.4' '2.1' '0' 'n/a' '100' '7']\n",
      " ['2014' 'NISSAN' 'LEAF' 'MID-SIZE' '80' 'A1' 'B' '16.5' '20.8' '18.4'\n",
      "  '1.9' '2.3' '2.1' '0' 'n/a' '135' '5']\n",
      " ['2014' 'SMART' 'FORTWO ELECTRIC DRIVE CABRIOLET' 'TWO-SEATER' '35' 'A1'\n",
      "  'B' '17.2' '22.5' '19.6' '1.9' '2.5' '2.2' '0' 'n/a' '109' '8']\n",
      " ['2014' 'SMART' 'FORTWO ELECTRIC DRIVE COUPE' 'TWO-SEATER' '35' 'A1' 'B'\n",
      "  '17.2' '22.5' '19.6' '1.9' '2.5' '2.2' '0' 'n/a' '109' '8']\n",
      " ['2014' 'TESLA' 'MODEL S (60 kWh battery)' 'FULL-SIZE' '225' 'A1' 'B'\n",
      "  '22.2' '21.7' '21.9' '2.5' '2.4' '2.5' '0' 'n/a' '335' '10']\n",
      " ['2014' 'TESLA' 'MODEL S (85 kWh battery)' 'FULL-SIZE' '270' 'A1' 'B'\n",
      "  '23.8' '23.2' '23.6' '2.7' '2.6' '2.6' '0' 'n/a' '426' '12']\n",
      " ['2014' 'TESLA' 'MODEL S PERFORMANCE' 'FULL-SIZE' '310' 'A1' 'B' '23.9'\n",
      "  '23.2' '23.6' '2.7' '2.6' '2.6' '0' 'n/a' '426' '12']\n",
      " ['2015' 'BMW' 'i3' 'SUBCOMPACT' '125' 'A1' 'B' '15.2' '18.8' '16.8'\n",
      "  '1.7' '2.1' '1.9' '0' 'n/a' '130' '4']\n",
      " ['2015' 'CHEVROLET' 'SPARK EV' 'SUBCOMPACT' '104' 'A1' 'B' '16' '19.6'\n",
      "  '17.8' '1.8' '2.2' '2' '0' 'n/a' '131' '7']\n",
      " ['2015' 'FORD' 'FOCUS ELECTRIC' 'COMPACT' '107' 'A1' 'B' '19' '21.1'\n",
      "  '20' '2.1' '2.4' '2.2' '0' 'n/a' '122' '4']\n",
      " ['2015' 'KIA' 'SOUL EV' 'STATION WAGON - SMALL' '81' 'A1' 'B' '17.5'\n",
      "  '22.7' '19.9' '2' '2.6' '2.2' '0' 'n/a' '149' '4']\n",
      " ['2015' 'MITSUBISHI' 'i-MiEV' 'SUBCOMPACT' '49' 'A1' 'B' '16.9' '21.4'\n",
      "  '18.7' '1.9' '2.4' '2.1' '0' 'n/a' '100' '7']\n",
      " ['2015' 'NISSAN' 'LEAF' 'MID-SIZE' '80' 'A1' 'B' '16.5' '20.8' '18.4'\n",
      "  '1.9' '2.3' '2.1' '0' 'n/a' '135' '5']\n",
      " ['2015' 'SMART' 'FORTWO ELECTRIC DRIVE CABRIOLET' 'TWO-SEATER' '35' 'A1'\n",
      "  'B' '17.2' '22.5' '19.6' '1.9' '2.5' '2.2' '0' 'n/a' '109' '8']\n",
      " ['2015' 'SMART' 'FORTWO ELECTRIC DRIVE COUPE' 'TWO-SEATER' '35' 'A1' 'B'\n",
      "  '17.2' '22.5' '19.6' '1.9' '2.5' '2.2' '0' 'n/a' '109' '8']\n",
      " ['2015' 'TESLA' 'MODEL S (60 kWh battery)' 'FULL-SIZE' '283' 'A1' 'B'\n",
      "  '22.2' '21.7' '21.9' '2.5' '2.4' '2.5' '0' 'n/a' '335' '10']\n",
      " ['2015' 'TESLA' 'MODEL S (70 kWh battery)' 'FULL-SIZE' '283' 'A1' 'B'\n",
      "  '23.8' '23.2' '23.6' '2.7' '2.6' '2.6' '0' 'n/a' '377' '12']\n",
      " ['2015' 'TESLA' 'MODEL S (85/90 kWh battery)' 'FULL-SIZE' '283' 'A1' 'B'\n",
      "  '23.8' '23.2' '23.6' '2.7' '2.6' '2.6' '0' 'n/a' '426' '12']\n",
      " ['2015' 'TESLA' 'MODEL S 70D' 'FULL-SIZE' '280' 'A1' 'B' '20.8' '20.6'\n",
      "  '20.7' '2.3' '2.3' '2.3' '0' 'n/a' '386' '12']\n",
      " ['2015' 'TESLA' 'MODEL S 85D/90D' 'FULL-SIZE' '280' 'A1' 'B' '22' '19.8'\n",
      "  '21' '2.5' '2.2' '2.4' '0' 'n/a' '435' '12']\n",
      " ['2015' 'TESLA' 'MODEL S P85D/P90D' 'FULL-SIZE' '515' 'A1' 'B' '23.4'\n",
      "  '21.5' '22.5' '2.6' '2.4' '2.5' '0' 'n/a' '407' '12']\n",
      " ['2016' 'BMW' 'i3' 'SUBCOMPACT' '125' 'A1' 'B' '15.2' '18.8' '16.8'\n",
      "  '1.7' '2.1' '1.9' '0' '10' '130' '4']\n",
      " ['2016' 'CHEVROLET' 'SPARK EV' 'SUBCOMPACT' '104' 'A1' 'B' '16' '19.6'\n",
      "  '17.8' '1.8' '2.2' '2' '0' '10' '131' '7']\n",
      " ['2016' 'FORD' 'FOCUS ELECTRIC' 'COMPACT' '107' 'A1' 'B' '19' '21.1'\n",
      "  '20' '2.1' '2.4' '2.2' '0' '10' '122' '4']\n",
      " ['2016' 'KIA' 'SOUL EV' 'STATION WAGON - SMALL' '81' 'A1' 'B' '17.5'\n",
      "  '22.7' '19.9' '2' '2.6' '2.2' '0' '10' '149' '4']\n",
      " ['2016' 'MITSUBISHI' 'i-MiEV' 'SUBCOMPACT' '49' 'A1' 'B' '16.9' '21.4'\n",
      "  '18.7' '1.9' '2.4' '2.1' '0' '10' '100' '7']\n",
      " ['2016' 'NISSAN' 'LEAF (24 kWh battery)' 'MID-SIZE' '80' 'A1' 'B' '16.5'\n",
      "  '20.8' '18.4' '1.9' '2.3' '2.1' '0' '10' '135' '5']\n",
      " ['2016' 'NISSAN' 'LEAF (30 kWh battery)' 'MID-SIZE' '80' 'A1' 'B' '17'\n",
      "  '20.7' '18.6' '1.9' '2.3' '2.1' '0' '10' '172' '6']\n",
      " ['2016' 'SMART' 'FORTWO ELECTRIC DRIVE CABRIOLET' 'TWO-SEATER' '35' 'A1'\n",
      "  'B' '17.2' '22.5' '19.6' '1.9' '2.5' '2.2' '0' '10' '109' '8']\n",
      " ['2016' 'SMART' 'FORTWO ELECTRIC DRIVE COUPE' 'TWO-SEATER' '35' 'A1' 'B'\n",
      "  '17.2' '22.5' '19.6' '1.9' '2.5' '2.2' '0' '10' '109' '8']\n",
      " ['2016' 'TESLA' 'MODEL S (60 kWh battery)' 'FULL-SIZE' '283' 'A1' 'B'\n",
      "  '22.2' '21.7' '21.9' '2.5' '2.4' '2.5' '0' '10' '335' '10']\n",
      " ['2016' 'TESLA' 'MODEL S (70 kWh battery)' 'FULL-SIZE' '283' 'A1' 'B'\n",
      "  '23.8' '23.2' '23.6' '2.7' '2.6' '2.6' '0' '10' '377' '12']\n",
      " ['2016' 'TESLA' 'MODEL S (85/90 kWh battery)' 'FULL-SIZE' '283' 'A1' 'B'\n",
      "  '23.8' '23.2' '23.6' '2.7' '2.6' '2.6' '0' '10' '426' '12']\n",
      " ['2016' 'TESLA' 'MODEL S 70D' 'FULL-SIZE' '386' 'A1' 'B' '20.8' '20.6'\n",
      "  '20.7' '2.3' '2.3' '2.3' '0' '10' '386' '12']\n",
      " ['2016' 'TESLA' 'MODEL S 85D/90D' 'FULL-SIZE' '386' 'A1' 'B' '22' '19.8'\n",
      "  '21' '2.5' '2.2' '2.4' '0' '10' '435' '12']\n",
      " ['2016' 'TESLA' 'MODEL S 90D (Refresh)' 'FULL-SIZE' '386' 'A1' 'B'\n",
      "  '20.8' '19.7' '20.3' '2.3' '2.2' '2.3' '0' '10' '473' '12']\n",
      " ['2016' 'TESLA' 'MODEL S P85D/P90D' 'FULL-SIZE' '568' 'A1' 'B' '23.4'\n",
      "  '21.5' '22.5' '2.6' '2.4' '2.5' '0' '10' '407' '12']\n",
      " ['2016' 'TESLA' 'MODEL S P90D (Refresh)' 'FULL-SIZE' '568' 'A1' 'B'\n",
      "  '22.9' '21' '22.1' '2.6' '2.4' '2.5' '0' '10' '435' '12']\n",
      " ['2016' 'TESLA' 'MODEL X 90D' 'SUV - STANDARD' '386' 'A1' 'B' '23.2'\n",
      "  '22.2' '22.7' '2.6' '2.5' '2.6' '0' '10' '414' '12']\n",
      " ['2016' 'TESLA' 'MODEL X P90D' 'SUV - STANDARD' '568' 'A1' 'B' '23.6'\n",
      "  '23.3' '23.5' '2.7' '2.6' '2.6' '0' '10' '402' '12']]\n"
     ]
    }
   ],
   "source": [
    "print(e_cars_np)"
   ]
  },
  {
   "cell_type": "markdown",
   "id": "4e7c24a6",
   "metadata": {},
   "source": [
    "### Pomoć za `slice` notaciju\n",
    "\n",
    "<img src=\"slike/array-slice.png\" alt=\"Array slice notacija\"/>"
   ]
  },
  {
   "cell_type": "code",
   "execution_count": 132,
   "id": "187c3663",
   "metadata": {},
   "outputs": [
    {
     "name": "stdout",
     "output_type": "stream",
     "text": [
      "['2012' 'MITSUBISHI' 'i-MiEV' 'SUBCOMPACT' '49' 'A1' 'B' '16.9' '21.4'\n",
      " '18.7' '1.9' '2.4' '2.1' '0' 'n/a' '100' '7']\n"
     ]
    }
   ],
   "source": [
    "print(e_cars_np[0])"
   ]
  },
  {
   "cell_type": "code",
   "execution_count": 140,
   "id": "db6609ce",
   "metadata": {},
   "outputs": [
    {
     "name": "stdout",
     "output_type": "stream",
     "text": [
      "['2012' '2012' '2013' '2013' '2013' '2013' '2013' '2013' '2013' '2013'\n",
      " '2013' '2014' '2014' '2014' '2014' '2014' '2014' '2014' '2014' '2014'\n",
      " '2015' '2015' '2015' '2015' '2015' '2015' '2015' '2015' '2015' '2015'\n",
      " '2015' '2015' '2015' '2015' '2016' '2016' '2016' '2016' '2016' '2016'\n",
      " '2016' '2016' '2016' '2016' '2016' '2016' '2016' '2016' '2016' '2016'\n",
      " '2016' '2016' '2016']\n"
     ]
    }
   ],
   "source": [
    "print(e_cars_np[:, 0])"
   ]
  },
  {
   "cell_type": "markdown",
   "id": "b2b44894",
   "metadata": {},
   "source": [
    "Trebali bi svaki stupac koji ne treba biti string na ovaj način dohvatiti, odraditi konverziju podataka što je prilično neefikasno i zamorno. Postoji li bolji način?"
   ]
  },
  {
   "cell_type": "code",
   "execution_count": null,
   "id": "782d6009",
   "metadata": {},
   "outputs": [],
   "source": []
  }
 ],
 "metadata": {
  "kernelspec": {
   "display_name": "Python 3 (ipykernel)",
   "language": "python",
   "name": "python3"
  },
  "language_info": {
   "codemirror_mode": {
    "name": "ipython",
    "version": 3
   },
   "file_extension": ".py",
   "mimetype": "text/x-python",
   "name": "python",
   "nbconvert_exporter": "python",
   "pygments_lexer": "ipython3",
   "version": "3.8.5"
  }
 },
 "nbformat": 4,
 "nbformat_minor": 5
}
