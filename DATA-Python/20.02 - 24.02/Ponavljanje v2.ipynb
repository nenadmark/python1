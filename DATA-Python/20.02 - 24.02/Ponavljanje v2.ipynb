{
 "cells": [
  {
   "cell_type": "markdown",
   "id": "3cf77cfa",
   "metadata": {},
   "source": [
    "# Funkcije"
   ]
  },
  {
   "cell_type": "markdown",
   "id": "18def0e3",
   "metadata": {},
   "source": [
    "Napisati funkciju `baci_kockicu` koja simulira bacanje kockice te dobiveni rezultat ispisuje."
   ]
  },
  {
   "cell_type": "markdown",
   "id": "493bc07b",
   "metadata": {},
   "source": [
    "## Rješenje\n",
    "\n",
    "Kako bi simulirali bacanje kockice, prvo što nam je potrebno je importati modul `random` pomoću kojeg ćemo\n",
    "generirati nasumične brojeve što nam simulira bacanje kockice."
   ]
  },
  {
   "cell_type": "code",
   "execution_count": 1,
   "id": "60387192",
   "metadata": {},
   "outputs": [],
   "source": [
    "import random as rd"
   ]
  },
  {
   "cell_type": "markdown",
   "id": "a5d728f5",
   "metadata": {},
   "source": [
    "Funkciju definiramo pomoću ključne riječi `def` nakon koje slijedi naziv funkcije te unutar zagrada argumenti, ukoliko ih funkcija ima."
   ]
  },
  {
   "cell_type": "code",
   "execution_count": 2,
   "id": "ca2c67d8",
   "metadata": {},
   "outputs": [],
   "source": [
    "def baci_kockicu():\n",
    "    pass"
   ]
  },
  {
   "cell_type": "markdown",
   "id": "d7c4dd25",
   "metadata": {},
   "source": [
    "Ovo je osnovni oblik funkcije. Idemo sad dovršiti funkciju kako bi radila ono što je zadano u samom zadatku."
   ]
  },
  {
   "cell_type": "code",
   "execution_count": 3,
   "id": "4d69e575",
   "metadata": {},
   "outputs": [],
   "source": [
    "def baci_kockicu():\n",
    "    broj = rd.randint(1, 6)\n",
    "    print(f\"Dobiveni broj je {broj}\")"
   ]
  },
  {
   "cell_type": "markdown",
   "id": "10247962",
   "metadata": {},
   "source": [
    "Nakon što funkciju definirano, potrebno ju je pozvati. Idemo pozvati funkciju 6 puta što bi nam trebalo simulirati 6 bacanja kockice."
   ]
  },
  {
   "cell_type": "code",
   "execution_count": 4,
   "id": "a5bfdf7c",
   "metadata": {},
   "outputs": [
    {
     "name": "stdout",
     "output_type": "stream",
     "text": [
      "Dobiveni broj je 3\n",
      "Dobiveni broj je 1\n",
      "Dobiveni broj je 3\n",
      "Dobiveni broj je 3\n",
      "Dobiveni broj je 1\n",
      "Dobiveni broj je 4\n"
     ]
    }
   ],
   "source": [
    "for i in range(6):\n",
    "    baci_kockicu()"
   ]
  },
  {
   "cell_type": "markdown",
   "id": "264ab1d5",
   "metadata": {},
   "source": [
    "### Nadogradnja rješenja\n",
    "\n",
    "Funkciju `baci_kockicu` je potrebno nadograditi tako da podržava sljedeće:\n",
    "- simuliranja bacanja više kockica istovremeno\n",
    "- simulira više od jednog bacanja\n",
    "- omogućava bacanja \"kockica\" koje ne moraju nužno imati 6 stranica"
   ]
  },
  {
   "cell_type": "markdown",
   "id": "9d5750c6",
   "metadata": {},
   "source": [
    "#### Više kockica istovremeno"
   ]
  },
  {
   "cell_type": "code",
   "execution_count": 5,
   "id": "48757e45",
   "metadata": {},
   "outputs": [],
   "source": [
    "def baci_kockicu(broj_kockica=1):\n",
    "    for kockica in range(broj_kockica):\n",
    "        broj = rd.randint(1, 6)\n",
    "        print(f\"Bacanje kockice broj {kockica + 1}: {broj}\")\n"
   ]
  },
  {
   "cell_type": "code",
   "execution_count": 6,
   "id": "6e24e2fd",
   "metadata": {},
   "outputs": [
    {
     "name": "stdout",
     "output_type": "stream",
     "text": [
      "Bacanje kockice broj 1: 3\n",
      "Bacanje kockice broj 1: 4\n",
      "Bacanje kockice broj 2: 4\n",
      "Bacanje kockice broj 1: 6\n",
      "Bacanje kockice broj 2: 2\n",
      "Bacanje kockice broj 3: 3\n",
      "Bacanje kockice broj 4: 1\n",
      "Bacanje kockice broj 5: 5\n"
     ]
    }
   ],
   "source": [
    "# bacanje jedne kockice\n",
    "baci_kockicu()\n",
    "\n",
    "# bacanje dvije kockice\n",
    "baci_kockicu(2)\n",
    "\n",
    "# bacanje 5 kockica\n",
    "baci_kockicu(broj_kockica=5)"
   ]
  },
  {
   "cell_type": "markdown",
   "id": "cf602cf7",
   "metadata": {},
   "source": [
    "### Više bacanja"
   ]
  },
  {
   "cell_type": "code",
   "execution_count": 7,
   "id": "40e0a037",
   "metadata": {},
   "outputs": [],
   "source": [
    "def baci_kockicu(broj_kockica=1, broj_bacanja=1):\n",
    "    for kockica in range(broj_kockica):\n",
    "        for bacanje in range(broj_bacanja):\n",
    "            broj = rd.randint(1, 6)\n",
    "            print(f\"{bacanje + 1}. bacanje kockice broj {kockica + 1}: {broj}\")"
   ]
  },
  {
   "cell_type": "code",
   "execution_count": 8,
   "id": "515b2dcb",
   "metadata": {},
   "outputs": [
    {
     "name": "stdout",
     "output_type": "stream",
     "text": [
      "1. bacanje kockice broj 1: 4\n",
      "********************\n",
      "1. bacanje kockice broj 1: 6\n",
      "1. bacanje kockice broj 2: 6\n",
      "********************\n",
      "1. bacanje kockice broj 1: 1\n",
      "2. bacanje kockice broj 1: 3\n",
      "********************\n",
      "1. bacanje kockice broj 1: 4\n",
      "2. bacanje kockice broj 1: 3\n",
      "3. bacanje kockice broj 1: 6\n",
      "1. bacanje kockice broj 2: 4\n",
      "2. bacanje kockice broj 2: 4\n",
      "3. bacanje kockice broj 2: 4\n",
      "********************\n"
     ]
    }
   ],
   "source": [
    "# bacanje 1 kockice jednom\n",
    "baci_kockicu()\n",
    "print(\"*\" * 20)\n",
    "\n",
    "# bacanje 2 kockice jednom\n",
    "baci_kockicu(broj_kockica=2)\n",
    "print(\"*\" * 20)\n",
    "\n",
    "# dva bacanja jedne kockice\n",
    "baci_kockicu(broj_bacanja=2)\n",
    "print(\"*\" * 20)\n",
    "\n",
    "# 3 bacanja dvije kockice\n",
    "baci_kockicu(broj_bacanja=3, broj_kockica=2)  # baci_kockicu(2, 3)\n",
    "print(\"*\" * 20)"
   ]
  },
  {
   "cell_type": "markdown",
   "id": "bdde72d3",
   "metadata": {},
   "source": [
    "### Broj stranica"
   ]
  },
  {
   "cell_type": "code",
   "execution_count": 9,
   "id": "972651ad",
   "metadata": {},
   "outputs": [],
   "source": [
    "def baci_kockicu(broj_kockica=1, broj_bacanja=1, broj_stranica=6):\n",
    "    for kockica in range(broj_kockica):\n",
    "        for bacanje in range(broj_bacanja):\n",
    "            broj = rd.randint(1, broj_stranica)\n",
    "            print(f\"{bacanje + 1}. bacanje kockice broj {kockica + 1} sa {broj_stranica} stranica: {broj}\")"
   ]
  },
  {
   "cell_type": "code",
   "execution_count": 10,
   "id": "4eb58b42",
   "metadata": {},
   "outputs": [
    {
     "name": "stdout",
     "output_type": "stream",
     "text": [
      "1. bacanje kockice broj 1 sa 4 stranica: 2\n",
      "********************\n",
      "1. bacanje kockice broj 1 sa 8 stranica: 7\n",
      "2. bacanje kockice broj 1 sa 8 stranica: 7\n",
      "3. bacanje kockice broj 1 sa 8 stranica: 4\n",
      "4. bacanje kockice broj 1 sa 8 stranica: 1\n",
      "5. bacanje kockice broj 1 sa 8 stranica: 5\n",
      "6. bacanje kockice broj 1 sa 8 stranica: 5\n",
      "7. bacanje kockice broj 1 sa 8 stranica: 8\n",
      "8. bacanje kockice broj 1 sa 8 stranica: 3\n",
      "9. bacanje kockice broj 1 sa 8 stranica: 4\n",
      "10. bacanje kockice broj 1 sa 8 stranica: 6\n",
      "********************\n",
      "1. bacanje kockice broj 1 sa 4 stranica: 3\n",
      "2. bacanje kockice broj 1 sa 4 stranica: 3\n",
      "3. bacanje kockice broj 1 sa 4 stranica: 4\n",
      "4. bacanje kockice broj 1 sa 4 stranica: 3\n",
      "1. bacanje kockice broj 2 sa 4 stranica: 4\n",
      "2. bacanje kockice broj 2 sa 4 stranica: 2\n",
      "3. bacanje kockice broj 2 sa 4 stranica: 2\n",
      "4. bacanje kockice broj 2 sa 4 stranica: 2\n",
      "********************\n"
     ]
    }
   ],
   "source": [
    "# jedno bacanje jedne četverostrane \"kocke\"\n",
    "baci_kockicu(broj_stranica=4)\n",
    "print(\"*\" * 20)\n",
    "\n",
    "# 10 bacanja jedne osmerostrane \"kocke\"\n",
    "baci_kockicu(broj_stranica=8, broj_bacanja=10)\n",
    "print(\"*\" * 20)\n",
    "\n",
    "# 4 bacanje dvije četverostrane \"kocke\"\n",
    "baci_kockicu(broj_bacanja=4, broj_kockica=2, broj_stranica=4)\n",
    "print(\"*\" * 20)"
   ]
  },
  {
   "cell_type": "markdown",
   "id": "3e946760",
   "metadata": {},
   "source": [
    "### Brojač \"rezultata\"\n",
    "\n",
    "Jednu šesterostranu kockicu baciti 6 milijuna puta i ispisati koliko se puta svaki broj pojavio."
   ]
  },
  {
   "cell_type": "markdown",
   "id": "cf8fbeea",
   "metadata": {},
   "source": [
    "S obzirom da nam trenutna verzija funkcije `baci_kockicu` ispisuje svako bacanje kockice, to nam nije baš pogodno za ovaj slučaj jer ne želimo 6 milijuna redaka u ispisu."
   ]
  },
  {
   "cell_type": "code",
   "execution_count": 11,
   "id": "c4e54077",
   "metadata": {},
   "outputs": [],
   "source": [
    "def prebroji_rezultate_bacanja(broj_bacanja):\n",
    "    brojaci = [0, 0, 0, 0, 0, 0]\n",
    "    # brojaci = {\n",
    "    # 1: 0,\n",
    "    # 2: 0,\n",
    "    # 3: 0,\n",
    "    # 4: 0,\n",
    "    # 5: 0,\n",
    "    # 6: 0\n",
    "    #}\n",
    "    # brojaci[broj] += 1\n",
    "    for i in range(broj_bacanja):\n",
    "        broj = rd.randint(1, 6)\n",
    "        brojaci[broj - 1] += 1\n",
    "    \n",
    "    for index, brojac in enumerate(brojaci):\n",
    "        print(f\"Broj {index + 1} se pojavio {brojaci[index]} puta.\")"
   ]
  },
  {
   "cell_type": "code",
   "execution_count": 12,
   "id": "5874d024",
   "metadata": {},
   "outputs": [
    {
     "name": "stdout",
     "output_type": "stream",
     "text": [
      "Broj 1 se pojavio 2 puta.\n",
      "Broj 2 se pojavio 4 puta.\n",
      "Broj 3 se pojavio 0 puta.\n",
      "Broj 4 se pojavio 1 puta.\n",
      "Broj 5 se pojavio 2 puta.\n",
      "Broj 6 se pojavio 1 puta.\n"
     ]
    }
   ],
   "source": [
    "prebroji_rezultate_bacanja(10)"
   ]
  },
  {
   "cell_type": "code",
   "execution_count": 13,
   "id": "289fb09d",
   "metadata": {},
   "outputs": [
    {
     "name": "stdout",
     "output_type": "stream",
     "text": [
      "Broj 1 se pojavio 1000328 puta.\n",
      "Broj 2 se pojavio 998912 puta.\n",
      "Broj 3 se pojavio 1000240 puta.\n",
      "Broj 4 se pojavio 999665 puta.\n",
      "Broj 5 se pojavio 999850 puta.\n",
      "Broj 6 se pojavio 1001005 puta.\n"
     ]
    }
   ],
   "source": [
    "prebroji_rezultate_bacanja(6000000)"
   ]
  },
  {
   "cell_type": "markdown",
   "id": "4ab48a54",
   "metadata": {},
   "source": [
    "## Zadatak\n",
    "\n",
    "### Igra na sreću s dvije šesterostrane kockice"
   ]
  },
  {
   "cell_type": "markdown",
   "id": "2a866809",
   "metadata": {},
   "source": [
    "*Pravila:* igrač baca dvije šesterostrane kockice. Ako je zbroj dobivenih brojeva u prvom bacanju 7 ili 11, igrač je pobijedio. Ako je zbroj dobivenih brojeva: 4, 5, 6, 8, 9 ili 10, onda taj broj postaje CILJ, odnosno igrač mora bacati kockice sve dok zbroj dobivenih brojeva ne bude CILJ. Ako je u prvom ili bilo kojem drugom bacanju igrač dobio zbroj brojeva: 2, 3 ili 12, igrač je izgubio."
   ]
  },
  {
   "cell_type": "code",
   "execution_count": 14,
   "id": "55360edb",
   "metadata": {},
   "outputs": [],
   "source": [
    "def bacanje_kockica():\n",
    "    prva = rd.randint(1, 6)\n",
    "    druga = rd.randint(1, 6)\n",
    "    print(f\"Bacili ste {prva} + {druga} = {prva + druga}\")\n",
    "    \n",
    "    return prva + druga"
   ]
  },
  {
   "cell_type": "code",
   "execution_count": 15,
   "id": "7061e785",
   "metadata": {},
   "outputs": [
    {
     "name": "stdout",
     "output_type": "stream",
     "text": [
      "Bacili ste 4 + 2 = 6\n"
     ]
    }
   ],
   "source": [
    "zbroj = bacanje_kockica()\n"
   ]
  },
  {
   "cell_type": "code",
   "execution_count": 16,
   "id": "f2469db5",
   "metadata": {},
   "outputs": [
    {
     "name": "stdout",
     "output_type": "stream",
     "text": [
      "Bacili ste 1 + 4 = 5\n",
      "Bacam ponovno...\n",
      "Bacili ste 6 + 1 = 7\n",
      "Bacili ste 5 + 6 = 11\n",
      "Bacili ste 6 + 6 = 12\n",
      "Izgubili ste!\n"
     ]
    }
   ],
   "source": [
    "zbroj = bacanje_kockica()\n",
    "#if zbroj == 7 or zbroj == 11:\n",
    "if zbroj in [7, 11]:\n",
    "    print(\"Pobijedili ste!\")\n",
    "elif zbroj in [2, 3, 12]:\n",
    "    print(\"Izgubili ste!\")\n",
    "else:\n",
    "    print(\"Bacam ponovno...\")\n",
    "    while True:\n",
    "        rezultat = bacanje_kockica()\n",
    "        if rezultat in [2, 3, 12]:\n",
    "            print(\"Izgubili ste!\")\n",
    "            break\n",
    "        elif rezultat == zbroj:\n",
    "            print(f\"Pobijedili ste ({zbroj})!\")\n",
    "            break"
   ]
  },
  {
   "cell_type": "markdown",
   "id": "25942038",
   "metadata": {},
   "source": [
    "## Lambda ili anonimne funkcije"
   ]
  },
  {
   "cell_type": "markdown",
   "id": "4da3e804",
   "metadata": {},
   "source": [
    "*Lambda* funkcije ne definiraju se pomoću ključne riječi *def* i ne dodjeljuje im se naziv. Zbog toga se te funkcije NE mogu pozivati iz različitih dijelova kôda kao \"obične\" funkcije koje smo do sada koristili, ali lambda funkcije mogu pohraniti vrijednost u neku varijablu i na takav se način koristiti više puta.\n",
    "\n",
    "Skraćeno, lambda funkcije su funkcije koje NEMAJU naziv, MOGU imati više argumenata te IMAJU jednu naredbu u jednoj liniji kôda (jedan *statement*)."
   ]
  },
  {
   "cell_type": "code",
   "execution_count": 17,
   "id": "cf18ad19",
   "metadata": {},
   "outputs": [
    {
     "name": "stdout",
     "output_type": "stream",
     "text": [
      "3\n",
      "8\n",
      "8\n"
     ]
    }
   ],
   "source": [
    "def zbroj(arg1, arg2):\n",
    "    return arg1 + arg2\n",
    "\n",
    "print(zbroj(1, 2))\n",
    "print(zbroj(5, 3))\n",
    "print(zbroj(7, 1))"
   ]
  },
  {
   "cell_type": "code",
   "execution_count": 18,
   "id": "8b5e2263",
   "metadata": {},
   "outputs": [],
   "source": [
    "varijabla = lambda argument1, argument2: argument1 + argument2"
   ]
  },
  {
   "cell_type": "code",
   "execution_count": 19,
   "id": "ca892b77",
   "metadata": {},
   "outputs": [
    {
     "name": "stdout",
     "output_type": "stream",
     "text": [
      "3\n"
     ]
    }
   ],
   "source": [
    "print(varijabla(1, 2))"
   ]
  },
  {
   "cell_type": "code",
   "execution_count": 20,
   "id": "1f6e8526",
   "metadata": {},
   "outputs": [
    {
     "name": "stdout",
     "output_type": "stream",
     "text": [
      "7\n"
     ]
    }
   ],
   "source": [
    "print(varijabla(3, 4))"
   ]
  },
  {
   "cell_type": "code",
   "execution_count": 21,
   "id": "4dbffbcb",
   "metadata": {},
   "outputs": [
    {
     "name": "stdout",
     "output_type": "stream",
     "text": [
      "12\n"
     ]
    }
   ],
   "source": [
    "print(varijabla(7, 5))"
   ]
  },
  {
   "cell_type": "markdown",
   "id": "7345fe5e",
   "metadata": {},
   "source": [
    "Dakle funkcioniraju kao obična funkcija samo što smo:<br>\n",
    "- zamijenili \"def naziv funkcije\" ključnom riječi *lambda*\n",
    "- argument ili više njih pišemo bez zagrade, ali nakon argumenata i dalje navodimo dvotočku\n",
    "- nakon dvotočke dolazi jedna linija kôda bez ključne riječi \"return\" koja se podrazumijeva."
   ]
  },
  {
   "cell_type": "code",
   "execution_count": 22,
   "id": "e151ea90",
   "metadata": {},
   "outputs": [
    {
     "name": "stdout",
     "output_type": "stream",
     "text": [
      "Ime Prezime\n",
      "Bla Bla\n",
      "Ime Prezime\n",
      "Bla Bla\n",
      "Bla Ime Bla Prezime\n"
     ]
    }
   ],
   "source": [
    "def capitalize_letters(first_name, last_name):\n",
    "    return f\"{first_name.title()} {last_name.title()}\"\n",
    "\n",
    "capitalize = lambda first, last: f\"{first.title()} {last.title()}\"\n",
    "\n",
    "print(capitalize_letters(\"ime\", \"prezime\"))\n",
    "print(capitalize_letters(\"bla\", \"bla\"))\n",
    "print(capitalize(\"ime\", \"prezime\"))\n",
    "print(capitalize(\"bla\", \"bla\"))\n",
    "print(capitalize(\"bla ime\", \"bla prezime\"))"
   ]
  },
  {
   "cell_type": "code",
   "execution_count": 23,
   "id": "d4e7cf2d",
   "metadata": {},
   "outputs": [
    {
     "data": {
      "text/plain": [
       "8"
      ]
     },
     "execution_count": 23,
     "metadata": {},
     "output_type": "execute_result"
    }
   ],
   "source": [
    "(lambda argument1, argument2: argument1 + argument2)(5, 3)"
   ]
  },
  {
   "cell_type": "markdown",
   "id": "753bbd42",
   "metadata": {},
   "source": [
    "# Klase"
   ]
  },
  {
   "cell_type": "markdown",
   "id": "befde9c0",
   "metadata": {},
   "source": [
    "Napisati klasu `Kocka`. Potrebno je omogućiti instanciranje kocki sa različitim brojem stranica. Također, svaka kocka treba imati metodu koja će omogućiti njezino bacanje te ispisati rezultat tog bacanja."
   ]
  },
  {
   "cell_type": "code",
   "execution_count": 24,
   "id": "54473376",
   "metadata": {},
   "outputs": [],
   "source": [
    "class Kocka:\n",
    "    def __init__(self, broj_stranica=6):\n",
    "        self.broj_stranica = broj_stranica\n",
    "    \n",
    "    def baci(self):\n",
    "        broj = rd.randint(1, self.broj_stranica)\n",
    "        print(f\"Dobili ste {broj}.\")"
   ]
  },
  {
   "cell_type": "code",
   "execution_count": 25,
   "id": "7e9c62d2",
   "metadata": {},
   "outputs": [
    {
     "name": "stdout",
     "output_type": "stream",
     "text": [
      "Dobili ste 2.\n"
     ]
    }
   ],
   "source": [
    "kocka_1 = Kocka()\n",
    "kocka_2 = Kocka(6)\n",
    "kocka_3 = Kocka(4)\n",
    "\n",
    "kocka_1.baci()"
   ]
  },
  {
   "cell_type": "code",
   "execution_count": 26,
   "id": "1acff625",
   "metadata": {},
   "outputs": [
    {
     "name": "stdout",
     "output_type": "stream",
     "text": [
      "Dobili ste 1.\n"
     ]
    }
   ],
   "source": [
    "kocka_2.baci()"
   ]
  },
  {
   "cell_type": "code",
   "execution_count": 27,
   "id": "e68d2f43",
   "metadata": {},
   "outputs": [
    {
     "name": "stdout",
     "output_type": "stream",
     "text": [
      "Dobili ste 3.\n"
     ]
    }
   ],
   "source": [
    "kocka_3.baci()"
   ]
  },
  {
   "cell_type": "markdown",
   "id": "fa3fb98a",
   "metadata": {},
   "source": [
    "### Nadogradnja klase `Kocka`\n",
    "\n",
    "Nadograditi klasu `Kocka` tako da joj dodate metodu koja će ispisati koliko je puta ta pojedina kocka bačena."
   ]
  },
  {
   "cell_type": "code",
   "execution_count": 28,
   "id": "f5e31647",
   "metadata": {},
   "outputs": [],
   "source": [
    "class Kocka:\n",
    "    def __init__(self, broj_stranica=6):\n",
    "        self.broj_stranica = broj_stranica\n",
    "        self.ukupan_broj_bacanja = 0\n",
    "    \n",
    "    def baci(self):\n",
    "        broj = rd.randint(1, self.broj_stranica)\n",
    "        self.ukupan_broj_bacanja += 1\n",
    "        print(f\"Dobili ste {broj}.\")\n",
    "        \n",
    "    def ispisi_ukupan_broj_bacanja(self):\n",
    "        print(f\"Kocka je ukupno bačena {self.ukupan_broj_bacanja} puta.\")"
   ]
  },
  {
   "cell_type": "code",
   "execution_count": 29,
   "id": "5ae3ab8d",
   "metadata": {},
   "outputs": [
    {
     "name": "stdout",
     "output_type": "stream",
     "text": [
      "Kocka je ukupno bačena 0 puta.\n",
      "Dobili ste 2.\n",
      "Dobili ste 4.\n",
      "Kocka je ukupno bačena 2 puta.\n"
     ]
    }
   ],
   "source": [
    "kocka_1 = Kocka()\n",
    "\n",
    "kocka_1.ispisi_ukupan_broj_bacanja()\n",
    "\n",
    "kocka_1.baci()\n",
    "kocka_1.baci()\n",
    "\n",
    "kocka_1.ispisi_ukupan_broj_bacanja()"
   ]
  },
  {
   "cell_type": "markdown",
   "id": "300a50af",
   "metadata": {},
   "source": [
    "### Dodatna nadogradnja klase `Kocka`\n",
    "\n",
    "Nadograditi klasu `Kocka` tako da joj dodate mogućnost ispisa koliko je puta određeni broj na njoj bačen."
   ]
  },
  {
   "cell_type": "code",
   "execution_count": 30,
   "id": "72d49fbd",
   "metadata": {},
   "outputs": [],
   "source": [
    "class Kocka:\n",
    "    def __init__(self, broj_stranica=6):\n",
    "        self.broj_stranica = broj_stranica\n",
    "        self.ukupan_broj_bacanja = 0\n",
    "        self.broj_ponavljanja = [0 for _ in range(broj_stranica)]\n",
    "    \n",
    "    def baci(self):\n",
    "        broj = rd.randint(1, self.broj_stranica)\n",
    "        self.ukupan_broj_bacanja += 1\n",
    "        self.broj_ponavljanja[broj - 1] += 1\n",
    "        print(f\"Dobili ste {broj}.\")\n",
    "        \n",
    "    def ispisi_ukupan_broj_bacanja(self):\n",
    "        print(f\"Kocka je ukupno bačena {self.ukupan_broj_bacanja} puta.\")\n",
    "    \n",
    "    def ispis_broja_bacanja_za_broj(self, broj):\n",
    "        print(f\"Broj {broj} na ovoj kocki je bačen {self.broj_ponavljanja[broj - 1]} puta.\")"
   ]
  },
  {
   "cell_type": "code",
   "execution_count": 31,
   "id": "4379997a",
   "metadata": {},
   "outputs": [
    {
     "name": "stdout",
     "output_type": "stream",
     "text": [
      "Kocka je ukupno bačena 0 puta.\n",
      "Dobili ste 2.\n",
      "Dobili ste 6.\n",
      "Dobili ste 4.\n",
      "Dobili ste 5.\n",
      "Dobili ste 2.\n",
      "Dobili ste 2.\n",
      "Kocka je ukupno bačena 6 puta.\n"
     ]
    }
   ],
   "source": [
    "kocka_1 = Kocka()\n",
    "\n",
    "kocka_1.ispisi_ukupan_broj_bacanja()\n",
    "\n",
    "kocka_1.baci()\n",
    "kocka_1.baci()\n",
    "kocka_1.baci()\n",
    "kocka_1.baci()\n",
    "kocka_1.baci()\n",
    "kocka_1.baci()\n",
    "\n",
    "kocka_1.ispisi_ukupan_broj_bacanja()"
   ]
  },
  {
   "cell_type": "code",
   "execution_count": 32,
   "id": "a2a10fa5",
   "metadata": {},
   "outputs": [
    {
     "name": "stdout",
     "output_type": "stream",
     "text": [
      "Broj 4 na ovoj kocki je bačen 1 puta.\n"
     ]
    }
   ],
   "source": [
    "kocka_1.ispis_broja_bacanja_za_broj(4)"
   ]
  },
  {
   "cell_type": "code",
   "execution_count": 33,
   "id": "f294e2b3",
   "metadata": {},
   "outputs": [
    {
     "name": "stdout",
     "output_type": "stream",
     "text": [
      "Broj 1 na ovoj kocki je bačen 0 puta.\n"
     ]
    }
   ],
   "source": [
    "kocka_1.ispis_broja_bacanja_za_broj(1)"
   ]
  },
  {
   "cell_type": "code",
   "execution_count": 34,
   "id": "cb4f114e",
   "metadata": {},
   "outputs": [
    {
     "name": "stdout",
     "output_type": "stream",
     "text": [
      "Broj 6 na ovoj kocki je bačen 1 puta.\n"
     ]
    }
   ],
   "source": [
    "kocka_1.ispis_broja_bacanja_za_broj(6)"
   ]
  },
  {
   "cell_type": "code",
   "execution_count": 35,
   "id": "24324834",
   "metadata": {},
   "outputs": [
    {
     "name": "stdout",
     "output_type": "stream",
     "text": [
      "Broj 5 na ovoj kocki je bačen 1 puta.\n"
     ]
    }
   ],
   "source": [
    "kocka_1.ispis_broja_bacanja_za_broj(5)"
   ]
  },
  {
   "cell_type": "code",
   "execution_count": 36,
   "id": "ce3bece2",
   "metadata": {},
   "outputs": [
    {
     "name": "stdout",
     "output_type": "stream",
     "text": [
      "Broj 3 na ovoj kocki je bačen 0 puta.\n"
     ]
    }
   ],
   "source": [
    "kocka_1.ispis_broja_bacanja_za_broj(3)"
   ]
  },
  {
   "cell_type": "code",
   "execution_count": 37,
   "id": "ae192c10",
   "metadata": {},
   "outputs": [
    {
     "ename": "IndexError",
     "evalue": "list index out of range",
     "output_type": "error",
     "traceback": [
      "\u001b[1;31m---------------------------------------------------------------------------\u001b[0m",
      "\u001b[1;31mIndexError\u001b[0m                                Traceback (most recent call last)",
      "Cell \u001b[1;32mIn[37], line 1\u001b[0m\n\u001b[1;32m----> 1\u001b[0m \u001b[43mkocka_1\u001b[49m\u001b[38;5;241;43m.\u001b[39;49m\u001b[43mispis_broja_bacanja_za_broj\u001b[49m\u001b[43m(\u001b[49m\u001b[38;5;241;43m8\u001b[39;49m\u001b[43m)\u001b[49m\n",
      "Cell \u001b[1;32mIn[30], line 17\u001b[0m, in \u001b[0;36mKocka.ispis_broja_bacanja_za_broj\u001b[1;34m(self, broj)\u001b[0m\n\u001b[0;32m     16\u001b[0m \u001b[38;5;28;01mdef\u001b[39;00m \u001b[38;5;21mispis_broja_bacanja_za_broj\u001b[39m(\u001b[38;5;28mself\u001b[39m, broj):\n\u001b[1;32m---> 17\u001b[0m     \u001b[38;5;28mprint\u001b[39m(\u001b[38;5;124mf\u001b[39m\u001b[38;5;124m\"\u001b[39m\u001b[38;5;124mBroj \u001b[39m\u001b[38;5;132;01m{\u001b[39;00mbroj\u001b[38;5;132;01m}\u001b[39;00m\u001b[38;5;124m na ovoj kocki je bačen \u001b[39m\u001b[38;5;132;01m{\u001b[39;00m\u001b[38;5;28mself\u001b[39m\u001b[38;5;241m.\u001b[39mbroj_ponavljanja[broj\u001b[38;5;250m \u001b[39m\u001b[38;5;241m-\u001b[39m\u001b[38;5;250m \u001b[39m\u001b[38;5;241m1\u001b[39m]\u001b[38;5;132;01m}\u001b[39;00m\u001b[38;5;124m puta.\u001b[39m\u001b[38;5;124m\"\u001b[39m)\n",
      "\u001b[1;31mIndexError\u001b[0m: list index out of range"
     ]
    }
   ],
   "source": [
    "kocka_1.ispis_broja_bacanja_za_broj(8)"
   ]
  },
  {
   "cell_type": "markdown",
   "id": "b214a4f9",
   "metadata": {},
   "source": [
    "# Zadatak"
   ]
  },
  {
   "cell_type": "markdown",
   "id": "6250d3db",
   "metadata": {},
   "source": [
    "## Klasa Kupac i Adresa\n",
    "\n",
    "Napisati klasu `Kupac` koja se sastoji od sljedećih atributa:\n",
    "- OIB (string)\n",
    "- ime (string)\n",
    "- prezime (string)\n",
    "- adresa (objekt tipa `Adresa`)\n",
    "- datum rođenja (`datetime` objekt)\n",
    "- premium (boolean)\n",
    "\n",
    "Klasa `Adresa` se treba sastojati od:\n",
    "- država (string)\n",
    "- grad (string)\n",
    "- poštanski broj (string)\n",
    "- ulica (string)\n",
    "- kućni broj (string)\n",
    "- dodatak (string i opcionalni atribut)\n",
    "\n",
    "Klasi `Kupac` dodati sljedeće metode:\n",
    "- starost - vraća dob kupca\n",
    "- ispis_adrese - ispisuje adresu kupca\n",
    "- OIB_ispravan - provjerava ispravnost formata OIB-a\n",
    "- validiraj_kupca - metoda koja objedinjuje sve provjera ispravnosti atributa\n",
    "- zapisi_kupca - metoda koja podatke o kupcu sprema u datoteku `kupci.csv`\n",
    "\n",
    "Klasi `Adresa` dodati sljedeće metode:\n",
    "- formatiranje_adrese - vraća adresu u proizvoljnom formatu (imati u vidu da je dodatak opcionalan)\n"
   ]
  },
  {
   "cell_type": "code",
   "execution_count": 50,
   "id": "a8d13123",
   "metadata": {},
   "outputs": [],
   "source": [
    "import datetime as dt\n",
    "from dateutil.relativedelta import relativedelta\n",
    "\n",
    "import csv\n",
    "import os"
   ]
  },
  {
   "cell_type": "code",
   "execution_count": 39,
   "id": "2bfd55ff",
   "metadata": {},
   "outputs": [],
   "source": [
    "class Adresa:\n",
    "    def __init__(self, drzava, grad, pbr, ulica, kbr, dodatak=\"\"):\n",
    "        self.drzava = drzava\n",
    "        self.grad = grad\n",
    "        self.postanski_broj = pbr\n",
    "        self.ulica = ulica\n",
    "        self.kucni_broj = kbr\n",
    "        self.dodatak = dodatak\n",
    "        \n",
    "    def __repr__(self):\n",
    "        return f\"{self.ulica} {self.kucni_broj}, {self.grad}\"\n",
    "    \n",
    "    def formatiranje_adrese(self):\n",
    "        if self.dodatak:\n",
    "            return f\"{self.ulica} {self.kucni_broj}, {self.dodatak}, {self.postanski_broj}, {self.grad}, {self.drzava}\"\n",
    "        else:\n",
    "            return f\"{self.ulica} {self.kucni_broj}, {self.postanski_broj}, {self.grad}, {self.drzava}\""
   ]
  },
  {
   "cell_type": "code",
   "execution_count": 40,
   "id": "2423a702",
   "metadata": {},
   "outputs": [],
   "source": [
    "class Kupac:\n",
    "    def __init__(self, OIB, ime, prezime, adresa, datum_rodenja, premium=False):\n",
    "        self.OIB = OIB\n",
    "        self.ime = ime\n",
    "        self.prezime = prezime\n",
    "        self.adresa = adresa\n",
    "        self.datum_rodenja = datum_rodenja\n",
    "        self.premium = premium\n",
    "        self.validiraj_kupca()\n",
    "        self.zapisi_kupca()\n",
    "        \n",
    "    def __repr__(self):\n",
    "        return f\"{self.ime} {self.prezime}\"\n",
    "    \n",
    "    @property\n",
    "    def starost(self):\n",
    "        return relativedelta(dt.datetime.now(), self.datum_rodenja).years\n",
    "    \n",
    "    def ispis_adrese(self):\n",
    "        print(self.adresa.formatiranje_adrese())\n",
    "    \n",
    "    def OIB_ispravan(self):\n",
    "        if len(self.OIB) != 11:\n",
    "            return False\n",
    "        if not self.OIB.isdigit():\n",
    "            return False\n",
    "        return True\n",
    "    \n",
    "    def validiraj_kupca(self):\n",
    "        if not self.OIB_ispravan():\n",
    "            raise ValueError(\"OIB nije u ispravnom formatu!\")\n",
    "        if not isinstance(self.adresa, Adresa):\n",
    "            raise ValueError(\"Adresa mora biti objekt tipa 'Adresa'!\")\n",
    "        if not isinstance(self.datum_rodenja, dt.datetime):\n",
    "            raise ValueError(\"Datum rođenja mora biti 'datetime' objekt!\")\n",
    "    \n",
    "    def zapisi_kupca(self):\n",
    "        stupci = [\n",
    "            \"OIB\", \"Ime\", \"Prezime\", \"Drzava\", \"Grad\", \"Postanski broj\",\n",
    "            \"Ulica\", \"Kucni broj\", \"Dodatak\", \"Datum rodenja\", \"Premium\"\n",
    "        ]\n",
    "        filename = \"kupci.csv\"\n",
    "        datoteka_postoji = os.path.isfile(filename)\n",
    "        \n",
    "        with open(filename, \"a\", newline=\"\") as file:\n",
    "            writer = csv.writer(file)\n",
    "            if not datoteka_postoji:\n",
    "                writer.writerow(stupci)\n",
    "            datum_rodenja = self.datum_rodenja.strftime(\"%d.%m.%Y %H:%M:%S\")\n",
    "            premium = \"DA\" if self.premium else \"NE\"\n",
    "            writer.writerow([\n",
    "                self.OIB, self.ime, self.prezime, self.adresa.drzava, self.adresa.grad,\n",
    "                self.adresa.postanski_broj, self.adresa.ulica, self.adresa.kucni_broj,\n",
    "                self.adresa.dodatak, datum_rodenja, premium\n",
    "            ])"
   ]
  },
  {
   "cell_type": "markdown",
   "id": "bbf97517",
   "metadata": {},
   "source": [
    "Instancirati 5 novih adresa i 5 kupaca."
   ]
  },
  {
   "cell_type": "code",
   "execution_count": 41,
   "id": "ea778edc",
   "metadata": {},
   "outputs": [
    {
     "name": "stdout",
     "output_type": "stream",
     "text": [
      "Ilica 1, Zagreb\n",
      "Zagrebacka 10A, Osijek\n",
      "Mariborska 7, 1000, Ljubljana, Slovenija\n",
      "Park Avenue 5C, 10001, New York, USA\n",
      "King's Road 5A, London\n"
     ]
    }
   ],
   "source": [
    "adresa_1 = Adresa(\"Hrvatska\", \"Zagreb\", \"10000\", \"Ilica\", \"1\")\n",
    "adresa_2 = Adresa(\"Hrvatska\", \"Osijek\", \"31000\", \"Zagrebacka\", \"10A\", \"1. kat, 2. ulaz\")\n",
    "adresa_3 = Adresa(\"Slovenija\", \"Ljubljana\", \"1000\", \"Mariborska\", \"7\")\n",
    "adresa_4 = Adresa(\"USA\", \"New York\", \"10001\", \"Park Avenue\", \"5C\")\n",
    "adresa_5 = Adresa(\"Engleska\", \"London\", \"SW1W 0NY\", \"King's Road\", \"5A\")\n",
    "\n",
    "print(adresa_1)\n",
    "print(adresa_2)\n",
    "print(adresa_3.formatiranje_adrese())\n",
    "print(adresa_4.formatiranje_adrese())\n",
    "print(adresa_5)"
   ]
  },
  {
   "cell_type": "code",
   "execution_count": 42,
   "id": "0f40cfc6",
   "metadata": {},
   "outputs": [],
   "source": [
    "kupac_1 = Kupac(\n",
    "    OIB='12345678910',\n",
    "    ime='Pero',\n",
    "    prezime='Peric',\n",
    "    adresa=adresa_1,\n",
    "    datum_rodenja=dt.datetime(1990, 1, 1, 12, 0, 0),\n",
    "    premium=True\n",
    ")"
   ]
  },
  {
   "cell_type": "code",
   "execution_count": 43,
   "id": "a6b08c86",
   "metadata": {},
   "outputs": [
    {
     "name": "stdout",
     "output_type": "stream",
     "text": [
      "33\n"
     ]
    }
   ],
   "source": [
    "print(kupac_1.starost)"
   ]
  },
  {
   "cell_type": "code",
   "execution_count": 44,
   "id": "40699df5",
   "metadata": {},
   "outputs": [],
   "source": [
    "kupac_2 = Kupac(\n",
    "    OIB='10987654321',\n",
    "    ime='John',\n",
    "    prezime='Doe',\n",
    "    adresa=adresa_2,\n",
    "    datum_rodenja=dt.datetime(1985, 5, 5)\n",
    ")"
   ]
  },
  {
   "cell_type": "code",
   "execution_count": 45,
   "id": "30a4376a",
   "metadata": {},
   "outputs": [],
   "source": [
    "kupac_3 = Kupac(\n",
    "    OIB='12345109876',\n",
    "    ime='Jane',\n",
    "    prezime='Doe',\n",
    "    adresa=adresa_3,\n",
    "    datum_rodenja=dt.datetime(1987, 10, 10),\n",
    "    premium=True\n",
    ")"
   ]
  },
  {
   "cell_type": "code",
   "execution_count": 46,
   "id": "5dc58eb9",
   "metadata": {},
   "outputs": [],
   "source": [
    "kupac_4 = Kupac(\n",
    "    OIB='10987612345',\n",
    "    ime='George',\n",
    "    prezime='Peric',\n",
    "    adresa=adresa_4,\n",
    "    datum_rodenja=dt.datetime(1980, 1, 15)\n",
    ")"
   ]
  },
  {
   "cell_type": "code",
   "execution_count": 47,
   "id": "f931b8f4",
   "metadata": {},
   "outputs": [],
   "source": [
    "kupac_5 = Kupac(\n",
    "    OIB='54398721910',\n",
    "    ime='Anne',\n",
    "    prezime='Doe',\n",
    "    adresa=adresa_5,\n",
    "    datum_rodenja=dt.datetime(1995, 12, 12)\n",
    ")"
   ]
  },
  {
   "cell_type": "markdown",
   "id": "55c726bc",
   "metadata": {},
   "source": [
    "## Klasa Proizvod"
   ]
  },
  {
   "cell_type": "markdown",
   "id": "6f282578",
   "metadata": {},
   "source": [
    "Napisati klasu `Proizvod` sa svim potrebnim atributima. U `products.csv` se može vidjeti koji su sve atributi potrebni i koji je tip svakog podatka.\n",
    "\n",
    "Dodatni, dodati metode:\n",
    "- `dostupno` - vraća boolean vrijednost ovisno o tome ima li proizvoda na stanju.\n",
    "- `cjenovni_rang` - ukoliko je cijena niža od 100.0, vraća NISKI. Ukoliko je cijena između 100 i 500, vraća SREDNJI, inače vraća VISOKI.\n",
    "\n",
    "Jednu i drugu metodu implementirati koristeći dekorator `@property`."
   ]
  },
  {
   "cell_type": "code",
   "execution_count": 48,
   "id": "0f028b59",
   "metadata": {},
   "outputs": [],
   "source": [
    "class Proizvod:\n",
    "    def __init__(self, ID, naziv, opis, proizvodac, cijena, kolicina):\n",
    "        self.id = ID\n",
    "        self.naziv = naziv\n",
    "        self.opis = opis\n",
    "        self.proizvodac = proizvodac\n",
    "        self.cijena = cijena\n",
    "        self.kolicina = kolicina\n",
    "    \n",
    "    @property\n",
    "    def dostupno(self):\n",
    "        return self.kolicina > 0\n",
    "    \n",
    "    @property\n",
    "    def cjenovni_rang(self):\n",
    "        if self.cijena < 100:\n",
    "            return \"NISKI\"\n",
    "        elif 100 <= self.cijena <= 500:\n",
    "            return \"SREDNJI\"\n",
    "        else:\n",
    "            return \"VISOKI\""
   ]
  },
  {
   "cell_type": "markdown",
   "id": "a24320d4",
   "metadata": {},
   "source": [
    "## Klasa Webshop\n",
    "\n",
    "Napisati klasu `Webshop` sa sljedećim svojstvima:\n",
    "- naziv (string)\n",
    "- naziv_ulazne_datoteke (string) - predstavlja naziv datoteke u kojoj se nalazi proizvodi ovog webshopa\n",
    "- lista_proizvoda (lista objekata tipa `Proizvod`)\n",
    "\n",
    "Dodati metodu `ucitaj_proizvode` koja će u listu `lista_proizvoda` učitati sve proizvode iz datoteke spremljene pod naziv `<naziv_ulazne_datoteke>.csv`.\n",
    "\n",
    "Dodati metodu `kupi_proizvod` koja će simulirati kupovinu jednog proizvoda s nekim ID-om."
   ]
  },
  {
   "cell_type": "code",
   "execution_count": 82,
   "id": "1e7566a0",
   "metadata": {},
   "outputs": [],
   "source": [
    "class Webshop:\n",
    "    def __init__(self, naziv, filename):\n",
    "        self.naziv = naziv\n",
    "        self.naziv_ulazne_datoteke = filename\n",
    "        self.lista_proizvoda = self.ucitaj_proizvode()\n",
    "        \n",
    "    def ucitaj_proizvode(self):\n",
    "        proizvodi = []\n",
    "        with open(self.naziv_ulazne_datoteke, \"r\") as csvfile:\n",
    "            # reader = csv.reader(csvfile)\n",
    "            reader = csv.DictReader(csvfile)\n",
    "            for row in reader:\n",
    "                proizvod = Proizvod(\n",
    "                    ID=int(row[\"ID\"]),\n",
    "                    naziv=row[\"Name\"],\n",
    "                    opis=row[\"Description\"],\n",
    "                    proizvodac=row[\"Manufacturer\"],\n",
    "                    cijena=float(row[\"Price\"]),\n",
    "                    kolicina=int(row[\"Quantity\"]) if row[\"Quantity\"] else 0\n",
    "                )\n",
    "                proizvodi.append(proizvod)\n",
    "        return proizvodi\n",
    "    \n",
    "    def kupi_proizvod(self, proizvod_id):\n",
    "        filtrirani_proizvodi = [proizvod for proizvod in self.lista_proizvoda if proizvod.id == proizvod_id]\n",
    "        if filtrirani_proizvodi:\n",
    "            proizvod = filtrirani_proizvodi[0]\n",
    "            if proizvod.dostupno:\n",
    "                print(f\"Čestitamo, uspješno ste kupili {proizvod.naziv} po cijeni {proizvod.cijena}!\")\n",
    "                proizvod.kolicina -= 1\n",
    "                return proizvod\n",
    "            else:\n",
    "                print(\"Traženi proizvod trenutno nije na skladištu. Pokušajte ponovno kasnije.\")\n",
    "        else:\n",
    "            print(f\"Proizvod sa ID-em {proizvod_id} ne postoji!\")"
   ]
  },
  {
   "cell_type": "code",
   "execution_count": 83,
   "id": "30fe03b8",
   "metadata": {},
   "outputs": [],
   "source": [
    "products_webshop = Webshop(\"Product Shop\", \"products.csv\")"
   ]
  },
  {
   "cell_type": "code",
   "execution_count": 84,
   "id": "a7e4a95b",
   "metadata": {},
   "outputs": [
    {
     "name": "stdout",
     "output_type": "stream",
     "text": [
      "iPhone 13\n",
      "VISOKI\n",
      "True\n"
     ]
    }
   ],
   "source": [
    "print(products_webshop.lista_proizvoda[0].naziv)\n",
    "print(products_webshop.lista_proizvoda[0].cjenovni_rang)\n",
    "print(products_webshop.lista_proizvoda[0].dostupno)"
   ]
  },
  {
   "cell_type": "code",
   "execution_count": 85,
   "id": "0681accd",
   "metadata": {},
   "outputs": [
    {
     "name": "stdout",
     "output_type": "stream",
     "text": [
      "Čestitamo, uspješno ste kupili Samsung QN90A po cijeni 2199.99!\n"
     ]
    }
   ],
   "source": [
    "samsung_4k_tv = products_webshop.kupi_proizvod(proizvod_id=16)"
   ]
  },
  {
   "cell_type": "code",
   "execution_count": 86,
   "id": "5a1bfd08",
   "metadata": {},
   "outputs": [
    {
     "data": {
      "text/plain": [
       "1"
      ]
     },
     "execution_count": 86,
     "metadata": {},
     "output_type": "execute_result"
    }
   ],
   "source": [
    "samsung_4k_tv.kolicina"
   ]
  },
  {
   "cell_type": "code",
   "execution_count": 87,
   "id": "d10c38b8",
   "metadata": {},
   "outputs": [
    {
     "name": "stdout",
     "output_type": "stream",
     "text": [
      "Čestitamo, uspješno ste kupili Samsung QN90A po cijeni 2199.99!\n"
     ]
    }
   ],
   "source": [
    "samsung_4k_tv_2 = products_webshop.kupi_proizvod(proizvod_id=16)"
   ]
  },
  {
   "cell_type": "code",
   "execution_count": 88,
   "id": "03c25d08",
   "metadata": {},
   "outputs": [
    {
     "data": {
      "text/plain": [
       "0"
      ]
     },
     "execution_count": 88,
     "metadata": {},
     "output_type": "execute_result"
    }
   ],
   "source": [
    "samsung_4k_tv_2.kolicina"
   ]
  },
  {
   "cell_type": "code",
   "execution_count": 89,
   "id": "4962be7e",
   "metadata": {},
   "outputs": [
    {
     "name": "stdout",
     "output_type": "stream",
     "text": [
      "Traženi proizvod trenutno nije na skladištu. Pokušajte ponovno kasnije.\n"
     ]
    }
   ],
   "source": [
    "samsung_4k_tv_3 = products_webshop.kupi_proizvod(proizvod_id=16)"
   ]
  },
  {
   "cell_type": "code",
   "execution_count": 90,
   "id": "9cb30851",
   "metadata": {},
   "outputs": [
    {
     "name": "stdout",
     "output_type": "stream",
     "text": [
      "Proizvod sa ID-em 30 ne postoji!\n"
     ]
    }
   ],
   "source": [
    "nepostojeci_proizvod = products_webshop.kupi_proizvod(proizvod_id=30)"
   ]
  }
 ],
 "metadata": {
  "kernelspec": {
   "display_name": "Python 3 (ipykernel)",
   "language": "python",
   "name": "python3"
  },
  "language_info": {
   "codemirror_mode": {
    "name": "ipython",
    "version": 3
   },
   "file_extension": ".py",
   "mimetype": "text/x-python",
   "name": "python",
   "nbconvert_exporter": "python",
   "pygments_lexer": "ipython3",
   "version": "3.8.5"
  }
 },
 "nbformat": 4,
 "nbformat_minor": 5
}
