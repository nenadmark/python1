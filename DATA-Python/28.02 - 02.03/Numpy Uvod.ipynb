{
 "cells": [
  {
   "cell_type": "markdown",
   "id": "58b3cf1e",
   "metadata": {},
   "source": [
    "# NumPy - Numerical Python"
   ]
  },
  {
   "cell_type": "markdown",
   "id": "519362a4",
   "metadata": {},
   "source": [
    "`NumPy` – **Num**erical **Py**thon neizostavni je paket za kompleksne matematičke proračune u Pythonu. Nudi jako puno matematičkih funkcija, generator je nasumičnih brojeva, podrška je za proračune vezane uz linearnu algebru, Fourierove transformacije.."
   ]
  },
  {
   "cell_type": "markdown",
   "id": "cee6062e",
   "metadata": {},
   "source": [
    "`Numpy` i ostale alate razvijene oko njega možemo gledati kao `.py` varijantu popularnog `Matlab-a` koji koristi se za tehničke proračune, razvoj modela i algoritama i sl.\n",
    "\n",
    "Kako su povezani Python i alat Matlab? Matlab je snažan alat, ali u njemu nije tako jednostavno pisati kôd. Bilo bi odlično kada bismo imali snagu Matlaba, a jednostavnost Pythona. Tako dolazimo do seta library-a (skupina klasa i metoda određenih funkcionalnosti) koji koriste Python i koji su alternativa Matlabu.\n",
    "\n",
    "- `Scipy` (**Sci**entific **Py**thon) - razvijen na temeljima `NumPy biblioteke` i nudi veliki izbor gotovih algoritama za razne znanstvene proračune\n",
    "- `pandas` - služi za obradu podataka u obliku tablice\n",
    "- `matplotlib` - služi za vizualizaciju podataka"
   ]
  },
  {
   "cell_type": "code",
   "execution_count": 1,
   "id": "6d1e06a0",
   "metadata": {},
   "outputs": [],
   "source": [
    "import numpy as np"
   ]
  },
  {
   "cell_type": "code",
   "execution_count": 2,
   "id": "8d616328",
   "metadata": {},
   "outputs": [],
   "source": [
    "obicna_lista = [1, 2, 3, 4, 5]\n",
    "numpy_lista = np.array(obicna_lista)"
   ]
  },
  {
   "cell_type": "markdown",
   "id": "68db9f17",
   "metadata": {},
   "source": [
    "Koje su razlike između \"obične\" `python` liste i `numpy` liste?"
   ]
  },
  {
   "cell_type": "code",
   "execution_count": 3,
   "id": "41761c58",
   "metadata": {},
   "outputs": [
    {
     "name": "stdout",
     "output_type": "stream",
     "text": [
      "[1, 2, 3, 4, 5]\n",
      "<class 'list'>\n"
     ]
    }
   ],
   "source": [
    "print(obicna_lista)\n",
    "print(type(obicna_lista))"
   ]
  },
  {
   "cell_type": "code",
   "execution_count": 4,
   "id": "f896446c",
   "metadata": {},
   "outputs": [
    {
     "name": "stdout",
     "output_type": "stream",
     "text": [
      "[1 2 3 4 5]\n",
      "<class 'numpy.ndarray'>\n"
     ]
    }
   ],
   "source": [
    "print(numpy_lista)\n",
    "print(type(numpy_lista))"
   ]
  },
  {
   "cell_type": "code",
   "execution_count": 5,
   "id": "a4cb5ac7",
   "metadata": {},
   "outputs": [
    {
     "name": "stdout",
     "output_type": "stream",
     "text": [
      "[1, 2, 3, 4, 5, 1, 2, 3, 4, 5]\n"
     ]
    }
   ],
   "source": [
    "print(obicna_lista * 2)"
   ]
  },
  {
   "cell_type": "code",
   "execution_count": 6,
   "id": "750c332f",
   "metadata": {},
   "outputs": [
    {
     "name": "stdout",
     "output_type": "stream",
     "text": [
      "[ 2  4  6  8 10]\n"
     ]
    }
   ],
   "source": [
    "print(numpy_lista * 2)"
   ]
  },
  {
   "cell_type": "code",
   "execution_count": 7,
   "id": "9fabf63d",
   "metadata": {},
   "outputs": [],
   "source": [
    "obicna_lista_duplo = [x * 2 for x in obicna_lista]"
   ]
  },
  {
   "cell_type": "code",
   "execution_count": 8,
   "id": "7d062e6b",
   "metadata": {},
   "outputs": [
    {
     "data": {
      "text/plain": [
       "[2, 4, 6, 8, 10]"
      ]
     },
     "execution_count": 8,
     "metadata": {},
     "output_type": "execute_result"
    }
   ],
   "source": [
    "obicna_lista_duplo"
   ]
  },
  {
   "cell_type": "code",
   "execution_count": 9,
   "id": "da631375",
   "metadata": {},
   "outputs": [
    {
     "name": "stdout",
     "output_type": "stream",
     "text": [
      "[ 3  6  9 12 15]\n"
     ]
    }
   ],
   "source": [
    "print(np.multiply(obicna_lista, 3))"
   ]
  },
  {
   "cell_type": "code",
   "execution_count": 10,
   "id": "68631e62",
   "metadata": {},
   "outputs": [
    {
     "name": "stdout",
     "output_type": "stream",
     "text": [
      "5\n"
     ]
    }
   ],
   "source": [
    "print(len(obicna_lista))"
   ]
  },
  {
   "cell_type": "code",
   "execution_count": 11,
   "id": "9e89f527",
   "metadata": {},
   "outputs": [
    {
     "name": "stdout",
     "output_type": "stream",
     "text": [
      "5\n"
     ]
    }
   ],
   "source": [
    "print(len(numpy_lista))"
   ]
  },
  {
   "cell_type": "code",
   "execution_count": 12,
   "id": "3041b5ad",
   "metadata": {},
   "outputs": [
    {
     "data": {
      "text/plain": [
       "5"
      ]
     },
     "execution_count": 12,
     "metadata": {},
     "output_type": "execute_result"
    }
   ],
   "source": [
    "numpy_lista.size"
   ]
  },
  {
   "cell_type": "code",
   "execution_count": 13,
   "id": "ce823363",
   "metadata": {},
   "outputs": [],
   "source": [
    "obicna_matrica = [\n",
    "    [1, 2, 3],\n",
    "    [4, 5, 6],\n",
    "    [7, 8, 9]\n",
    "]"
   ]
  },
  {
   "cell_type": "code",
   "execution_count": 14,
   "id": "b273c99f",
   "metadata": {},
   "outputs": [
    {
     "name": "stdout",
     "output_type": "stream",
     "text": [
      "<class 'list'>\n",
      "[[1, 2, 3], [4, 5, 6], [7, 8, 9]]\n"
     ]
    }
   ],
   "source": [
    "print(type(obicna_matrica))\n",
    "print(obicna_matrica)"
   ]
  },
  {
   "cell_type": "code",
   "execution_count": 15,
   "id": "0ff7da6c",
   "metadata": {},
   "outputs": [],
   "source": [
    "numpy_matrica = np.array(obicna_matrica)"
   ]
  },
  {
   "cell_type": "code",
   "execution_count": 16,
   "id": "f3b6016f",
   "metadata": {},
   "outputs": [
    {
     "name": "stdout",
     "output_type": "stream",
     "text": [
      "<class 'numpy.ndarray'>\n",
      "[[1 2 3]\n",
      " [4 5 6]\n",
      " [7 8 9]]\n"
     ]
    }
   ],
   "source": [
    "print(type(numpy_matrica))\n",
    "print(numpy_matrica)"
   ]
  },
  {
   "cell_type": "code",
   "execution_count": 17,
   "id": "5dda29d9",
   "metadata": {},
   "outputs": [
    {
     "name": "stdout",
     "output_type": "stream",
     "text": [
      "3\n"
     ]
    }
   ],
   "source": [
    "print(len(obicna_matrica))"
   ]
  },
  {
   "cell_type": "code",
   "execution_count": 18,
   "id": "6bb4bb4f",
   "metadata": {},
   "outputs": [
    {
     "name": "stdout",
     "output_type": "stream",
     "text": [
      "3\n"
     ]
    }
   ],
   "source": [
    "print(len(numpy_matrica))"
   ]
  },
  {
   "cell_type": "code",
   "execution_count": 19,
   "id": "4f164263",
   "metadata": {},
   "outputs": [
    {
     "data": {
      "text/plain": [
       "9"
      ]
     },
     "execution_count": 19,
     "metadata": {},
     "output_type": "execute_result"
    }
   ],
   "source": [
    "numpy_matrica.size"
   ]
  },
  {
   "cell_type": "markdown",
   "id": "9c3e179f",
   "metadata": {},
   "source": [
    "Kako pristupamo elementima u `numpy` listi? "
   ]
  },
  {
   "cell_type": "code",
   "execution_count": 20,
   "id": "08cab980",
   "metadata": {},
   "outputs": [
    {
     "name": "stdout",
     "output_type": "stream",
     "text": [
      "1\n"
     ]
    }
   ],
   "source": [
    "print(obicna_lista[0])"
   ]
  },
  {
   "cell_type": "code",
   "execution_count": 21,
   "id": "0272ad1d",
   "metadata": {},
   "outputs": [
    {
     "name": "stdout",
     "output_type": "stream",
     "text": [
      "1\n"
     ]
    }
   ],
   "source": [
    "print(numpy_lista[0])"
   ]
  },
  {
   "cell_type": "code",
   "execution_count": 22,
   "id": "76e7ec67",
   "metadata": {},
   "outputs": [
    {
     "name": "stdout",
     "output_type": "stream",
     "text": [
      "5\n"
     ]
    }
   ],
   "source": [
    "print(obicna_matrica[1][1])"
   ]
  },
  {
   "cell_type": "code",
   "execution_count": 23,
   "id": "61522802",
   "metadata": {},
   "outputs": [
    {
     "name": "stdout",
     "output_type": "stream",
     "text": [
      "5\n"
     ]
    }
   ],
   "source": [
    "print(numpy_matrica[1][1])"
   ]
  },
  {
   "cell_type": "code",
   "execution_count": 24,
   "id": "81cb1dc6",
   "metadata": {},
   "outputs": [
    {
     "name": "stdout",
     "output_type": "stream",
     "text": [
      "5\n"
     ]
    }
   ],
   "source": [
    "print(numpy_matrica[1, 1])"
   ]
  },
  {
   "cell_type": "code",
   "execution_count": 25,
   "id": "785a2895",
   "metadata": {},
   "outputs": [
    {
     "name": "stdout",
     "output_type": "stream",
     "text": [
      "2\n"
     ]
    }
   ],
   "source": [
    "print(numpy_matrica[0, 1])"
   ]
  },
  {
   "cell_type": "code",
   "execution_count": 26,
   "id": "5af162b6",
   "metadata": {},
   "outputs": [
    {
     "ename": "TypeError",
     "evalue": "list indices must be integers or slices, not tuple",
     "output_type": "error",
     "traceback": [
      "\u001b[1;31m---------------------------------------------------------------------------\u001b[0m",
      "\u001b[1;31mTypeError\u001b[0m                                 Traceback (most recent call last)",
      "Cell \u001b[1;32mIn[26], line 1\u001b[0m\n\u001b[1;32m----> 1\u001b[0m \u001b[38;5;28mprint\u001b[39m(\u001b[43mobicna_matrica\u001b[49m\u001b[43m[\u001b[49m\u001b[38;5;241;43m0\u001b[39;49m\u001b[43m,\u001b[49m\u001b[43m \u001b[49m\u001b[38;5;241;43m1\u001b[39;49m\u001b[43m]\u001b[49m)\n",
      "\u001b[1;31mTypeError\u001b[0m: list indices must be integers or slices, not tuple"
     ]
    }
   ],
   "source": [
    "print(obicna_matrica[0, 1])"
   ]
  },
  {
   "cell_type": "code",
   "execution_count": 27,
   "id": "f08f7eb1",
   "metadata": {},
   "outputs": [],
   "source": [
    "obicna_3d_lista = [\n",
    "    [\n",
    "        [1, 1],\n",
    "        [2, 2]\n",
    "    ],\n",
    "    [\n",
    "        [3, 3],\n",
    "        [4, 4]\n",
    "    ]\n",
    "]"
   ]
  },
  {
   "cell_type": "code",
   "execution_count": 28,
   "id": "980f9235",
   "metadata": {},
   "outputs": [
    {
     "name": "stdout",
     "output_type": "stream",
     "text": [
      "2\n"
     ]
    }
   ],
   "source": [
    "print(len(obicna_3d_lista))"
   ]
  },
  {
   "cell_type": "code",
   "execution_count": 29,
   "id": "b092ceed",
   "metadata": {},
   "outputs": [
    {
     "name": "stdout",
     "output_type": "stream",
     "text": [
      "4\n"
     ]
    }
   ],
   "source": [
    "print(obicna_3d_lista[1][1][0])"
   ]
  },
  {
   "cell_type": "code",
   "execution_count": 30,
   "id": "a9af5445",
   "metadata": {},
   "outputs": [],
   "source": [
    "numpy_3d_lista = np.array(obicna_3d_lista)"
   ]
  },
  {
   "cell_type": "code",
   "execution_count": 31,
   "id": "c74c0492",
   "metadata": {},
   "outputs": [
    {
     "data": {
      "text/plain": [
       "8"
      ]
     },
     "execution_count": 31,
     "metadata": {},
     "output_type": "execute_result"
    }
   ],
   "source": [
    "numpy_3d_lista.size"
   ]
  },
  {
   "cell_type": "code",
   "execution_count": 32,
   "id": "f586be8a",
   "metadata": {},
   "outputs": [
    {
     "name": "stdout",
     "output_type": "stream",
     "text": [
      "4\n",
      "4\n"
     ]
    }
   ],
   "source": [
    "print(numpy_3d_lista[1][1][0])\n",
    "print(numpy_3d_lista[1, 1, 0])"
   ]
  },
  {
   "cell_type": "code",
   "execution_count": 33,
   "id": "652368d4",
   "metadata": {},
   "outputs": [
    {
     "name": "stdout",
     "output_type": "stream",
     "text": [
      "[[[1, 1], [2, 2]], [[3, 3], [4, 4]]]\n"
     ]
    }
   ],
   "source": [
    "print(obicna_3d_lista)"
   ]
  },
  {
   "cell_type": "code",
   "execution_count": 34,
   "id": "efebae2c",
   "metadata": {},
   "outputs": [
    {
     "name": "stdout",
     "output_type": "stream",
     "text": [
      "[[[1 1]\n",
      "  [2 2]]\n",
      "\n",
      " [[3 3]\n",
      "  [4 4]]]\n"
     ]
    }
   ],
   "source": [
    "print(numpy_3d_lista)"
   ]
  },
  {
   "cell_type": "code",
   "execution_count": 35,
   "id": "d5533d56",
   "metadata": {},
   "outputs": [
    {
     "data": {
      "text/plain": [
       "3"
      ]
     },
     "execution_count": 35,
     "metadata": {},
     "output_type": "execute_result"
    }
   ],
   "source": [
    "numpy_3d_lista.ndim"
   ]
  },
  {
   "cell_type": "code",
   "execution_count": 36,
   "id": "f33633ab",
   "metadata": {},
   "outputs": [
    {
     "data": {
      "text/plain": [
       "2"
      ]
     },
     "execution_count": 36,
     "metadata": {},
     "output_type": "execute_result"
    }
   ],
   "source": [
    "numpy_matrica.ndim"
   ]
  },
  {
   "cell_type": "code",
   "execution_count": 37,
   "id": "d14a3231",
   "metadata": {},
   "outputs": [
    {
     "data": {
      "text/plain": [
       "1"
      ]
     },
     "execution_count": 37,
     "metadata": {},
     "output_type": "execute_result"
    }
   ],
   "source": [
    "numpy_lista.ndim"
   ]
  },
  {
   "cell_type": "code",
   "execution_count": 38,
   "id": "f7c805f3",
   "metadata": {},
   "outputs": [],
   "source": [
    "numpy_0d_lista = np.array(1)"
   ]
  },
  {
   "cell_type": "code",
   "execution_count": 40,
   "id": "044daf8e",
   "metadata": {},
   "outputs": [
    {
     "name": "stdout",
     "output_type": "stream",
     "text": [
      "<class 'numpy.ndarray'>\n"
     ]
    }
   ],
   "source": [
    "print(type(numpy_0d_lista))"
   ]
  },
  {
   "cell_type": "code",
   "execution_count": 41,
   "id": "4236b978",
   "metadata": {},
   "outputs": [
    {
     "data": {
      "text/plain": [
       "0"
      ]
     },
     "execution_count": 41,
     "metadata": {},
     "output_type": "execute_result"
    }
   ],
   "source": [
    "numpy_0d_lista.ndim"
   ]
  },
  {
   "cell_type": "code",
   "execution_count": 42,
   "id": "bbe93b41",
   "metadata": {},
   "outputs": [
    {
     "data": {
      "text/plain": [
       "1"
      ]
     },
     "execution_count": 42,
     "metadata": {},
     "output_type": "execute_result"
    }
   ],
   "source": [
    "numpy_0d_lista.size"
   ]
  },
  {
   "cell_type": "code",
   "execution_count": 44,
   "id": "a8240a75",
   "metadata": {},
   "outputs": [
    {
     "ename": "ValueError",
     "evalue": "setting an array element with a sequence. The requested array has an inhomogeneous shape after 1 dimensions. The detected shape was (3,) + inhomogeneous part.",
     "output_type": "error",
     "traceback": [
      "\u001b[1;31m---------------------------------------------------------------------------\u001b[0m",
      "\u001b[1;31mValueError\u001b[0m                                Traceback (most recent call last)",
      "Cell \u001b[1;32mIn[44], line 6\u001b[0m\n\u001b[0;32m      1\u001b[0m py_lista_2 \u001b[38;5;241m=\u001b[39m [\n\u001b[0;32m      2\u001b[0m     [\u001b[38;5;241m1\u001b[39m, \u001b[38;5;241m2\u001b[39m, \u001b[38;5;241m3\u001b[39m],\n\u001b[0;32m      3\u001b[0m     [\u001b[38;5;241m4\u001b[39m, \u001b[38;5;241m5\u001b[39m],\n\u001b[0;32m      4\u001b[0m     [\u001b[38;5;241m6\u001b[39m]\n\u001b[0;32m      5\u001b[0m ]\n\u001b[1;32m----> 6\u001b[0m np_lista_2 \u001b[38;5;241m=\u001b[39m \u001b[43mnp\u001b[49m\u001b[38;5;241;43m.\u001b[39;49m\u001b[43marray\u001b[49m\u001b[43m(\u001b[49m\u001b[43mpy_lista_2\u001b[49m\u001b[43m)\u001b[49m\n",
      "\u001b[1;31mValueError\u001b[0m: setting an array element with a sequence. The requested array has an inhomogeneous shape after 1 dimensions. The detected shape was (3,) + inhomogeneous part."
     ]
    }
   ],
   "source": [
    "py_lista_2 = [\n",
    "    [1, 2, 3],\n",
    "    [4, 5],\n",
    "    [6]\n",
    "]\n",
    "np_lista_2 = np.array(py_lista_2)"
   ]
  },
  {
   "cell_type": "markdown",
   "id": "eb251400",
   "metadata": {},
   "source": [
    "## Zadatak\n",
    "Ispisati broj redaka i stupaca u matrici spremljenoj u varijablama `obicna_matrica` i `numpy_matrica`."
   ]
  },
  {
   "cell_type": "code",
   "execution_count": 45,
   "id": "79a24101",
   "metadata": {},
   "outputs": [
    {
     "name": "stdout",
     "output_type": "stream",
     "text": [
      "3 3\n"
     ]
    }
   ],
   "source": [
    "print(len(obicna_matrica), len(obicna_matrica[0]))"
   ]
  },
  {
   "cell_type": "code",
   "execution_count": 46,
   "id": "38be350c",
   "metadata": {},
   "outputs": [
    {
     "name": "stdout",
     "output_type": "stream",
     "text": [
      "3 3\n"
     ]
    }
   ],
   "source": [
    "print(len(numpy_matrica), len(numpy_matrica[0]))"
   ]
  },
  {
   "cell_type": "code",
   "execution_count": 47,
   "id": "dabeb864",
   "metadata": {},
   "outputs": [
    {
     "data": {
      "text/plain": [
       "(3, 3)"
      ]
     },
     "execution_count": 47,
     "metadata": {},
     "output_type": "execute_result"
    }
   ],
   "source": [
    "numpy_matrica.shape"
   ]
  },
  {
   "cell_type": "code",
   "execution_count": 48,
   "id": "1f873b2e",
   "metadata": {},
   "outputs": [],
   "source": [
    "stringovi = [\"Prvi\", \"Drugi\", \"Treci\"]\n",
    "np_stringovi = np.array(stringovi)"
   ]
  },
  {
   "cell_type": "code",
   "execution_count": 49,
   "id": "bb65dd14",
   "metadata": {},
   "outputs": [
    {
     "data": {
      "text/plain": [
       "array(['Prvi', 'Drugi', 'Treci'], dtype='<U5')"
      ]
     },
     "execution_count": 49,
     "metadata": {},
     "output_type": "execute_result"
    }
   ],
   "source": [
    "np_stringovi"
   ]
  },
  {
   "cell_type": "code",
   "execution_count": 50,
   "id": "af8dff81",
   "metadata": {},
   "outputs": [
    {
     "data": {
      "text/plain": [
       "array([[1, 2, 3],\n",
       "       [4, 5, 6],\n",
       "       [7, 8, 9]])"
      ]
     },
     "execution_count": 50,
     "metadata": {},
     "output_type": "execute_result"
    }
   ],
   "source": [
    "numpy_matrica"
   ]
  },
  {
   "cell_type": "code",
   "execution_count": 51,
   "id": "b92ca82d",
   "metadata": {},
   "outputs": [
    {
     "data": {
      "text/plain": [
       "dtype('int32')"
      ]
     },
     "execution_count": 51,
     "metadata": {},
     "output_type": "execute_result"
    }
   ],
   "source": [
    "numpy_matrica.dtype"
   ]
  },
  {
   "cell_type": "code",
   "execution_count": 52,
   "id": "2d7127d4",
   "metadata": {},
   "outputs": [
    {
     "data": {
      "text/plain": [
       "dtype('<U5')"
      ]
     },
     "execution_count": 52,
     "metadata": {},
     "output_type": "execute_result"
    }
   ],
   "source": [
    "np_stringovi.dtype"
   ]
  },
  {
   "cell_type": "code",
   "execution_count": 53,
   "id": "04f7f2e0",
   "metadata": {},
   "outputs": [
    {
     "name": "stdout",
     "output_type": "stream",
     "text": [
      "['Prvi', 'Drugi', 'Treci', 'Prvi', 'Drugi', 'Treci']\n"
     ]
    },
    {
     "ename": "UFuncTypeError",
     "evalue": "ufunc 'multiply' did not contain a loop with signature matching types (dtype('<U5'), dtype('int32')) -> None",
     "output_type": "error",
     "traceback": [
      "\u001b[1;31m---------------------------------------------------------------------------\u001b[0m",
      "\u001b[1;31mUFuncTypeError\u001b[0m                            Traceback (most recent call last)",
      "Cell \u001b[1;32mIn[53], line 2\u001b[0m\n\u001b[0;32m      1\u001b[0m \u001b[38;5;28mprint\u001b[39m(stringovi \u001b[38;5;241m*\u001b[39m \u001b[38;5;241m2\u001b[39m)\n\u001b[1;32m----> 2\u001b[0m \u001b[38;5;28mprint\u001b[39m(\u001b[43mnp_stringovi\u001b[49m\u001b[43m \u001b[49m\u001b[38;5;241;43m*\u001b[39;49m\u001b[43m \u001b[49m\u001b[38;5;241;43m2\u001b[39;49m)\n",
      "\u001b[1;31mUFuncTypeError\u001b[0m: ufunc 'multiply' did not contain a loop with signature matching types (dtype('<U5'), dtype('int32')) -> None"
     ]
    }
   ],
   "source": [
    "print(stringovi * 2)\n",
    "print(np_stringovi * 2)"
   ]
  },
  {
   "cell_type": "code",
   "execution_count": 54,
   "id": "44b6a5c3",
   "metadata": {},
   "outputs": [
    {
     "data": {
      "text/plain": [
       "array([1, 2, 3, 4, 5])"
      ]
     },
     "execution_count": 54,
     "metadata": {},
     "output_type": "execute_result"
    }
   ],
   "source": [
    "numpy_lista"
   ]
  },
  {
   "cell_type": "code",
   "execution_count": 55,
   "id": "4e9100c1",
   "metadata": {},
   "outputs": [
    {
     "data": {
      "text/plain": [
       "dtype('int32')"
      ]
     },
     "execution_count": 55,
     "metadata": {},
     "output_type": "execute_result"
    }
   ],
   "source": [
    "numpy_lista.dtype  # ispisuje tip podataka koji su spremljeni u ovoj numpy listi"
   ]
  },
  {
   "cell_type": "code",
   "execution_count": 56,
   "id": "44b8730b",
   "metadata": {},
   "outputs": [
    {
     "data": {
      "text/plain": [
       "20"
      ]
     },
     "execution_count": 56,
     "metadata": {},
     "output_type": "execute_result"
    }
   ],
   "source": [
    "numpy_lista.nbytes"
   ]
  },
  {
   "cell_type": "code",
   "execution_count": 57,
   "id": "c3652cb9",
   "metadata": {},
   "outputs": [],
   "source": [
    "numpy_lista_2 = np.array(obicna_lista, dtype=np.int64)"
   ]
  },
  {
   "cell_type": "code",
   "execution_count": 58,
   "id": "736786fb",
   "metadata": {},
   "outputs": [
    {
     "data": {
      "text/plain": [
       "array([1, 2, 3, 4, 5], dtype=int64)"
      ]
     },
     "execution_count": 58,
     "metadata": {},
     "output_type": "execute_result"
    }
   ],
   "source": [
    "numpy_lista_2"
   ]
  },
  {
   "cell_type": "code",
   "execution_count": 59,
   "id": "74923693",
   "metadata": {},
   "outputs": [
    {
     "data": {
      "text/plain": [
       "40"
      ]
     },
     "execution_count": 59,
     "metadata": {},
     "output_type": "execute_result"
    }
   ],
   "source": [
    "numpy_lista_2.nbytes"
   ]
  },
  {
   "cell_type": "code",
   "execution_count": 61,
   "id": "7cca2e40",
   "metadata": {},
   "outputs": [],
   "source": [
    "numpy_lista_float = np.array(obicna_lista, dtype=np.float32)"
   ]
  },
  {
   "cell_type": "code",
   "execution_count": 62,
   "id": "c8c2a844",
   "metadata": {},
   "outputs": [
    {
     "data": {
      "text/plain": [
       "array([1., 2., 3., 4., 5.], dtype=float32)"
      ]
     },
     "execution_count": 62,
     "metadata": {},
     "output_type": "execute_result"
    }
   ],
   "source": [
    "numpy_lista_float"
   ]
  },
  {
   "cell_type": "code",
   "execution_count": 66,
   "id": "28f9df87",
   "metadata": {},
   "outputs": [
    {
     "data": {
      "text/plain": [
       "20"
      ]
     },
     "execution_count": 66,
     "metadata": {},
     "output_type": "execute_result"
    }
   ],
   "source": [
    "numpy_lista_float.nbytes  # koliko memorije zauzimaju svi elementi"
   ]
  },
  {
   "cell_type": "code",
   "execution_count": 65,
   "id": "0dc649c4",
   "metadata": {},
   "outputs": [
    {
     "data": {
      "text/plain": [
       "4"
      ]
     },
     "execution_count": 65,
     "metadata": {},
     "output_type": "execute_result"
    }
   ],
   "source": [
    "numpy_lista_float.itemsize  # koliko memorije zauzima svaki pojedini element"
   ]
  },
  {
   "cell_type": "code",
   "execution_count": 67,
   "id": "247a4982",
   "metadata": {},
   "outputs": [],
   "source": [
    "mijesana_lista = [1, 2.5, True, \"bla\", None]"
   ]
  },
  {
   "cell_type": "code",
   "execution_count": 68,
   "id": "73493efb",
   "metadata": {},
   "outputs": [],
   "source": [
    "np_mijesana_lista = np.array(mijesana_lista)"
   ]
  },
  {
   "cell_type": "code",
   "execution_count": 69,
   "id": "daaab6bc",
   "metadata": {},
   "outputs": [
    {
     "data": {
      "text/plain": [
       "array([1, 2.5, True, 'bla', None], dtype=object)"
      ]
     },
     "execution_count": 69,
     "metadata": {},
     "output_type": "execute_result"
    }
   ],
   "source": [
    "np_mijesana_lista"
   ]
  },
  {
   "cell_type": "code",
   "execution_count": 71,
   "id": "3ba6c0d0",
   "metadata": {},
   "outputs": [],
   "source": [
    "numpy_test_lista = np.array([1, 2, 3, 4, 5, 6, 7, 8, 9], dtype=np.float32)"
   ]
  },
  {
   "cell_type": "code",
   "execution_count": 72,
   "id": "1427ed17",
   "metadata": {},
   "outputs": [
    {
     "data": {
      "text/plain": [
       "array([1., 2., 3., 4., 5., 6., 7., 8., 9.], dtype=float32)"
      ]
     },
     "execution_count": 72,
     "metadata": {},
     "output_type": "execute_result"
    }
   ],
   "source": [
    "numpy_test_lista"
   ]
  },
  {
   "cell_type": "code",
   "execution_count": 73,
   "id": "1c96513a",
   "metadata": {},
   "outputs": [
    {
     "data": {
      "text/plain": [
       "1"
      ]
     },
     "execution_count": 73,
     "metadata": {},
     "output_type": "execute_result"
    }
   ],
   "source": [
    "numpy_test_lista.ndim"
   ]
  },
  {
   "cell_type": "code",
   "execution_count": 77,
   "id": "57b4ea4c",
   "metadata": {},
   "outputs": [],
   "source": [
    "np_2d_test_lista = numpy_test_lista.reshape(3, 3)"
   ]
  },
  {
   "cell_type": "code",
   "execution_count": 75,
   "id": "027ec0dc",
   "metadata": {},
   "outputs": [
    {
     "data": {
      "text/plain": [
       "array([[1., 2., 3.],\n",
       "       [4., 5., 6.],\n",
       "       [7., 8., 9.]], dtype=float32)"
      ]
     },
     "execution_count": 75,
     "metadata": {},
     "output_type": "execute_result"
    }
   ],
   "source": [
    "np_2d_test_lista"
   ]
  },
  {
   "cell_type": "markdown",
   "id": "2e332780",
   "metadata": {},
   "source": [
    "## Zadatak\n",
    "\n",
    "Definirati listu s barem 10 cijelih brojeva.\n",
    "\n",
    "Na temelju početne liste kreirati dvije nove i to na način da u jednoj budu svi parni, a u drugoj svi neparni brojevi iz originalne liste."
   ]
  },
  {
   "cell_type": "code",
   "execution_count": 78,
   "id": "1af64718",
   "metadata": {},
   "outputs": [],
   "source": [
    "originalna_lista = [6, 3, 1, 10, 5, 7, 9, 2, 2, 2]\n",
    "\n",
    "lista_parnih = [x for x in originalna_lista if x % 2 == 0]\n",
    "lista_neparnih = [x for x in originalna_lista if x % 2 != 0]"
   ]
  },
  {
   "cell_type": "code",
   "execution_count": 79,
   "id": "30f58973",
   "metadata": {},
   "outputs": [
    {
     "data": {
      "text/plain": [
       "[6, 10, 2, 2, 2]"
      ]
     },
     "execution_count": 79,
     "metadata": {},
     "output_type": "execute_result"
    }
   ],
   "source": [
    "lista_parnih"
   ]
  },
  {
   "cell_type": "code",
   "execution_count": 80,
   "id": "0bd34d87",
   "metadata": {},
   "outputs": [
    {
     "data": {
      "text/plain": [
       "[3, 1, 5, 7, 9]"
      ]
     },
     "execution_count": 80,
     "metadata": {},
     "output_type": "execute_result"
    }
   ],
   "source": [
    "lista_neparnih"
   ]
  },
  {
   "cell_type": "code",
   "execution_count": 91,
   "id": "e5b9088a",
   "metadata": {},
   "outputs": [],
   "source": [
    "np_originalna = np.array(originalna_lista)\n",
    "\n",
    "np_lista_parnih = np_originalna[np_originalna % 2 == 0]\n",
    "\n",
    "# where vraća indekse elemenata koji zadovoljavaju određeni uvjet\n",
    "# np_indeksi_parnih = np_originalna.where(np_originalna % 2 == 0)\n",
    "\n",
    "np_lista_neparnih = np_originalna[np_originalna % 2 != 0]\n"
   ]
  },
  {
   "cell_type": "markdown",
   "id": "fc02f408",
   "metadata": {},
   "source": [
    "print(np_lista_parnih)\n",
    "print(np_lista_neparnih)"
   ]
  },
  {
   "cell_type": "markdown",
   "id": "9b709e3e",
   "metadata": {},
   "source": [
    "## Zadatak\n",
    "\n",
    "Kreirati \"praznu\" 2d matricu proizvoljnih dimenzija. \"Prazno\" u ovom slučaju znači da je cijela matrica popunjena nulama."
   ]
  },
  {
   "cell_type": "code",
   "execution_count": 92,
   "id": "c6ba8047",
   "metadata": {},
   "outputs": [],
   "source": [
    "matrica_nula = [\n",
    "    [0, 0, 0],\n",
    "    [0, 0, 0],\n",
    "    [0, 0, 0]\n",
    "]"
   ]
  },
  {
   "cell_type": "code",
   "execution_count": 93,
   "id": "d40a245c",
   "metadata": {},
   "outputs": [
    {
     "name": "stdout",
     "output_type": "stream",
     "text": [
      "[[0, 0, 0], [0, 0, 0], [0, 0, 0]]\n"
     ]
    }
   ],
   "source": [
    "matrica_nula_2 = []\n",
    "\n",
    "for i in range(3):\n",
    "    unutarnja = []\n",
    "    for j in range(3):\n",
    "        unutarnja.append(0)\n",
    "    matrica_nula_2.append(unutarnja)\n",
    "\n",
    "print(matrica_nula_2)"
   ]
  },
  {
   "cell_type": "code",
   "execution_count": 96,
   "id": "a0f503b3",
   "metadata": {},
   "outputs": [],
   "source": [
    "np_matrica_nula = np.zeros((3, 3), dtype=np.int32)"
   ]
  },
  {
   "cell_type": "code",
   "execution_count": 97,
   "id": "820db85b",
   "metadata": {},
   "outputs": [
    {
     "data": {
      "text/plain": [
       "array([[0, 0, 0],\n",
       "       [0, 0, 0],\n",
       "       [0, 0, 0]])"
      ]
     },
     "execution_count": 97,
     "metadata": {},
     "output_type": "execute_result"
    }
   ],
   "source": [
    "np_matrica_nula"
   ]
  },
  {
   "cell_type": "code",
   "execution_count": 98,
   "id": "a4f05894",
   "metadata": {},
   "outputs": [],
   "source": [
    "np_matrica_jedinica = np.ones((3, 3), dtype=np.int32)"
   ]
  },
  {
   "cell_type": "code",
   "execution_count": 99,
   "id": "be440a78",
   "metadata": {},
   "outputs": [
    {
     "data": {
      "text/plain": [
       "array([[1, 1, 1],\n",
       "       [1, 1, 1],\n",
       "       [1, 1, 1]])"
      ]
     },
     "execution_count": 99,
     "metadata": {},
     "output_type": "execute_result"
    }
   ],
   "source": [
    "np_matrica_jedinica"
   ]
  },
  {
   "cell_type": "code",
   "execution_count": 100,
   "id": "e16a3460",
   "metadata": {},
   "outputs": [],
   "source": [
    "np_matrica_dvojki = np_matrica_jedinica * 2"
   ]
  },
  {
   "cell_type": "code",
   "execution_count": 101,
   "id": "84a29fb1",
   "metadata": {},
   "outputs": [
    {
     "data": {
      "text/plain": [
       "array([[2, 2, 2],\n",
       "       [2, 2, 2],\n",
       "       [2, 2, 2]])"
      ]
     },
     "execution_count": 101,
     "metadata": {},
     "output_type": "execute_result"
    }
   ],
   "source": [
    "np_matrica_dvojki"
   ]
  },
  {
   "cell_type": "code",
   "execution_count": 102,
   "id": "1a7d5477",
   "metadata": {},
   "outputs": [],
   "source": [
    "np_matrica_pi = np.full((4, 4), 3.14)"
   ]
  },
  {
   "cell_type": "code",
   "execution_count": 103,
   "id": "c836428a",
   "metadata": {
    "scrolled": true
   },
   "outputs": [
    {
     "data": {
      "text/plain": [
       "array([[3.14, 3.14, 3.14, 3.14],\n",
       "       [3.14, 3.14, 3.14, 3.14],\n",
       "       [3.14, 3.14, 3.14, 3.14],\n",
       "       [3.14, 3.14, 3.14, 3.14]])"
      ]
     },
     "execution_count": 103,
     "metadata": {},
     "output_type": "execute_result"
    }
   ],
   "source": [
    "np_matrica_pi"
   ]
  },
  {
   "cell_type": "markdown",
   "id": "abe57a74",
   "metadata": {},
   "source": [
    "# Generator brojeva u numpy-u"
   ]
  },
  {
   "cell_type": "code",
   "execution_count": 3,
   "id": "b9349a82",
   "metadata": {},
   "outputs": [
    {
     "name": "stdout",
     "output_type": "stream",
     "text": [
      "[ 5  6  7  8  9 10 11 12 13 14]\n",
      "<class 'numpy.ndarray'>\n"
     ]
    }
   ],
   "source": [
    "raspon = np.arange(5, 15)\n",
    "print(raspon)\n",
    "print(type(raspon))"
   ]
  },
  {
   "cell_type": "code",
   "execution_count": 4,
   "id": "7a112558",
   "metadata": {},
   "outputs": [
    {
     "name": "stdout",
     "output_type": "stream",
     "text": [
      "[ 5  8 11 14]\n"
     ]
    }
   ],
   "source": [
    "raspon_svaki_treci = np.arange(5, 15, 3)\n",
    "print(raspon_svaki_treci)"
   ]
  },
  {
   "cell_type": "code",
   "execution_count": 5,
   "id": "1a457fbd",
   "metadata": {},
   "outputs": [
    {
     "data": {
      "text/plain": [
       "array([ 5., 10., 15.])"
      ]
     },
     "execution_count": 5,
     "metadata": {},
     "output_type": "execute_result"
    }
   ],
   "source": [
    "np.linspace(5, 15, 3)"
   ]
  },
  {
   "cell_type": "code",
   "execution_count": 6,
   "id": "3d1fef7d",
   "metadata": {},
   "outputs": [
    {
     "data": {
      "text/plain": [
       "array([ 5.        ,  8.33333333, 11.66666667, 15.        ])"
      ]
     },
     "execution_count": 6,
     "metadata": {},
     "output_type": "execute_result"
    }
   ],
   "source": [
    "np.linspace(5, 15, 4)"
   ]
  },
  {
   "cell_type": "code",
   "execution_count": 7,
   "id": "fbecd76e",
   "metadata": {},
   "outputs": [
    {
     "data": {
      "text/plain": [
       "array([ 5. ,  7.5, 10. , 12.5, 15. ])"
      ]
     },
     "execution_count": 7,
     "metadata": {},
     "output_type": "execute_result"
    }
   ],
   "source": [
    "np.linspace(5, 15, 5)"
   ]
  },
  {
   "cell_type": "code",
   "execution_count": 8,
   "id": "a1d222ff",
   "metadata": {},
   "outputs": [
    {
     "data": {
      "text/plain": [
       "array([2., 8.])"
      ]
     },
     "execution_count": 8,
     "metadata": {},
     "output_type": "execute_result"
    }
   ],
   "source": [
    "np.linspace(2, 8, 2)"
   ]
  },
  {
   "cell_type": "code",
   "execution_count": 9,
   "id": "352105c1",
   "metadata": {},
   "outputs": [
    {
     "data": {
      "text/plain": [
       "array([2., 5., 8.])"
      ]
     },
     "execution_count": 9,
     "metadata": {},
     "output_type": "execute_result"
    }
   ],
   "source": [
    "np.linspace(2, 8, 3)"
   ]
  },
  {
   "cell_type": "code",
   "execution_count": 10,
   "id": "63acd20f",
   "metadata": {},
   "outputs": [
    {
     "data": {
      "text/plain": [
       "array([2., 4., 6., 8.])"
      ]
     },
     "execution_count": 10,
     "metadata": {},
     "output_type": "execute_result"
    }
   ],
   "source": [
    "np.linspace(2, 8, 4)"
   ]
  },
  {
   "cell_type": "markdown",
   "id": "52289a2e",
   "metadata": {},
   "source": [
    "## Generiranje nasumičnih brojeva"
   ]
  },
  {
   "cell_type": "code",
   "execution_count": 28,
   "id": "3a6783a3",
   "metadata": {},
   "outputs": [
    {
     "name": "stdout",
     "output_type": "stream",
     "text": [
      "48\n"
     ]
    }
   ],
   "source": [
    "import random as rd\n",
    "\n",
    "rnd_py = rd.randint(0, 100)\n",
    "print(rnd_py)"
   ]
  },
  {
   "cell_type": "code",
   "execution_count": 25,
   "id": "83fd32ab",
   "metadata": {},
   "outputs": [
    {
     "name": "stdout",
     "output_type": "stream",
     "text": [
      "26\n"
     ]
    }
   ],
   "source": [
    "rnd_np = np.random.randint(0, 100)\n",
    "print(rnd_np)"
   ]
  },
  {
   "cell_type": "code",
   "execution_count": 32,
   "id": "c4c366eb",
   "metadata": {},
   "outputs": [
    {
     "name": "stdout",
     "output_type": "stream",
     "text": [
      "[82 38 20 19  2 17 45 77 87 22]\n"
     ]
    }
   ],
   "source": [
    "rnd_np_2 = np.random.randint(0, 101, 10)\n",
    "print(rnd_np_2)"
   ]
  },
  {
   "cell_type": "markdown",
   "id": "32adb34e",
   "metadata": {},
   "source": [
    "### Zadatak\n",
    "\n",
    "Napisati program koji generira nasumične brojeve od 1 do 100. Brojeve je potrebno generirati dok god se svaki broj ne generira barem jednom. Na kraju ispisati koliko je puta svaki broj bio generiran."
   ]
  },
  {
   "cell_type": "markdown",
   "id": "d243fad1",
   "metadata": {},
   "source": [
    "#### Rješenje bez `numpy-a`"
   ]
  },
  {
   "cell_type": "code",
   "execution_count": 68,
   "id": "4f67c122",
   "metadata": {},
   "outputs": [
    {
     "name": "stdout",
     "output_type": "stream",
     "text": [
      "Ukupno je generirano 511831 brojeva u 11.626967430114746 sekundi.\n"
     ]
    }
   ],
   "source": [
    "import time\n",
    "\n",
    "brojevi = [0] * 50000\n",
    "\n",
    "start_time = time.time()\n",
    "while 0 in brojevi:\n",
    "    broj = rd.randint(1, 50000)\n",
    "    brojevi[broj - 1] += 1\n",
    "end_time = time.time()\n",
    "print(f\"Ukupno je generirano {sum(brojevi)} brojeva u {end_time - start_time} sekundi.\")"
   ]
  },
  {
   "cell_type": "markdown",
   "id": "70f5e2fb",
   "metadata": {},
   "source": [
    "#### Rješenje koristeći `numpy`"
   ]
  },
  {
   "cell_type": "code",
   "execution_count": 71,
   "id": "73e26c43",
   "metadata": {},
   "outputs": [
    {
     "name": "stdout",
     "output_type": "stream",
     "text": [
      "Ukupno je generirano 1414633 brojeva u 3.4197845458984375 sekundi.\n"
     ]
    }
   ],
   "source": [
    "brojevi_np = np.zeros(100000, dtype=np.int32)\n",
    "numbers_generated = set()\n",
    "total_count = 0\n",
    "\n",
    "start_time = time.time()\n",
    "\n",
    "while len(numbers_generated) < 100000:\n",
    "    num = np.random.randint(1, 100001)\n",
    "    brojevi_np[num-1] += 1\n",
    "    numbers_generated.add(num)\n",
    "end_time = time.time()\n",
    "\n",
    "print(f\"Ukupno je generirano {np.sum(brojevi_np)} brojeva u {end_time - start_time} sekundi.\")"
   ]
  },
  {
   "cell_type": "code",
   "execution_count": 83,
   "id": "f5a4a97c",
   "metadata": {},
   "outputs": [
    {
     "name": "stdout",
     "output_type": "stream",
     "text": [
      "0.6317795087753549\n",
      "[[0.44965035 0.17579534 0.02730253 0.39339248 0.3319254 ]\n",
      " [0.82055333 0.54506473 0.47515765 0.444814   0.04411418]]\n"
     ]
    }
   ],
   "source": [
    "random_float = np.random.rand()  # 1 broj između 0 i 1\n",
    "print(random_float)\n",
    "random_float_2 = np.random.rand(2, 5)  # 2 liste po 5 brojevi, svaki između 0 i 1\n",
    "print(random_float_2)"
   ]
  },
  {
   "cell_type": "code",
   "execution_count": 86,
   "id": "f2e23517",
   "metadata": {},
   "outputs": [
    {
     "name": "stdout",
     "output_type": "stream",
     "text": [
      "[[9 1 6]\n",
      " [3 7 9]\n",
      " [7 2 5]]\n"
     ]
    }
   ],
   "source": [
    "random_matrica = np.random.randint(1, 11, (3, 3))\n",
    "print(random_matrica)"
   ]
  },
  {
   "cell_type": "markdown",
   "id": "bd004c6d",
   "metadata": {},
   "source": [
    "### Odabir nasumičnih elemenata iz skupa (liste)"
   ]
  },
  {
   "cell_type": "code",
   "execution_count": 93,
   "id": "58b0c8eb",
   "metadata": {},
   "outputs": [
    {
     "name": "stdout",
     "output_type": "stream",
     "text": [
      "1\n",
      "[   1   10 1000 1000 1000   10 1000    1    1   10]\n",
      "[[100  10   1]\n",
      " [  1  10 100]]\n"
     ]
    }
   ],
   "source": [
    "np_lista = np.array([1, 10, 100, 1000])\n",
    "np_random = np.random.choice(np_lista)\n",
    "\n",
    "print(np_random)\n",
    "\n",
    "np_random_podskup = np.random.choice(np_lista, size=(10,))\n",
    "print(np_random_podskup)\n",
    "\n",
    "np_random_matrica = np.random.choice(np_lista, size=(2, 3))\n",
    "print(np_random_matrica)"
   ]
  },
  {
   "cell_type": "code",
   "execution_count": 104,
   "id": "10d79b0d",
   "metadata": {},
   "outputs": [
    {
     "name": "stdout",
     "output_type": "stream",
     "text": [
      "[2 3 2 2 3 4 2 2 2 5]\n"
     ]
    }
   ],
   "source": [
    "np_lista_1_5 = np.array([1, 2, 3, 4, 5])\n",
    "\n",
    "rnd_10 = np.random.choice(np_lista_1_5, p=[0.0, 0.5, 0.3, 0.1, 0.1], size=10)\n",
    "print(rnd_10)"
   ]
  },
  {
   "cell_type": "markdown",
   "id": "51db6bef",
   "metadata": {},
   "source": [
    "## Manipulacija `numpy` nizova"
   ]
  },
  {
   "cell_type": "code",
   "execution_count": 108,
   "id": "cd807496",
   "metadata": {},
   "outputs": [
    {
     "name": "stdout",
     "output_type": "stream",
     "text": [
      "[1, 2, 3, 4, 5, 6]\n",
      "[5 7 9]\n",
      "[1 2 3 4 5 6 7 8 9]\n"
     ]
    }
   ],
   "source": [
    "l1 = [1, 2, 3]\n",
    "l2 = [4, 5, 6]\n",
    "l1_np = np.array(l1)\n",
    "l2_np = np.array(l2)\n",
    "\n",
    "print(l1 + l2)\n",
    "print(l1_np + l2_np)\n",
    "print(np.concatenate((l1_np, l2_np, np.array([7, 8, 9]))))"
   ]
  },
  {
   "cell_type": "code",
   "execution_count": 118,
   "id": "953d320c",
   "metadata": {},
   "outputs": [
    {
     "name": "stdout",
     "output_type": "stream",
     "text": [
      "[[1 2 3]\n",
      " [4 5 6]\n",
      " [1 2 3]\n",
      " [4 5 6]]\n",
      "************\n",
      "[[1 2 3 1 2 3]\n",
      " [4 5 6 4 5 6]]\n",
      "[[1 2 3]\n",
      " [4 5 6]\n",
      " [1 2 3]\n",
      " [4 5 6]]\n",
      "[[1 2 3 1 2 3]\n",
      " [4 5 6 4 5 6]]\n"
     ]
    }
   ],
   "source": [
    "l3_np = np.array([l1, l2])\n",
    "#print(l3_np)\n",
    "print(np.concatenate((l3_np, l3_np)))  # axis=0\n",
    "print(\"************\")\n",
    "print(np.concatenate((l3_np, l3_np), axis=1))\n",
    "\n",
    "print(np.vstack((l3_np, l3_np)))\n",
    "print(np.hstack((l3_np, l3_np)))"
   ]
  },
  {
   "cell_type": "markdown",
   "id": "d5df4ab5",
   "metadata": {},
   "source": [
    "## Matematičke operacija s nizovima"
   ]
  },
  {
   "cell_type": "code",
   "execution_count": 139,
   "id": "355eeac7",
   "metadata": {},
   "outputs": [
    {
     "name": "stdout",
     "output_type": "stream",
     "text": [
      "Zbrajanje: \n",
      "[11 11 11]\n",
      "[11 11 11]\n",
      "Oduzimanje: \n",
      "[-9 -7 -5]\n",
      "[-9 -7 -5]\n",
      "Množenje: \n",
      "[10 18 24]\n",
      "[10 18 24]\n",
      "Dijeljenje: \n",
      "[0.1        0.22222222 0.375     ]\n",
      "[0.1        0.22222222 0.375     ]\n",
      "Potenciranje: \n",
      "[ 10  81 512]\n",
      "[ 10  81 512]\n",
      "Modulo: \n",
      "[0 1 2]\n",
      "[0 1 2]\n",
      "[0 1 2]\n",
      "(array([10,  4,  2]), array([0, 1, 2]))\n",
      "Apsolutna vrijednost: \n",
      "[2 1 0 1 2]\n",
      "[2 1 0 1 2]\n",
      "Zaokruživanje: \n",
      "6.22\n",
      "[4.32 5.99 5.13 3.16]\n",
      "[4. 5. 5. 3.]\n",
      "[5. 6. 6. 4.]\n",
      "Logaritmi: \n",
      "3.321928094887362\n",
      "1.0\n",
      "2.302585092994046\n",
      "Sumiranje: \n",
      "6\n",
      "21\n",
      "Najmanji zajednički višekratnik: \n",
      "12\n",
      "3\n"
     ]
    }
   ],
   "source": [
    "l1_np = np.array([1, 2, 3])\n",
    "l2_np = np.array([10, 9, 8])\n",
    "\n",
    "print(\"Zbrajanje: \")\n",
    "print(l1_np + l2_np)\n",
    "print(np.add(l1_np, l2_np))\n",
    "\n",
    "print(\"Oduzimanje: \")\n",
    "print(l1_np - l2_np)\n",
    "print(np.subtract(l1_np, l2_np))\n",
    "\n",
    "print(\"Množenje: \")\n",
    "print(l1_np * l2_np)\n",
    "print(np.multiply(l1_np, l2_np))\n",
    "\n",
    "print(\"Dijeljenje: \")\n",
    "print(l1_np / l2_np)\n",
    "print(np.divide(l1_np, l2_np))\n",
    "\n",
    "print(\"Potenciranje: \")\n",
    "print(l2_np ** l1_np)\n",
    "print(np.power(l2_np, l1_np))\n",
    "\n",
    "print(\"Modulo: \")\n",
    "print(l2_np % l1_np)\n",
    "print(np.mod(l2_np, l1_np))\n",
    "print(np.remainder(l2_np, l1_np))\n",
    "print(np.divmod(l2_np, l1_np))\n",
    "\n",
    "print(\"Apsolutna vrijednost: \")\n",
    "print(np.absolute(np.array([-2, -1, 0, 1, 2])))  # koristiti ovaj\n",
    "print(np.abs(np.array([-2, -1, 0, 1, 2])))\n",
    "\n",
    "print(\"Zaokruživanje: \")\n",
    "print(np.around(6.219234234, 2))\n",
    "print(np.around(np.array([4.32323, 5.99, 5.129, 3.1631213124245346]), 2))\n",
    "print(np.floor(np.array([4.32323, 5.99, 5.129, 3.1631213124245346])))\n",
    "print(np.ceil(np.array([4.32323, 5.99, 5.129, 3.1631213124245346])))\n",
    "\n",
    "print(\"Logaritmi: \")\n",
    "print(np.log2(10))  # logaritam po bazi 2 od broja 10\n",
    "print(np.log10(10))  # logaritam po bazi 10 od broja 10\n",
    "print(np.log(10))  # logaritam po bazi 10 od broja 10\n",
    "\n",
    "print(\"Sumiranje: \")\n",
    "print(np.sum(np.array([1, 2, 3])))\n",
    "print(np.sum([np.array([1, 2, 3]), np.array([4, 5, 6])]))\n",
    "\n",
    "print(\"Najmanji zajednički višekratnik: \")\n",
    "print(np.lcm(4, 6))\n",
    "\n",
    "print(\"Najveći zajednički djelitelj: \")\n",
    "print(np.gcd(9, 6))"
   ]
  },
  {
   "cell_type": "markdown",
   "id": "f5c5a2ae",
   "metadata": {},
   "source": [
    "## Statističke operacije u `numpy-u`"
   ]
  },
  {
   "cell_type": "markdown",
   "id": "63f5b5ec",
   "metadata": {},
   "source": [
    "Generirati niz od 10 nasumičnih brojeva iz intervala od 1 do 10."
   ]
  },
  {
   "cell_type": "code",
   "execution_count": 151,
   "id": "a1e76572",
   "metadata": {},
   "outputs": [
    {
     "name": "stdout",
     "output_type": "stream",
     "text": [
      "[ 3  3  0  6  3  9  0  6  8 10]\n"
     ]
    }
   ],
   "source": [
    "np_rnd = np.random.randint(0, 11, size=10)\n",
    "print(np_rnd)"
   ]
  },
  {
   "cell_type": "code",
   "execution_count": 153,
   "id": "68e00033",
   "metadata": {},
   "outputs": [
    {
     "name": "stdout",
     "output_type": "stream",
     "text": [
      "Prosjek: \n",
      "4.8\n",
      "Medijan: \n",
      "4.5\n",
      "Standardna devijacija: \n",
      "3.3704599092705436\n",
      "Najmanja vrijednost: \n",
      "0\n",
      "Najveća vrijednost: \n",
      "10\n",
      "False\n",
      "True\n"
     ]
    }
   ],
   "source": [
    "print(\"Prosjek: \")\n",
    "print(np.mean(np_rnd))\n",
    "\n",
    "print(\"Medijan: \")\n",
    "print(np.median(np_rnd))\n",
    "\n",
    "print(\"Standardna devijacija: \")\n",
    "print(np.std(np_rnd))\n",
    "\n",
    "print(\"Najmanja vrijednost: \")\n",
    "print(np.min(np_rnd))\n",
    "\n",
    "print(\"Najveća vrijednost: \")\n",
    "print(np.max(np_rnd))\n",
    "\n",
    "print(np.all(np_rnd)) # vraća True ako se SVAKI element u nizu evaluira u True\n",
    "print(np.any(np_rnd))  # vraća True ako se BAREM JEDAN element u nizu evaluira u True"
   ]
  },
  {
   "cell_type": "markdown",
   "id": "ecff1d2b",
   "metadata": {},
   "source": [
    "## Funkcije filtriranja"
   ]
  },
  {
   "cell_type": "code",
   "execution_count": 154,
   "id": "a2a745d9",
   "metadata": {},
   "outputs": [
    {
     "name": "stdout",
     "output_type": "stream",
     "text": [
      "[-4. -3. -2. -1.  0.  1.  2.  3.  4.]\n"
     ]
    }
   ],
   "source": [
    "l1 = np.linspace(-4, 4, 9)\n",
    "print(l1)"
   ]
  },
  {
   "cell_type": "code",
   "execution_count": 156,
   "id": "e3d5bf77",
   "metadata": {},
   "outputs": [
    {
     "name": "stdout",
     "output_type": "stream",
     "text": [
      "[16.  9.  4.  1.  0.  1.  8. 27. 64.]\n"
     ]
    }
   ],
   "source": [
    "print(np.where(l1 < 0, l1**2, l1**3))"
   ]
  },
  {
   "cell_type": "code",
   "execution_count": 158,
   "id": "72b2cdd3",
   "metadata": {},
   "outputs": [
    {
     "name": "stdout",
     "output_type": "stream",
     "text": [
      "[-3. -2. -1.  1.  2.  3.  4.  6.  7.]\n"
     ]
    }
   ],
   "source": [
    "print(np.select([l1 < -1, l1 <= 2, l1 >= 2], [l1 + 1, l1 + 2, l1 + 3]))"
   ]
  },
  {
   "cell_type": "code",
   "execution_count": 169,
   "id": "16a35119",
   "metadata": {},
   "outputs": [
    {
     "name": "stdout",
     "output_type": "stream",
     "text": [
      "[4 2 5 6 3 3 3 7 6 1]\n",
      "[1 2 3 4 5 6 7]\n",
      "[1 2 3 3 3 4 5 6 6 7]\n"
     ]
    }
   ],
   "source": [
    "l2 = np.random.randint(1, 11, size=10)\n",
    "print(l2)\n",
    "print(np.unique(l2))\n",
    "print(np.sort(l2))"
   ]
  },
  {
   "cell_type": "markdown",
   "id": "1c399263",
   "metadata": {},
   "source": [
    "### Rješavanja jednadžbi"
   ]
  },
  {
   "cell_type": "code",
   "execution_count": 174,
   "id": "4be114b4",
   "metadata": {},
   "outputs": [
    {
     "name": "stdout",
     "output_type": "stream",
     "text": [
      "[-4.   4.5]\n",
      "[ 5.66666667 -1.09090909  0.87878788]\n"
     ]
    }
   ],
   "source": [
    "a = np.array([[1, 2], [3, 4]])\n",
    "b = np.array([5, 6])\n",
    "\n",
    "# x + 2y = 5\n",
    "# 3x + 4y = 6\n",
    "result = np.linalg.solve(a, b)\n",
    "print(result)\n",
    "\n",
    "\n",
    "a = np.array([[1, 2, 4], [3, 4, -3], [-2, -5, 1]])\n",
    "b = np.array([7, 10, -5])\n",
    "result = np.linalg.solve(a, b)\n",
    "print(result)"
   ]
  },
  {
   "cell_type": "markdown",
   "id": "e5215379",
   "metadata": {},
   "source": [
    "# Zadatak"
   ]
  },
  {
   "cell_type": "markdown",
   "id": "9bf3baa4",
   "metadata": {},
   "source": [
    "### Priča o najpoznatijoj matrici na svijetu - šahovskoj ploči\n",
    "\n",
    "**Šah**\n",
    "\n",
    "Najpoznatija matrica je ploča za jednu od najstarijih igara - šah. To je matrica 8x8.\n",
    "Legenda o tome kako je igra dobila ime šah je jako zanimljiva. Šah (perzijski naziv za vladara) je gledao kako njegove sluge od putujućih trgovaca kupuju namirnice, tkaninu, začine i sl. Tako je ugledao dvojicu trgovaca kako igraju neku čudnu igru. Poslao je slugu da dovede trgovca koji je donio tu igru u njegovo kraljevstvo. Šah (vladar) je zatražio od trgovca da ga nauči igrati. Kada je naučio kako se igra, šah se toliko oduševio igrom da je odlučio bogato nagraditi trgovca. Rekao mu je neka kaže što želi kao nagradu za ovu igru. Trgovac je šahu, nakon što je naveo sve one slatkorječive riječi vladarima, kao što su Vaša visosti i sl., rekao:\n",
    "\n",
    "*Želim pšenicu. Na prvo polje stavite jedno zrno pšenice. Na drugo dva zrna, na treće četiri, na četvrto dva puta više od prethodnog ... i tako do posljednjeg 64.-og polja.*\n",
    "\n",
    "Šah se jako uvrijedio jer je očekivao da će trgovac tražiti zlato, drago kamenje, skupe začine pa ga je potjerao u vrt rekavši mu da će svoju vreću pšenice dobiti za ručak. Slugama je naredio neka ga isplate i to da nikada više ne želi vidjeti tog trgovca u njegovom kraljevstvu.\n",
    "\n",
    "**PITANJE<br>\n",
    "Koliko je trgovac trebao dobiti pšenice? Napišite program koji će to izračunati.**"
   ]
  },
  {
   "cell_type": "code",
   "execution_count": 177,
   "id": "8adeeaea",
   "metadata": {},
   "outputs": [
    {
     "name": "stdout",
     "output_type": "stream",
     "text": [
      "18446744073709551615\n"
     ]
    }
   ],
   "source": [
    "lista = [2**i for i in range(0, 64)]\n",
    "print(sum(lista))"
   ]
  },
  {
   "cell_type": "code",
   "execution_count": 179,
   "id": "23c2e9cf",
   "metadata": {},
   "outputs": [
    {
     "name": "stdout",
     "output_type": "stream",
     "text": [
      "18446744073709551616\n"
     ]
    }
   ],
   "source": [
    "broj_zrna_psenica = 0\n",
    "for i in range(65):\n",
    "    if i == 0:\n",
    "        broj_zrna_psenica += 1\n",
    "    else:\n",
    "        broj_zrna_psenica *= 2\n",
    "\n",
    "print(broj_zrna_psenica)"
   ]
  },
  {
   "cell_type": "code",
   "execution_count": null,
   "id": "a85a7c3c",
   "metadata": {},
   "outputs": [],
   "source": []
  }
 ],
 "metadata": {
  "kernelspec": {
   "display_name": "Python 3 (ipykernel)",
   "language": "python",
   "name": "python3"
  },
  "language_info": {
   "codemirror_mode": {
    "name": "ipython",
    "version": 3
   },
   "file_extension": ".py",
   "mimetype": "text/x-python",
   "name": "python",
   "nbconvert_exporter": "python",
   "pygments_lexer": "ipython3",
   "version": "3.8.5"
  }
 },
 "nbformat": 4,
 "nbformat_minor": 5
}
