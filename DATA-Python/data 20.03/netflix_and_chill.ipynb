{
 "cells": [
  {
   "cell_type": "code",
   "execution_count": 12,
   "id": "3fa4d18f",
   "metadata": {},
   "outputs": [
    {
     "name": "stdout",
     "output_type": "stream",
     "text": [
      "Requirement already satisfied: matplotlib in c:\\programdata\\miniconda3\\lib\\site-packages (3.7.1)\n",
      "Requirement already satisfied: seaborn in c:\\programdata\\miniconda3\\lib\\site-packages (0.12.2)\n",
      "Requirement already satisfied: contourpy>=1.0.1 in c:\\programdata\\miniconda3\\lib\\site-packages (from matplotlib) (1.0.7)\n",
      "Requirement already satisfied: packaging>=20.0 in c:\\programdata\\miniconda3\\lib\\site-packages (from matplotlib) (23.0)\n",
      "Requirement already satisfied: kiwisolver>=1.0.1 in c:\\programdata\\miniconda3\\lib\\site-packages (from matplotlib) (1.4.4)\n",
      "Requirement already satisfied: cycler>=0.10 in c:\\programdata\\miniconda3\\lib\\site-packages (from matplotlib) (0.11.0)\n",
      "Requirement already satisfied: importlib-resources>=3.2.0; python_version < \"3.10\" in c:\\programdata\\miniconda3\\lib\\site-packages (from matplotlib) (5.12.0)\n",
      "Requirement already satisfied: pyparsing>=2.3.1 in c:\\programdata\\miniconda3\\lib\\site-packages (from matplotlib) (3.0.9)\n",
      "Requirement already satisfied: python-dateutil>=2.7 in c:\\programdata\\miniconda3\\lib\\site-packages (from matplotlib) (2.8.2)\n",
      "Requirement already satisfied: numpy>=1.20 in c:\\programdata\\miniconda3\\lib\\site-packages (from matplotlib) (1.24.2)\n",
      "Requirement already satisfied: pillow>=6.2.0 in c:\\programdata\\miniconda3\\lib\\site-packages (from matplotlib) (9.4.0)\n",
      "Requirement already satisfied: fonttools>=4.22.0 in c:\\programdata\\miniconda3\\lib\\site-packages (from matplotlib) (4.39.0)\n",
      "Requirement already satisfied: pandas>=0.25 in c:\\programdata\\miniconda3\\lib\\site-packages (from seaborn) (1.5.3)\n",
      "Requirement already satisfied: zipp>=3.1.0; python_version < \"3.10\" in c:\\programdata\\miniconda3\\lib\\site-packages (from importlib-resources>=3.2.0; python_version < \"3.10\"->matplotlib) (3.14.0)\n",
      "Requirement already satisfied: six>=1.5 in c:\\programdata\\miniconda3\\lib\\site-packages (from python-dateutil>=2.7->matplotlib) (1.15.0)\n",
      "Requirement already satisfied: pytz>=2020.1 in c:\\programdata\\miniconda3\\lib\\site-packages (from pandas>=0.25->seaborn) (2022.7.1)\n",
      "Note: you may need to restart the kernel to use updated packages.\n"
     ]
    }
   ],
   "source": [
    "%pip install matplotlib seaborn"
   ]
  },
  {
   "cell_type": "code",
   "execution_count": 205,
   "id": "2be02871",
   "metadata": {},
   "outputs": [],
   "source": [
    "import pandas as pd\n",
    "import matplotlib.pyplot as plt\n",
    "import seaborn as sns\n",
    "import numpy as np\n",
    "\n",
    "#dobra praksa:\n",
    "\n",
    "plt.rcParams['figure.dpi'] = 140\n",
    "# dpi ako stavimo na 140, onda je figsize settan na 1400x700"
   ]
  },
  {
   "cell_type": "code",
   "execution_count": 77,
   "id": "dded20c7",
   "metadata": {},
   "outputs": [],
   "source": [
    "df = pd.read_csv(\"netflix_titles.csv\")"
   ]
  },
  {
   "cell_type": "code",
   "execution_count": 78,
   "id": "7ebc2715",
   "metadata": {},
   "outputs": [
    {
     "data": {
      "text/html": [
       "<div>\n",
       "<style scoped>\n",
       "    .dataframe tbody tr th:only-of-type {\n",
       "        vertical-align: middle;\n",
       "    }\n",
       "\n",
       "    .dataframe tbody tr th {\n",
       "        vertical-align: top;\n",
       "    }\n",
       "\n",
       "    .dataframe thead th {\n",
       "        text-align: right;\n",
       "    }\n",
       "</style>\n",
       "<table border=\"1\" class=\"dataframe\">\n",
       "  <thead>\n",
       "    <tr style=\"text-align: right;\">\n",
       "      <th></th>\n",
       "      <th>show_id</th>\n",
       "      <th>type</th>\n",
       "      <th>title</th>\n",
       "      <th>director</th>\n",
       "      <th>cast</th>\n",
       "      <th>country</th>\n",
       "      <th>date_added</th>\n",
       "      <th>release_year</th>\n",
       "      <th>rating</th>\n",
       "      <th>duration</th>\n",
       "      <th>listed_in</th>\n",
       "      <th>description</th>\n",
       "    </tr>\n",
       "  </thead>\n",
       "  <tbody>\n",
       "    <tr>\n",
       "      <th>0</th>\n",
       "      <td>s1</td>\n",
       "      <td>TV Show</td>\n",
       "      <td>3%</td>\n",
       "      <td>NaN</td>\n",
       "      <td>João Miguel, Bianca Comparato, Michel Gomes, R...</td>\n",
       "      <td>Brazil</td>\n",
       "      <td>August 14, 2020</td>\n",
       "      <td>2020</td>\n",
       "      <td>TV-MA</td>\n",
       "      <td>4 Seasons</td>\n",
       "      <td>International TV Shows, TV Dramas, TV Sci-Fi &amp;...</td>\n",
       "      <td>In a future where the elite inhabit an island ...</td>\n",
       "    </tr>\n",
       "    <tr>\n",
       "      <th>1</th>\n",
       "      <td>s2</td>\n",
       "      <td>Movie</td>\n",
       "      <td>7:19</td>\n",
       "      <td>Jorge Michel Grau</td>\n",
       "      <td>Demián Bichir, Héctor Bonilla, Oscar Serrano, ...</td>\n",
       "      <td>Mexico</td>\n",
       "      <td>December 23, 2016</td>\n",
       "      <td>2016</td>\n",
       "      <td>TV-MA</td>\n",
       "      <td>93 min</td>\n",
       "      <td>Dramas, International Movies</td>\n",
       "      <td>After a devastating earthquake hits Mexico Cit...</td>\n",
       "    </tr>\n",
       "    <tr>\n",
       "      <th>2</th>\n",
       "      <td>s3</td>\n",
       "      <td>Movie</td>\n",
       "      <td>23:59</td>\n",
       "      <td>Gilbert Chan</td>\n",
       "      <td>Tedd Chan, Stella Chung, Henley Hii, Lawrence ...</td>\n",
       "      <td>Singapore</td>\n",
       "      <td>December 20, 2018</td>\n",
       "      <td>2011</td>\n",
       "      <td>R</td>\n",
       "      <td>78 min</td>\n",
       "      <td>Horror Movies, International Movies</td>\n",
       "      <td>When an army recruit is found dead, his fellow...</td>\n",
       "    </tr>\n",
       "    <tr>\n",
       "      <th>3</th>\n",
       "      <td>s4</td>\n",
       "      <td>Movie</td>\n",
       "      <td>9</td>\n",
       "      <td>Shane Acker</td>\n",
       "      <td>Elijah Wood, John C. Reilly, Jennifer Connelly...</td>\n",
       "      <td>United States</td>\n",
       "      <td>November 16, 2017</td>\n",
       "      <td>2009</td>\n",
       "      <td>PG-13</td>\n",
       "      <td>80 min</td>\n",
       "      <td>Action &amp; Adventure, Independent Movies, Sci-Fi...</td>\n",
       "      <td>In a postapocalyptic world, rag-doll robots hi...</td>\n",
       "    </tr>\n",
       "    <tr>\n",
       "      <th>4</th>\n",
       "      <td>s5</td>\n",
       "      <td>Movie</td>\n",
       "      <td>21</td>\n",
       "      <td>Robert Luketic</td>\n",
       "      <td>Jim Sturgess, Kevin Spacey, Kate Bosworth, Aar...</td>\n",
       "      <td>United States</td>\n",
       "      <td>January 1, 2020</td>\n",
       "      <td>2008</td>\n",
       "      <td>PG-13</td>\n",
       "      <td>123 min</td>\n",
       "      <td>Dramas</td>\n",
       "      <td>A brilliant group of students become card-coun...</td>\n",
       "    </tr>\n",
       "  </tbody>\n",
       "</table>\n",
       "</div>"
      ],
      "text/plain": [
       "  show_id     type  title           director  \\\n",
       "0      s1  TV Show     3%                NaN   \n",
       "1      s2    Movie   7:19  Jorge Michel Grau   \n",
       "2      s3    Movie  23:59       Gilbert Chan   \n",
       "3      s4    Movie      9        Shane Acker   \n",
       "4      s5    Movie     21     Robert Luketic   \n",
       "\n",
       "                                                cast        country  \\\n",
       "0  João Miguel, Bianca Comparato, Michel Gomes, R...         Brazil   \n",
       "1  Demián Bichir, Héctor Bonilla, Oscar Serrano, ...         Mexico   \n",
       "2  Tedd Chan, Stella Chung, Henley Hii, Lawrence ...      Singapore   \n",
       "3  Elijah Wood, John C. Reilly, Jennifer Connelly...  United States   \n",
       "4  Jim Sturgess, Kevin Spacey, Kate Bosworth, Aar...  United States   \n",
       "\n",
       "          date_added  release_year rating   duration  \\\n",
       "0    August 14, 2020          2020  TV-MA  4 Seasons   \n",
       "1  December 23, 2016          2016  TV-MA     93 min   \n",
       "2  December 20, 2018          2011      R     78 min   \n",
       "3  November 16, 2017          2009  PG-13     80 min   \n",
       "4    January 1, 2020          2008  PG-13    123 min   \n",
       "\n",
       "                                           listed_in  \\\n",
       "0  International TV Shows, TV Dramas, TV Sci-Fi &...   \n",
       "1                       Dramas, International Movies   \n",
       "2                Horror Movies, International Movies   \n",
       "3  Action & Adventure, Independent Movies, Sci-Fi...   \n",
       "4                                             Dramas   \n",
       "\n",
       "                                         description  \n",
       "0  In a future where the elite inhabit an island ...  \n",
       "1  After a devastating earthquake hits Mexico Cit...  \n",
       "2  When an army recruit is found dead, his fellow...  \n",
       "3  In a postapocalyptic world, rag-doll robots hi...  \n",
       "4  A brilliant group of students become card-coun...  "
      ]
     },
     "execution_count": 78,
     "metadata": {},
     "output_type": "execute_result"
    }
   ],
   "source": [
    "df.head()\n",
    "# "
   ]
  },
  {
   "cell_type": "code",
   "execution_count": 79,
   "id": "99c7042a",
   "metadata": {},
   "outputs": [
    {
     "name": "stdout",
     "output_type": "stream",
     "text": [
      "<class 'pandas.core.frame.DataFrame'>\n",
      "RangeIndex: 7787 entries, 0 to 7786\n",
      "Data columns (total 12 columns):\n",
      " #   Column        Non-Null Count  Dtype \n",
      "---  ------        --------------  ----- \n",
      " 0   show_id       7787 non-null   object\n",
      " 1   type          7787 non-null   object\n",
      " 2   title         7787 non-null   object\n",
      " 3   director      5398 non-null   object\n",
      " 4   cast          7069 non-null   object\n",
      " 5   country       7280 non-null   object\n",
      " 6   date_added    7777 non-null   object\n",
      " 7   release_year  7787 non-null   int64 \n",
      " 8   rating        7780 non-null   object\n",
      " 9   duration      7787 non-null   object\n",
      " 10  listed_in     7787 non-null   object\n",
      " 11  description   7787 non-null   object\n",
      "dtypes: int64(1), object(11)\n",
      "memory usage: 730.2+ KB\n"
     ]
    }
   ],
   "source": [
    "df.info()"
   ]
  },
  {
   "cell_type": "code",
   "execution_count": 80,
   "id": "6d7696f5",
   "metadata": {},
   "outputs": [
    {
     "data": {
      "text/plain": [
       "show_id            0\n",
       "type               0\n",
       "title              0\n",
       "director        2389\n",
       "cast             718\n",
       "country          507\n",
       "date_added        10\n",
       "release_year       0\n",
       "rating             7\n",
       "duration           0\n",
       "listed_in          0\n",
       "description        0\n",
       "dtype: int64"
      ]
     },
     "execution_count": 80,
     "metadata": {},
     "output_type": "execute_result"
    }
   ],
   "source": [
    "df.isnull().sum()"
   ]
  },
  {
   "cell_type": "markdown",
   "id": "7c1c062a",
   "metadata": {},
   "source": [
    "### zadatak:\n",
    "- za svaki od stupaca koji imaju prazne vrijednosti ispisati tocnu brojku takvih vrijednosti te koliki je njihov postotak"
   ]
  },
  {
   "cell_type": "code",
   "execution_count": 81,
   "id": "7abc32bf",
   "metadata": {},
   "outputs": [
    {
     "data": {
      "text/plain": [
       "7"
      ]
     },
     "execution_count": 81,
     "metadata": {},
     "output_type": "execute_result"
    }
   ],
   "source": [
    "df.rating.isnull().sum()"
   ]
  },
  {
   "cell_type": "code",
   "execution_count": 82,
   "id": "80ecdc5a",
   "metadata": {},
   "outputs": [
    {
     "data": {
      "text/plain": [
       "7780"
      ]
     },
     "execution_count": 82,
     "metadata": {},
     "output_type": "execute_result"
    }
   ],
   "source": [
    "df.rating.count()"
   ]
  },
  {
   "cell_type": "code",
   "execution_count": 83,
   "id": "017a39f7",
   "metadata": {},
   "outputs": [
    {
     "data": {
      "text/plain": [
       "0          s1\n",
       "1          s2\n",
       "2          s3\n",
       "3          s4\n",
       "4          s5\n",
       "        ...  \n",
       "7782    s7783\n",
       "7783    s7784\n",
       "7784    s7785\n",
       "7785    s7786\n",
       "7786    s7787\n",
       "Name: show_id, Length: 7787, dtype: object"
      ]
     },
     "execution_count": 83,
     "metadata": {},
     "output_type": "execute_result"
    }
   ],
   "source": [
    "df[\"show_id\"]"
   ]
  },
  {
   "cell_type": "code",
   "execution_count": 84,
   "id": "749242cc",
   "metadata": {},
   "outputs": [
    {
     "name": "stdout",
     "output_type": "stream",
     "text": [
      "director has 30.68 % of empty values.\n",
      "cast has 9.22 % of empty values.\n",
      "country has 6.51 % of empty values.\n",
      "date_added has 0.13 % of empty values.\n",
      "rating has 0.09 % of empty values.\n"
     ]
    }
   ],
   "source": [
    "def print_empty_columns():\n",
    "    for column in df.columns:\n",
    "        null_count = df[column].isnull().sum() / len(df) * 100\n",
    "        \n",
    "        if null_count:\n",
    "            print(f\"{column} has {round(null_count, 2)} % of empty values.\")\n",
    "            \n",
    "print_empty_columns()"
   ]
  },
  {
   "cell_type": "markdown",
   "id": "c4735af6",
   "metadata": {},
   "source": [
    "# zadatak:\n",
    "ove prazne vrijednosti zelimo urediti na sljedeci nacin:\n",
    "    - za director postaviti no data\n",
    "    - za cast postaviti no data\n",
    "    - za country postaviti drzavu u kojoj je snimljeno najvise filmova\n",
    "    - retke s praznim date_added i rating stupcem izbacujemo iz dataframe-a"
   ]
  },
  {
   "cell_type": "markdown",
   "id": "11d74a3c",
   "metadata": {},
   "source": [
    "## director"
   ]
  },
  {
   "cell_type": "code",
   "execution_count": 86,
   "id": "82ccb963",
   "metadata": {},
   "outputs": [],
   "source": [
    "\n",
    "\n",
    "df[\"director\"] = df[\"director\"].fillna(\"No Data\")"
   ]
  },
  {
   "cell_type": "code",
   "execution_count": 75,
   "id": "611765a8",
   "metadata": {},
   "outputs": [
    {
     "name": "stdout",
     "output_type": "stream",
     "text": [
      "cast has 9.22 % of empty values.\n",
      "country has 6.51 % of empty values.\n",
      "date_added has 0.13 % of empty values.\n",
      "rating has 0.09 % of empty values.\n"
     ]
    }
   ],
   "source": [
    "print_empty_columns()"
   ]
  },
  {
   "cell_type": "markdown",
   "id": "957ff066",
   "metadata": {},
   "source": [
    "## cast"
   ]
  },
  {
   "cell_type": "code",
   "execution_count": 87,
   "id": "d93c0ef8",
   "metadata": {},
   "outputs": [],
   "source": [
    "\n",
    "\n",
    "df[\"cast\"] = df[\"cast\"].fillna(\"No Data\")"
   ]
  },
  {
   "cell_type": "code",
   "execution_count": 88,
   "id": "10d54462",
   "metadata": {},
   "outputs": [
    {
     "name": "stdout",
     "output_type": "stream",
     "text": [
      "country has 6.51 % of empty values.\n",
      "date_added has 0.13 % of empty values.\n",
      "rating has 0.09 % of empty values.\n"
     ]
    }
   ],
   "source": [
    "print_empty_columns()"
   ]
  },
  {
   "cell_type": "markdown",
   "id": "82069ef0",
   "metadata": {},
   "source": [
    "## country"
   ]
  },
  {
   "cell_type": "code",
   "execution_count": 93,
   "id": "dcc76e37",
   "metadata": {},
   "outputs": [
    {
     "data": {
      "text/plain": [
       "'United States'"
      ]
     },
     "execution_count": 93,
     "metadata": {},
     "output_type": "execute_result"
    }
   ],
   "source": [
    "\n",
    "df.country.value_counts(ascending=False).index[0]"
   ]
  },
  {
   "cell_type": "code",
   "execution_count": 95,
   "id": "76ab6379",
   "metadata": {},
   "outputs": [
    {
     "data": {
      "text/plain": [
       "'United States'"
      ]
     },
     "execution_count": 95,
     "metadata": {},
     "output_type": "execute_result"
    }
   ],
   "source": [
    "df.country.value_counts(ascending=False).idxmax()"
   ]
  },
  {
   "cell_type": "code",
   "execution_count": 98,
   "id": "edef6f8a",
   "metadata": {},
   "outputs": [
    {
     "data": {
      "text/plain": [
       "0    United States\n",
       "Name: country, dtype: object"
      ]
     },
     "execution_count": 98,
     "metadata": {},
     "output_type": "execute_result"
    }
   ],
   "source": [
    "df.country.mode()"
   ]
  },
  {
   "cell_type": "code",
   "execution_count": 99,
   "id": "756d161b",
   "metadata": {},
   "outputs": [
    {
     "data": {
      "text/plain": [
       "'United States'"
      ]
     },
     "execution_count": 99,
     "metadata": {},
     "output_type": "execute_result"
    }
   ],
   "source": [
    "df.country.mode()[0]"
   ]
  },
  {
   "cell_type": "code",
   "execution_count": 100,
   "id": "06c0b4ef",
   "metadata": {},
   "outputs": [],
   "source": [
    "most_often_country = df.country.mode()[0]"
   ]
  },
  {
   "cell_type": "code",
   "execution_count": 108,
   "id": "f62071f5",
   "metadata": {},
   "outputs": [],
   "source": [
    "df.country = df.country.fillna(most_often_country)"
   ]
  },
  {
   "cell_type": "markdown",
   "id": "e2fdef71",
   "metadata": {},
   "source": [
    "## rating i date added"
   ]
  },
  {
   "cell_type": "code",
   "execution_count": 109,
   "id": "332e4c68",
   "metadata": {},
   "outputs": [
    {
     "name": "stdout",
     "output_type": "stream",
     "text": [
      "<class 'pandas.core.frame.DataFrame'>\n",
      "Int64Index: 7265 entries, 0 to 7786\n",
      "Data columns (total 12 columns):\n",
      " #   Column        Non-Null Count  Dtype \n",
      "---  ------        --------------  ----- \n",
      " 0   show_id       7265 non-null   object\n",
      " 1   type          7265 non-null   object\n",
      " 2   title         7265 non-null   object\n",
      " 3   director      7265 non-null   object\n",
      " 4   cast          7265 non-null   object\n",
      " 5   country       7265 non-null   object\n",
      " 6   date_added    7265 non-null   object\n",
      " 7   release_year  7265 non-null   int64 \n",
      " 8   rating        7265 non-null   object\n",
      " 9   duration      7265 non-null   object\n",
      " 10  listed_in     7265 non-null   object\n",
      " 11  description   7265 non-null   object\n",
      "dtypes: int64(1), object(11)\n",
      "memory usage: 737.9+ KB\n"
     ]
    }
   ],
   "source": [
    "df.info()"
   ]
  },
  {
   "cell_type": "code",
   "execution_count": 110,
   "id": "7bf9ba3c",
   "metadata": {},
   "outputs": [],
   "source": [
    "df = df.dropna()"
   ]
  },
  {
   "cell_type": "code",
   "execution_count": 111,
   "id": "1fba4cac",
   "metadata": {},
   "outputs": [],
   "source": [
    "print_empty_columns()"
   ]
  },
  {
   "cell_type": "code",
   "execution_count": 113,
   "id": "9fa15ee1",
   "metadata": {},
   "outputs": [
    {
     "name": "stdout",
     "output_type": "stream",
     "text": [
      "<class 'pandas.core.frame.DataFrame'>\n",
      "Int64Index: 7265 entries, 0 to 7786\n",
      "Data columns (total 12 columns):\n",
      " #   Column        Non-Null Count  Dtype \n",
      "---  ------        --------------  ----- \n",
      " 0   show_id       7265 non-null   object\n",
      " 1   type          7265 non-null   object\n",
      " 2   title         7265 non-null   object\n",
      " 3   director      7265 non-null   object\n",
      " 4   cast          7265 non-null   object\n",
      " 5   country       7265 non-null   object\n",
      " 6   date_added    7265 non-null   object\n",
      " 7   release_year  7265 non-null   int64 \n",
      " 8   rating        7265 non-null   object\n",
      " 9   duration      7265 non-null   object\n",
      " 10  listed_in     7265 non-null   object\n",
      " 11  description   7265 non-null   object\n",
      "dtypes: int64(1), object(11)\n",
      "memory usage: 737.9+ KB\n"
     ]
    }
   ],
   "source": [
    "df.info()"
   ]
  },
  {
   "cell_type": "markdown",
   "id": "9877169b",
   "metadata": {},
   "source": [
    "## Rjesavanje duplikata"
   ]
  },
  {
   "cell_type": "code",
   "execution_count": 126,
   "id": "62c19be6",
   "metadata": {},
   "outputs": [
    {
     "data": {
      "text/html": [
       "<div>\n",
       "<style scoped>\n",
       "    .dataframe tbody tr th:only-of-type {\n",
       "        vertical-align: middle;\n",
       "    }\n",
       "\n",
       "    .dataframe tbody tr th {\n",
       "        vertical-align: top;\n",
       "    }\n",
       "\n",
       "    .dataframe thead th {\n",
       "        text-align: right;\n",
       "    }\n",
       "</style>\n",
       "<table border=\"1\" class=\"dataframe\">\n",
       "  <thead>\n",
       "    <tr style=\"text-align: right;\">\n",
       "      <th></th>\n",
       "      <th>first_name</th>\n",
       "      <th>last_name</th>\n",
       "      <th>favourite_animal</th>\n",
       "    </tr>\n",
       "  </thead>\n",
       "  <tbody>\n",
       "    <tr>\n",
       "      <th>0</th>\n",
       "      <td>John</td>\n",
       "      <td>Doe</td>\n",
       "      <td>dog</td>\n",
       "    </tr>\n",
       "    <tr>\n",
       "      <th>1</th>\n",
       "      <td>Jack</td>\n",
       "      <td>Biden</td>\n",
       "      <td>dog</td>\n",
       "    </tr>\n",
       "    <tr>\n",
       "      <th>2</th>\n",
       "      <td>John</td>\n",
       "      <td>Doe</td>\n",
       "      <td>dog</td>\n",
       "    </tr>\n",
       "    <tr>\n",
       "      <th>3</th>\n",
       "      <td>John</td>\n",
       "      <td>Daniels</td>\n",
       "      <td>bird</td>\n",
       "    </tr>\n",
       "    <tr>\n",
       "      <th>4</th>\n",
       "      <td>Joe</td>\n",
       "      <td>Nicholson</td>\n",
       "      <td>lion</td>\n",
       "    </tr>\n",
       "  </tbody>\n",
       "</table>\n",
       "</div>"
      ],
      "text/plain": [
       "  first_name  last_name favourite_animal\n",
       "0       John        Doe              dog\n",
       "1       Jack      Biden              dog\n",
       "2       John        Doe              dog\n",
       "3       John    Daniels             bird\n",
       "4        Joe  Nicholson             lion"
      ]
     },
     "execution_count": 126,
     "metadata": {},
     "output_type": "execute_result"
    }
   ],
   "source": [
    "my_df = pd.DataFrame(\n",
    "    {\n",
    "        \"first_name\": [\"John\", \"Jack\", \"John\", \"John\", \"Joe\"],\n",
    "        \"last_name\": [\"Doe\", \"Biden\", \"Doe\", \"Daniels\", \"Nicholson\"],\n",
    "        \"favourite_animal\": [\"dog\", \"dog\", \"dog\", \"bird\", \"lion\"]\n",
    "    }\n",
    ")\n",
    "\n",
    "my_df"
   ]
  },
  {
   "cell_type": "code",
   "execution_count": 131,
   "id": "aa4dcb6a",
   "metadata": {},
   "outputs": [
    {
     "data": {
      "text/plain": [
       "0    False\n",
       "1    False\n",
       "2     True\n",
       "3    False\n",
       "4    False\n",
       "dtype: bool"
      ]
     },
     "execution_count": 131,
     "metadata": {},
     "output_type": "execute_result"
    }
   ],
   "source": [
    "my_df.duplicated()"
   ]
  },
  {
   "cell_type": "code",
   "execution_count": 132,
   "id": "60716733",
   "metadata": {},
   "outputs": [
    {
     "data": {
      "text/html": [
       "<div>\n",
       "<style scoped>\n",
       "    .dataframe tbody tr th:only-of-type {\n",
       "        vertical-align: middle;\n",
       "    }\n",
       "\n",
       "    .dataframe tbody tr th {\n",
       "        vertical-align: top;\n",
       "    }\n",
       "\n",
       "    .dataframe thead th {\n",
       "        text-align: right;\n",
       "    }\n",
       "</style>\n",
       "<table border=\"1\" class=\"dataframe\">\n",
       "  <thead>\n",
       "    <tr style=\"text-align: right;\">\n",
       "      <th></th>\n",
       "      <th>first_name</th>\n",
       "      <th>last_name</th>\n",
       "      <th>favourite_animal</th>\n",
       "    </tr>\n",
       "  </thead>\n",
       "  <tbody>\n",
       "    <tr>\n",
       "      <th>2</th>\n",
       "      <td>John</td>\n",
       "      <td>Doe</td>\n",
       "      <td>dog</td>\n",
       "    </tr>\n",
       "  </tbody>\n",
       "</table>\n",
       "</div>"
      ],
      "text/plain": [
       "  first_name last_name favourite_animal\n",
       "2       John       Doe              dog"
      ]
     },
     "execution_count": 132,
     "metadata": {},
     "output_type": "execute_result"
    }
   ],
   "source": [
    "my_df[my_df.duplicated()]"
   ]
  },
  {
   "cell_type": "code",
   "execution_count": 136,
   "id": "f54e85bf",
   "metadata": {},
   "outputs": [],
   "source": [
    "my_df = my_df.drop_duplicates()"
   ]
  },
  {
   "cell_type": "code",
   "execution_count": 137,
   "id": "962eaeb9",
   "metadata": {},
   "outputs": [
    {
     "data": {
      "text/plain": [
       "0    False\n",
       "1    False\n",
       "3     True\n",
       "4    False\n",
       "dtype: bool"
      ]
     },
     "execution_count": 137,
     "metadata": {},
     "output_type": "execute_result"
    }
   ],
   "source": [
    "my_df.duplicated(subset=[\"first_name\"])"
   ]
  },
  {
   "cell_type": "code",
   "execution_count": 138,
   "id": "4cfd7509",
   "metadata": {},
   "outputs": [
    {
     "data": {
      "text/plain": [
       "0"
      ]
     },
     "execution_count": 138,
     "metadata": {},
     "output_type": "execute_result"
    }
   ],
   "source": [
    "df.duplicated().sum()"
   ]
  },
  {
   "cell_type": "code",
   "execution_count": 139,
   "id": "a8376811",
   "metadata": {},
   "outputs": [
    {
     "data": {
      "text/html": [
       "<div>\n",
       "<style scoped>\n",
       "    .dataframe tbody tr th:only-of-type {\n",
       "        vertical-align: middle;\n",
       "    }\n",
       "\n",
       "    .dataframe tbody tr th {\n",
       "        vertical-align: top;\n",
       "    }\n",
       "\n",
       "    .dataframe thead th {\n",
       "        text-align: right;\n",
       "    }\n",
       "</style>\n",
       "<table border=\"1\" class=\"dataframe\">\n",
       "  <thead>\n",
       "    <tr style=\"text-align: right;\">\n",
       "      <th></th>\n",
       "      <th>show_id</th>\n",
       "      <th>type</th>\n",
       "      <th>title</th>\n",
       "      <th>director</th>\n",
       "      <th>cast</th>\n",
       "      <th>country</th>\n",
       "      <th>date_added</th>\n",
       "      <th>release_year</th>\n",
       "      <th>rating</th>\n",
       "      <th>duration</th>\n",
       "      <th>listed_in</th>\n",
       "      <th>description</th>\n",
       "    </tr>\n",
       "  </thead>\n",
       "  <tbody>\n",
       "  </tbody>\n",
       "</table>\n",
       "</div>"
      ],
      "text/plain": [
       "Empty DataFrame\n",
       "Columns: [show_id, type, title, director, cast, country, date_added, release_year, rating, duration, listed_in, description]\n",
       "Index: []"
      ]
     },
     "execution_count": 139,
     "metadata": {},
     "output_type": "execute_result"
    }
   ],
   "source": [
    "df[df.duplicated()]"
   ]
  },
  {
   "cell_type": "code",
   "execution_count": 140,
   "id": "bf4c9ef7",
   "metadata": {},
   "outputs": [
    {
     "name": "stdout",
     "output_type": "stream",
     "text": [
      "<class 'pandas.core.frame.DataFrame'>\n",
      "Int64Index: 7265 entries, 0 to 7786\n",
      "Data columns (total 12 columns):\n",
      " #   Column        Non-Null Count  Dtype \n",
      "---  ------        --------------  ----- \n",
      " 0   show_id       7265 non-null   object\n",
      " 1   type          7265 non-null   object\n",
      " 2   title         7265 non-null   object\n",
      " 3   director      7265 non-null   object\n",
      " 4   cast          7265 non-null   object\n",
      " 5   country       7265 non-null   object\n",
      " 6   date_added    7265 non-null   object\n",
      " 7   release_year  7265 non-null   int64 \n",
      " 8   rating        7265 non-null   object\n",
      " 9   duration      7265 non-null   object\n",
      " 10  listed_in     7265 non-null   object\n",
      " 11  description   7265 non-null   object\n",
      "dtypes: int64(1), object(11)\n",
      "memory usage: 737.9+ KB\n"
     ]
    }
   ],
   "source": [
    "df.info()"
   ]
  },
  {
   "cell_type": "code",
   "execution_count": 142,
   "id": "661592b0",
   "metadata": {},
   "outputs": [],
   "source": [
    "df = df.drop_duplicates()"
   ]
  },
  {
   "cell_type": "code",
   "execution_count": 144,
   "id": "5e37695e",
   "metadata": {},
   "outputs": [
    {
     "name": "stdout",
     "output_type": "stream",
     "text": [
      "<class 'pandas.core.frame.DataFrame'>\n",
      "Int64Index: 7265 entries, 0 to 7786\n",
      "Data columns (total 12 columns):\n",
      " #   Column        Non-Null Count  Dtype \n",
      "---  ------        --------------  ----- \n",
      " 0   show_id       7265 non-null   object\n",
      " 1   type          7265 non-null   object\n",
      " 2   title         7265 non-null   object\n",
      " 3   director      7265 non-null   object\n",
      " 4   cast          7265 non-null   object\n",
      " 5   country       7265 non-null   object\n",
      " 6   date_added    7265 non-null   object\n",
      " 7   release_year  7265 non-null   int64 \n",
      " 8   rating        7265 non-null   object\n",
      " 9   duration      7265 non-null   object\n",
      " 10  listed_in     7265 non-null   object\n",
      " 11  description   7265 non-null   object\n",
      "dtypes: int64(1), object(11)\n",
      "memory usage: 737.9+ KB\n"
     ]
    }
   ],
   "source": [
    "df.info()"
   ]
  },
  {
   "cell_type": "markdown",
   "id": "6946fce4",
   "metadata": {},
   "source": [
    "### dodatno sredjivanje datuma"
   ]
  },
  {
   "cell_type": "markdown",
   "id": "fc7a9a37",
   "metadata": {},
   "source": [
    "date_added je object, pretvoriti ga u datetime:\n",
    "\n",
    "nakon sto dobijemo datetime:\n",
    " - u stupac month_added izdvojiti broj mjeseca (int)\n",
    " - u stupac month_name_added izdvojiti naziv mjeseca (string)\n",
    " - u stupac year_added izdvojiti godinu (int)"
   ]
  },
  {
   "cell_type": "code",
   "execution_count": 147,
   "id": "02fec6e5",
   "metadata": {},
   "outputs": [],
   "source": [
    "df.date_added = pd.to_datetime(df.date_added)"
   ]
  },
  {
   "cell_type": "code",
   "execution_count": 148,
   "id": "ac2da726",
   "metadata": {},
   "outputs": [
    {
     "name": "stdout",
     "output_type": "stream",
     "text": [
      "<class 'pandas.core.frame.DataFrame'>\n",
      "Int64Index: 7265 entries, 0 to 7786\n",
      "Data columns (total 12 columns):\n",
      " #   Column        Non-Null Count  Dtype         \n",
      "---  ------        --------------  -----         \n",
      " 0   show_id       7265 non-null   object        \n",
      " 1   type          7265 non-null   object        \n",
      " 2   title         7265 non-null   object        \n",
      " 3   director      7265 non-null   object        \n",
      " 4   cast          7265 non-null   object        \n",
      " 5   country       7265 non-null   object        \n",
      " 6   date_added    7265 non-null   datetime64[ns]\n",
      " 7   release_year  7265 non-null   int64         \n",
      " 8   rating        7265 non-null   object        \n",
      " 9   duration      7265 non-null   object        \n",
      " 10  listed_in     7265 non-null   object        \n",
      " 11  description   7265 non-null   object        \n",
      "dtypes: datetime64[ns](1), int64(1), object(10)\n",
      "memory usage: 737.9+ KB\n"
     ]
    }
   ],
   "source": [
    "df.info()"
   ]
  },
  {
   "cell_type": "code",
   "execution_count": 151,
   "id": "e1907179",
   "metadata": {},
   "outputs": [],
   "source": [
    "df[\"month_added\"] = df[\"date_added\"].dt.month"
   ]
  },
  {
   "cell_type": "code",
   "execution_count": 152,
   "id": "514cc128",
   "metadata": {},
   "outputs": [
    {
     "name": "stdout",
     "output_type": "stream",
     "text": [
      "<class 'pandas.core.frame.DataFrame'>\n",
      "Int64Index: 7265 entries, 0 to 7786\n",
      "Data columns (total 13 columns):\n",
      " #   Column        Non-Null Count  Dtype         \n",
      "---  ------        --------------  -----         \n",
      " 0   show_id       7265 non-null   object        \n",
      " 1   type          7265 non-null   object        \n",
      " 2   title         7265 non-null   object        \n",
      " 3   director      7265 non-null   object        \n",
      " 4   cast          7265 non-null   object        \n",
      " 5   country       7265 non-null   object        \n",
      " 6   date_added    7265 non-null   datetime64[ns]\n",
      " 7   release_year  7265 non-null   int64         \n",
      " 8   rating        7265 non-null   object        \n",
      " 9   duration      7265 non-null   object        \n",
      " 10  listed_in     7265 non-null   object        \n",
      " 11  description   7265 non-null   object        \n",
      " 12  month_added   7265 non-null   int64         \n",
      "dtypes: datetime64[ns](1), int64(2), object(10)\n",
      "memory usage: 794.6+ KB\n"
     ]
    }
   ],
   "source": [
    "df.info()"
   ]
  },
  {
   "cell_type": "code",
   "execution_count": null,
   "id": "4127c851",
   "metadata": {},
   "outputs": [],
   "source": [
    "df[\"month_name\"] = df[\"date_added\"].dt.month"
   ]
  },
  {
   "cell_type": "code",
   "execution_count": 153,
   "id": "7b2dc5a0",
   "metadata": {},
   "outputs": [],
   "source": [
    "df[\"month_name_added\"] = df[\"date_added\"].dt.month_name"
   ]
  },
  {
   "cell_type": "code",
   "execution_count": 155,
   "id": "49b008b4",
   "metadata": {},
   "outputs": [
    {
     "name": "stdout",
     "output_type": "stream",
     "text": [
      "<class 'pandas.core.frame.DataFrame'>\n",
      "Int64Index: 7265 entries, 0 to 7786\n",
      "Data columns (total 14 columns):\n",
      " #   Column            Non-Null Count  Dtype         \n",
      "---  ------            --------------  -----         \n",
      " 0   show_id           7265 non-null   object        \n",
      " 1   type              7265 non-null   object        \n",
      " 2   title             7265 non-null   object        \n",
      " 3   director          7265 non-null   object        \n",
      " 4   cast              7265 non-null   object        \n",
      " 5   country           7265 non-null   object        \n",
      " 6   date_added        7265 non-null   datetime64[ns]\n",
      " 7   release_year      7265 non-null   int64         \n",
      " 8   rating            7265 non-null   object        \n",
      " 9   duration          7265 non-null   object        \n",
      " 10  listed_in         7265 non-null   object        \n",
      " 11  description       7265 non-null   object        \n",
      " 12  month_added       7265 non-null   int64         \n",
      " 13  month_name_added  7265 non-null   object        \n",
      "dtypes: datetime64[ns](1), int64(2), object(11)\n",
      "memory usage: 851.4+ KB\n"
     ]
    }
   ],
   "source": [
    "df.info()"
   ]
  },
  {
   "cell_type": "code",
   "execution_count": 156,
   "id": "260ddb87",
   "metadata": {},
   "outputs": [],
   "source": [
    "df[\"year_added\"] = df[\"date_added\"].dt.year"
   ]
  },
  {
   "cell_type": "code",
   "execution_count": 157,
   "id": "dbaa2ef6",
   "metadata": {},
   "outputs": [
    {
     "name": "stdout",
     "output_type": "stream",
     "text": [
      "<class 'pandas.core.frame.DataFrame'>\n",
      "Int64Index: 7265 entries, 0 to 7786\n",
      "Data columns (total 15 columns):\n",
      " #   Column            Non-Null Count  Dtype         \n",
      "---  ------            --------------  -----         \n",
      " 0   show_id           7265 non-null   object        \n",
      " 1   type              7265 non-null   object        \n",
      " 2   title             7265 non-null   object        \n",
      " 3   director          7265 non-null   object        \n",
      " 4   cast              7265 non-null   object        \n",
      " 5   country           7265 non-null   object        \n",
      " 6   date_added        7265 non-null   datetime64[ns]\n",
      " 7   release_year      7265 non-null   int64         \n",
      " 8   rating            7265 non-null   object        \n",
      " 9   duration          7265 non-null   object        \n",
      " 10  listed_in         7265 non-null   object        \n",
      " 11  description       7265 non-null   object        \n",
      " 12  month_added       7265 non-null   int64         \n",
      " 13  month_name_added  7265 non-null   object        \n",
      " 14  year_added        7265 non-null   int64         \n",
      "dtypes: datetime64[ns](1), int64(3), object(11)\n",
      "memory usage: 908.1+ KB\n"
     ]
    }
   ],
   "source": [
    "df.info()"
   ]
  },
  {
   "cell_type": "markdown",
   "id": "103bb2d4",
   "metadata": {},
   "source": [
    "### dodatno sredjivanje datuma"
   ]
  },
  {
   "cell_type": "code",
   "execution_count": 158,
   "id": "a6588da6",
   "metadata": {},
   "outputs": [
    {
     "data": {
      "text/plain": [
       "7775                                                Japan\n",
       "7776                                                India\n",
       "7778                                        United States\n",
       "7779                                               Mexico\n",
       "7780                                                India\n",
       "7781                                        United States\n",
       "7782    Sweden, Czech Republic, United Kingdom, Denmar...\n",
       "7783                                                India\n",
       "7785                                            Australia\n",
       "7786                United Kingdom, Canada, United States\n",
       "Name: country, dtype: object"
      ]
     },
     "execution_count": 158,
     "metadata": {},
     "output_type": "execute_result"
    }
   ],
   "source": [
    "df.country.tail(10)"
   ]
  },
  {
   "cell_type": "code",
   "execution_count": 170,
   "id": "66a7bb83",
   "metadata": {},
   "outputs": [],
   "source": [
    "del df[\"first_country\"]"
   ]
  },
  {
   "cell_type": "code",
   "execution_count": 171,
   "id": "2c0e1458",
   "metadata": {},
   "outputs": [
    {
     "name": "stdout",
     "output_type": "stream",
     "text": [
      "<class 'pandas.core.frame.DataFrame'>\n",
      "Int64Index: 7265 entries, 0 to 7786\n",
      "Data columns (total 15 columns):\n",
      " #   Column            Non-Null Count  Dtype         \n",
      "---  ------            --------------  -----         \n",
      " 0   show_id           7265 non-null   object        \n",
      " 1   type              7265 non-null   object        \n",
      " 2   title             7265 non-null   object        \n",
      " 3   director          7265 non-null   object        \n",
      " 4   cast              7265 non-null   object        \n",
      " 5   country           7265 non-null   object        \n",
      " 6   date_added        7265 non-null   datetime64[ns]\n",
      " 7   release_year      7265 non-null   int64         \n",
      " 8   rating            7265 non-null   object        \n",
      " 9   duration          7265 non-null   object        \n",
      " 10  listed_in         7265 non-null   object        \n",
      " 11  description       7265 non-null   object        \n",
      " 12  month_added       7265 non-null   int64         \n",
      " 13  month_name_added  7265 non-null   object        \n",
      " 14  year_added        7265 non-null   int64         \n",
      "dtypes: datetime64[ns](1), int64(3), object(11)\n",
      "memory usage: 908.1+ KB\n"
     ]
    }
   ],
   "source": [
    "df.info()"
   ]
  },
  {
   "cell_type": "code",
   "execution_count": 175,
   "id": "039b4f09",
   "metadata": {},
   "outputs": [],
   "source": [
    "df[\"first_country\"] = df[\"country\"].str.split(\", \", expand=True)[0]\n",
    "# 0 se odnosi na naziv stupca kojeg je pandas dodijelio \n",
    "# , a ne na index 0"
   ]
  },
  {
   "cell_type": "code",
   "execution_count": 178,
   "id": "42a244a9",
   "metadata": {},
   "outputs": [
    {
     "data": {
      "text/html": [
       "<div>\n",
       "<style scoped>\n",
       "    .dataframe tbody tr th:only-of-type {\n",
       "        vertical-align: middle;\n",
       "    }\n",
       "\n",
       "    .dataframe tbody tr th {\n",
       "        vertical-align: top;\n",
       "    }\n",
       "\n",
       "    .dataframe thead th {\n",
       "        text-align: right;\n",
       "    }\n",
       "</style>\n",
       "<table border=\"1\" class=\"dataframe\">\n",
       "  <thead>\n",
       "    <tr style=\"text-align: right;\">\n",
       "      <th></th>\n",
       "      <th>show_id</th>\n",
       "      <th>type</th>\n",
       "      <th>title</th>\n",
       "      <th>director</th>\n",
       "      <th>cast</th>\n",
       "      <th>country</th>\n",
       "      <th>date_added</th>\n",
       "      <th>release_year</th>\n",
       "      <th>rating</th>\n",
       "      <th>duration</th>\n",
       "      <th>listed_in</th>\n",
       "      <th>description</th>\n",
       "      <th>month_added</th>\n",
       "      <th>month_name_added</th>\n",
       "      <th>year_added</th>\n",
       "      <th>first_country</th>\n",
       "    </tr>\n",
       "  </thead>\n",
       "  <tbody>\n",
       "    <tr>\n",
       "      <th>0</th>\n",
       "      <td>s1</td>\n",
       "      <td>TV Show</td>\n",
       "      <td>3%</td>\n",
       "      <td>No Data</td>\n",
       "      <td>João Miguel, Bianca Comparato, Michel Gomes, R...</td>\n",
       "      <td>Brazil</td>\n",
       "      <td>2020-08-14</td>\n",
       "      <td>2020</td>\n",
       "      <td>TV-MA</td>\n",
       "      <td>4 Seasons</td>\n",
       "      <td>International TV Shows, TV Dramas, TV Sci-Fi &amp;...</td>\n",
       "      <td>In a future where the elite inhabit an island ...</td>\n",
       "      <td>8</td>\n",
       "      <td>&lt;bound method PandasDelegate._add_delegate_acc...</td>\n",
       "      <td>2020</td>\n",
       "      <td>Brazil</td>\n",
       "    </tr>\n",
       "    <tr>\n",
       "      <th>1</th>\n",
       "      <td>s2</td>\n",
       "      <td>Movie</td>\n",
       "      <td>7:19</td>\n",
       "      <td>Jorge Michel Grau</td>\n",
       "      <td>Demián Bichir, Héctor Bonilla, Oscar Serrano, ...</td>\n",
       "      <td>Mexico</td>\n",
       "      <td>2016-12-23</td>\n",
       "      <td>2016</td>\n",
       "      <td>TV-MA</td>\n",
       "      <td>93 min</td>\n",
       "      <td>Dramas, International Movies</td>\n",
       "      <td>After a devastating earthquake hits Mexico Cit...</td>\n",
       "      <td>12</td>\n",
       "      <td>&lt;bound method PandasDelegate._add_delegate_acc...</td>\n",
       "      <td>2016</td>\n",
       "      <td>Mexico</td>\n",
       "    </tr>\n",
       "    <tr>\n",
       "      <th>2</th>\n",
       "      <td>s3</td>\n",
       "      <td>Movie</td>\n",
       "      <td>23:59</td>\n",
       "      <td>Gilbert Chan</td>\n",
       "      <td>Tedd Chan, Stella Chung, Henley Hii, Lawrence ...</td>\n",
       "      <td>Singapore</td>\n",
       "      <td>2018-12-20</td>\n",
       "      <td>2011</td>\n",
       "      <td>R</td>\n",
       "      <td>78 min</td>\n",
       "      <td>Horror Movies, International Movies</td>\n",
       "      <td>When an army recruit is found dead, his fellow...</td>\n",
       "      <td>12</td>\n",
       "      <td>&lt;bound method PandasDelegate._add_delegate_acc...</td>\n",
       "      <td>2018</td>\n",
       "      <td>Singapore</td>\n",
       "    </tr>\n",
       "    <tr>\n",
       "      <th>3</th>\n",
       "      <td>s4</td>\n",
       "      <td>Movie</td>\n",
       "      <td>9</td>\n",
       "      <td>Shane Acker</td>\n",
       "      <td>Elijah Wood, John C. Reilly, Jennifer Connelly...</td>\n",
       "      <td>United States</td>\n",
       "      <td>2017-11-16</td>\n",
       "      <td>2009</td>\n",
       "      <td>PG-13</td>\n",
       "      <td>80 min</td>\n",
       "      <td>Action &amp; Adventure, Independent Movies, Sci-Fi...</td>\n",
       "      <td>In a postapocalyptic world, rag-doll robots hi...</td>\n",
       "      <td>11</td>\n",
       "      <td>&lt;bound method PandasDelegate._add_delegate_acc...</td>\n",
       "      <td>2017</td>\n",
       "      <td>United States</td>\n",
       "    </tr>\n",
       "    <tr>\n",
       "      <th>4</th>\n",
       "      <td>s5</td>\n",
       "      <td>Movie</td>\n",
       "      <td>21</td>\n",
       "      <td>Robert Luketic</td>\n",
       "      <td>Jim Sturgess, Kevin Spacey, Kate Bosworth, Aar...</td>\n",
       "      <td>United States</td>\n",
       "      <td>2020-01-01</td>\n",
       "      <td>2008</td>\n",
       "      <td>PG-13</td>\n",
       "      <td>123 min</td>\n",
       "      <td>Dramas</td>\n",
       "      <td>A brilliant group of students become card-coun...</td>\n",
       "      <td>1</td>\n",
       "      <td>&lt;bound method PandasDelegate._add_delegate_acc...</td>\n",
       "      <td>2020</td>\n",
       "      <td>United States</td>\n",
       "    </tr>\n",
       "  </tbody>\n",
       "</table>\n",
       "</div>"
      ],
      "text/plain": [
       "  show_id     type  title           director  \\\n",
       "0      s1  TV Show     3%            No Data   \n",
       "1      s2    Movie   7:19  Jorge Michel Grau   \n",
       "2      s3    Movie  23:59       Gilbert Chan   \n",
       "3      s4    Movie      9        Shane Acker   \n",
       "4      s5    Movie     21     Robert Luketic   \n",
       "\n",
       "                                                cast        country  \\\n",
       "0  João Miguel, Bianca Comparato, Michel Gomes, R...         Brazil   \n",
       "1  Demián Bichir, Héctor Bonilla, Oscar Serrano, ...         Mexico   \n",
       "2  Tedd Chan, Stella Chung, Henley Hii, Lawrence ...      Singapore   \n",
       "3  Elijah Wood, John C. Reilly, Jennifer Connelly...  United States   \n",
       "4  Jim Sturgess, Kevin Spacey, Kate Bosworth, Aar...  United States   \n",
       "\n",
       "  date_added  release_year rating   duration  \\\n",
       "0 2020-08-14          2020  TV-MA  4 Seasons   \n",
       "1 2016-12-23          2016  TV-MA     93 min   \n",
       "2 2018-12-20          2011      R     78 min   \n",
       "3 2017-11-16          2009  PG-13     80 min   \n",
       "4 2020-01-01          2008  PG-13    123 min   \n",
       "\n",
       "                                           listed_in  \\\n",
       "0  International TV Shows, TV Dramas, TV Sci-Fi &...   \n",
       "1                       Dramas, International Movies   \n",
       "2                Horror Movies, International Movies   \n",
       "3  Action & Adventure, Independent Movies, Sci-Fi...   \n",
       "4                                             Dramas   \n",
       "\n",
       "                                         description  month_added  \\\n",
       "0  In a future where the elite inhabit an island ...            8   \n",
       "1  After a devastating earthquake hits Mexico Cit...           12   \n",
       "2  When an army recruit is found dead, his fellow...           12   \n",
       "3  In a postapocalyptic world, rag-doll robots hi...           11   \n",
       "4  A brilliant group of students become card-coun...            1   \n",
       "\n",
       "                                    month_name_added  year_added  \\\n",
       "0  <bound method PandasDelegate._add_delegate_acc...        2020   \n",
       "1  <bound method PandasDelegate._add_delegate_acc...        2016   \n",
       "2  <bound method PandasDelegate._add_delegate_acc...        2018   \n",
       "3  <bound method PandasDelegate._add_delegate_acc...        2017   \n",
       "4  <bound method PandasDelegate._add_delegate_acc...        2020   \n",
       "\n",
       "   first_country  \n",
       "0         Brazil  \n",
       "1         Mexico  \n",
       "2      Singapore  \n",
       "3  United States  \n",
       "4  United States  "
      ]
     },
     "execution_count": 178,
     "metadata": {},
     "output_type": "execute_result"
    }
   ],
   "source": [
    "df.head()"
   ]
  },
  {
   "cell_type": "markdown",
   "id": "2a45ccb0",
   "metadata": {},
   "source": [
    "# VIZUALIZACIJA\n",
    "\n"
   ]
  },
  {
   "cell_type": "markdown",
   "id": "ad2855aa",
   "metadata": {},
   "source": [
    "### tweakanje vizalnih elemenata"
   ]
  },
  {
   "cell_type": "code",
   "execution_count": 211,
   "id": "d1b1c38c",
   "metadata": {},
   "outputs": [
    {
     "data": {
      "image/png": "[encoded data removed]",
      "text/plain": [
       "<Figure size 560x140 with 1 Axes>"
      ]
     },
     "metadata": {},
     "output_type": "display_data"
    }
   ],
   "source": [
    "crna = \"#221f1f\"\n",
    "tamno_crvena = \"#b20710\"\n",
    "crvena = \"#e50914\"\n",
    "bijela = \"#f5f5f1\"\n",
    "\n",
    "sns.palplot([crna, tamno_crvena, crvena, bijela])\n",
    "\n",
    "plt.title(\"Netflix color palette\", fontfamily=\"serif\", fontsize=15, loc=\"left\",\n",
    "         y=1.2)\n",
    "plt.show()\n"
   ]
  },
  {
   "cell_type": "code",
   "execution_count": 212,
   "id": "ccd01c04",
   "metadata": {},
   "outputs": [],
   "source": [
    "# myplotlib.py\n",
    "\n",
    "\n",
    "plot = \"\"\"\n",
    "1\n",
    "I\n",
    "I\n",
    "I\n",
    "I\n",
    "I\n",
    "+----------\"\"\"\n",
    "\n",
    "\n",
    "figures = []\n",
    "\n",
    "\n",
    "def scatter(X, Y)\n",
    "    # nekako dodaj koortinate na graf\n",
    "    graf = \"nesto\"\n",
    "    figures.append(graf)\n",
    "\n",
    "    \n",
    "def show():\n",
    "    for fig in figures:\n",
    "        print()\n",
    "            \n",
    "import myplotlib as mlt\n",
    "mlt.scatter([2, 3, 4, 5], [2, 3, 4, 5])\n",
    "mlt.show()"
   ]
  },
  {
   "cell_type": "markdown",
   "id": "88cef197",
   "metadata": {},
   "source": [
    "### analiza po tipu sadrzaja"
   ]
  },
  {
   "cell_type": "code",
   "execution_count": 180,
   "id": "73922da4",
   "metadata": {},
   "outputs": [
    {
     "data": {
      "text/plain": [
       "array(['TV Show', 'Movie'], dtype=object)"
      ]
     },
     "execution_count": 180,
     "metadata": {},
     "output_type": "execute_result"
    }
   ],
   "source": [
    "df[\"type\"].unique()"
   ]
  },
  {
   "cell_type": "markdown",
   "id": "79814459",
   "metadata": {},
   "source": [
    "### na netflixu imamo 2 tipa sadrzaja: filmove i serije\n",
    ".\n",
    "- analizirati koliki je postotak filmova i serija te graficki prikazati na grafu po zelji"
   ]
  },
  {
   "cell_type": "code",
   "execution_count": 195,
   "id": "65b0e3b3",
   "metadata": {},
   "outputs": [],
   "source": [
    "ukupan_broj = df.groupby([\"type\"])[\"type\"].count()"
   ]
  },
  {
   "cell_type": "code",
   "execution_count": 196,
   "id": "9deba21a",
   "metadata": {},
   "outputs": [],
   "source": [
    "ukupno_redaka = len(df)"
   ]
  },
  {
   "cell_type": "code",
   "execution_count": 197,
   "id": "ba3a8705",
   "metadata": {},
   "outputs": [],
   "source": [
    "# (ukupan_broj / ukupno_redaka).round(2)\n",
    "postotci = round(ukupan_broj / ukupno_redaka, 2)"
   ]
  },
  {
   "cell_type": "code",
   "execution_count": 198,
   "id": "100b9991",
   "metadata": {},
   "outputs": [
    {
     "data": {
      "text/plain": [
       "type\n",
       "Movie      0.71\n",
       "TV Show    0.29\n",
       "Name: type, dtype: float64"
      ]
     },
     "execution_count": 198,
     "metadata": {},
     "output_type": "execute_result"
    }
   ],
   "source": [
    "postotci"
   ]
  },
  {
   "cell_type": "code",
   "execution_count": 199,
   "id": "f07ebe6e",
   "metadata": {},
   "outputs": [
    {
     "data": {
      "text/plain": [
       "Index(['Movie', 'TV Show'], dtype='object', name='type')"
      ]
     },
     "execution_count": 199,
     "metadata": {},
     "output_type": "execute_result"
    }
   ],
   "source": [
    "postotci.index"
   ]
  },
  {
   "cell_type": "code",
   "execution_count": 200,
   "id": "7968c72c",
   "metadata": {},
   "outputs": [
    {
     "data": {
      "text/plain": [
       "array([0.71, 0.29])"
      ]
     },
     "execution_count": 200,
     "metadata": {},
     "output_type": "execute_result"
    }
   ],
   "source": [
    "postotci.values"
   ]
  },
  {
   "cell_type": "code",
   "execution_count": 215,
   "id": "ceb9b40f",
   "metadata": {},
   "outputs": [
    {
     "data": {
      "image/png": "[encoded data removed]",
      "text/plain": [
       "<Figure size 896x672 with 1 Axes>"
      ]
     },
     "metadata": {},
     "output_type": "display_data"
    }
   ],
   "source": [
    "fig, ax = plt.subplots()\n",
    "ax.pie(postotci.values, labels=postotci.index, autopct='%1.1f%%', colors=[crna, tamno_crvena, crvena, bijela])\n",
    "plt.show()"
   ]
  },
  {
   "cell_type": "code",
   "execution_count": null,
   "id": "79070516",
   "metadata": {},
   "outputs": [],
   "source": []
  },
  {
   "cell_type": "code",
   "execution_count": null,
   "id": "c687b960",
   "metadata": {},
   "outputs": [],
   "source": []
  }
 ],
 "metadata": {
  "kernelspec": {
   "display_name": "Python 3 (ipykernel)",
   "language": "python",
   "name": "python3"
  },
  "language_info": {
   "codemirror_mode": {
    "name": "ipython",
    "version": 3
   },
   "file_extension": ".py",
   "mimetype": "text/x-python",
   "name": "python",
   "nbconvert_exporter": "python",
   "pygments_lexer": "ipython3",
   "version": "3.8.5"
  }
 },
 "nbformat": 4,
 "nbformat_minor": 5
}
