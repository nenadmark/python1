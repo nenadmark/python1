{
 "cells": [
  {
   "cell_type": "markdown",
   "id": "9659b3c9",
   "metadata": {},
   "source": [
    "# Pandas - Python Data Analysis Library"
   ]
  },
  {
   "cell_type": "markdown",
   "id": "c879c892",
   "metadata": {},
   "source": [
    "Znamo da Python ima nekoliko tipova podataka koji se odnose na kolekcije. To su liste, rječnici, n-terci. Rad s ovim tipovima podataka nije tako brz kao u jezicima baziranim na C-u ili u Fortranu. Zbog toga su nastale biblioteke koje imaju učinkovitost kao da su pisane u C-u ili Fortranu, a istovremeno imaju jednostavnost pisanja kôda kao u Pythonu.\n",
    "\n",
    "Pandas je jedna od njih. To je Python biblioteka za analizu i manipulaciju podataka, strukturiranih u obliku  tablice. Pandas koristi NumPy biblioteku kao podlogu. Njegova osnovna karakteristika je također rad s tabličnim tipom podataka koji može pohraniti samo podatke koji se zbrajaju i množe (najčešće brojeve). Pandas, s druge strane, također radi s tabličnim tipom podataka, ali za razliku od NumPy biblioteke, nema uvjet koji se tip podatka može pohraniti u tablici."
   ]
  },
  {
   "cell_type": "markdown",
   "id": "d1533787",
   "metadata": {},
   "source": [
    "Pandas je jako korisna biblioteka i ovo su samo neke od situacija u kojima se koristi:<br>\n",
    "- upravljanje podacima koji nedostaju u tablicama s brojevima (na njihova mjesta dodaje *NaN - Not a Number*)\n",
    "- mogućnost promjene veličine objekta tako što se dodaju ili oduzimaju kolone iz *DataFrame* objekta\n",
    "- fleksibilno, a opet učinkovito grupiranje podataka koje omogućava modifikacije kao što su podjela, dodavanje, kombiniranje...\n",
    "- jednostavna konverzija Python i NumPy struktura podataka, bez obzira na način indeksacije izvornih objekata u *DateFrame* objekt\n",
    "- mogućnost izdvajanja dijelova podataka u zasebne cjeline na osnovi naziva kolona\n",
    "- promjena oblika i rotacija (eng. *pivoting*) tablica\n",
    "- uvoz i izvoz podataka iz datoteka CSV, Excel, baze podataka.\n",
    "\n",
    "... i još puno drugih."
   ]
  },
  {
   "cell_type": "code",
   "execution_count": 1,
   "id": "1c96c1b5",
   "metadata": {},
   "outputs": [],
   "source": [
    "# pip install pandas\n",
    "\n",
    "import pandas as pd"
   ]
  },
  {
   "cell_type": "markdown",
   "id": "e87bed0b",
   "metadata": {},
   "source": [
    "# Pandas struktura podataka"
   ]
  },
  {
   "cell_type": "markdown",
   "id": "62b77659",
   "metadata": {},
   "source": [
    "Pandas se koristi za rad s podacima u obliku tablice. Nudi mogućnost da se učita cijela tablica i od nje napravi Python objekt s kojim možemo raditi svakojake manipulacije na podacima unutar tog objekta."
   ]
  },
  {
   "cell_type": "markdown",
   "id": "9f1b6c77",
   "metadata": {},
   "source": [
    "## Dataframe\n",
    "\n",
    "Tablični oblik pohrane podataka zastupljen je u bazama podataka, tabličnim kalkulatorima (Excel, CSV). Ovakav, tablični tip podataka u Pandasu naziva se ***DataFrame*** i on predstavlja tablicu koja ima više redaka i stupaca. *DataFrame* ima retke i stupce pa kažemo da ima dvije dimenzije (os 0 - stupci i os 1 - redovi).\n",
    "\n",
    "<img src=\"slike/01_table_dataframe.svg\" alt=\"pandas dataframe\"/>"
   ]
  },
  {
   "cell_type": "code",
   "execution_count": 2,
   "id": "6d037154",
   "metadata": {},
   "outputs": [],
   "source": [
    "data = {\n",
    "    \"Stupac 1\": [\"S1_Podatak 1\", \"S1_Podatak 2\", \"S1_Podatak 3\", \"S1_Podatak 4\", \"S1_Podatak 5\"],\n",
    "    \"Stupac 2\": [\"S2_Podatak 1\", \"S2_Podatak 2\", \"S2_Podatak 3\", \"S2_Podatak 4\", \"S2_Podatak 5\"],\n",
    "    \"Stupac 3\": [\"S3_Podatak 1\", \"S3_Podatak 2\", \"S3_Podatak 3\", \"S3_Podatak 4\", \"S3_Podatak 5\"],\n",
    "    \"Stupac 4\": [\"S4_Podatak 1\", \"S4_Podatak 2\", \"S4_Podatak 3\", \"S4_Podatak 4\", \"S4_Podatak 5\"],\n",
    "}"
   ]
  },
  {
   "cell_type": "code",
   "execution_count": 3,
   "id": "cdf469e3",
   "metadata": {},
   "outputs": [
    {
     "data": {
      "text/html": [
       "<div>\n",
       "<style scoped>\n",
       "    .dataframe tbody tr th:only-of-type {\n",
       "        vertical-align: middle;\n",
       "    }\n",
       "\n",
       "    .dataframe tbody tr th {\n",
       "        vertical-align: top;\n",
       "    }\n",
       "\n",
       "    .dataframe thead th {\n",
       "        text-align: right;\n",
       "    }\n",
       "</style>\n",
       "<table border=\"1\" class=\"dataframe\">\n",
       "  <thead>\n",
       "    <tr style=\"text-align: right;\">\n",
       "      <th></th>\n",
       "      <th>Stupac 1</th>\n",
       "      <th>Stupac 2</th>\n",
       "      <th>Stupac 3</th>\n",
       "      <th>Stupac 4</th>\n",
       "    </tr>\n",
       "  </thead>\n",
       "  <tbody>\n",
       "    <tr>\n",
       "      <th>0</th>\n",
       "      <td>S1_Podatak 1</td>\n",
       "      <td>S2_Podatak 1</td>\n",
       "      <td>S3_Podatak 1</td>\n",
       "      <td>S4_Podatak 1</td>\n",
       "    </tr>\n",
       "    <tr>\n",
       "      <th>1</th>\n",
       "      <td>S1_Podatak 2</td>\n",
       "      <td>S2_Podatak 2</td>\n",
       "      <td>S3_Podatak 2</td>\n",
       "      <td>S4_Podatak 2</td>\n",
       "    </tr>\n",
       "    <tr>\n",
       "      <th>2</th>\n",
       "      <td>S1_Podatak 3</td>\n",
       "      <td>S2_Podatak 3</td>\n",
       "      <td>S3_Podatak 3</td>\n",
       "      <td>S4_Podatak 3</td>\n",
       "    </tr>\n",
       "    <tr>\n",
       "      <th>3</th>\n",
       "      <td>S1_Podatak 4</td>\n",
       "      <td>S2_Podatak 4</td>\n",
       "      <td>S3_Podatak 4</td>\n",
       "      <td>S4_Podatak 4</td>\n",
       "    </tr>\n",
       "    <tr>\n",
       "      <th>4</th>\n",
       "      <td>S1_Podatak 5</td>\n",
       "      <td>S2_Podatak 5</td>\n",
       "      <td>S3_Podatak 5</td>\n",
       "      <td>S4_Podatak 5</td>\n",
       "    </tr>\n",
       "  </tbody>\n",
       "</table>\n",
       "</div>"
      ],
      "text/plain": [
       "       Stupac 1      Stupac 2      Stupac 3      Stupac 4\n",
       "0  S1_Podatak 1  S2_Podatak 1  S3_Podatak 1  S4_Podatak 1\n",
       "1  S1_Podatak 2  S2_Podatak 2  S3_Podatak 2  S4_Podatak 2\n",
       "2  S1_Podatak 3  S2_Podatak 3  S3_Podatak 3  S4_Podatak 3\n",
       "3  S1_Podatak 4  S2_Podatak 4  S3_Podatak 4  S4_Podatak 4\n",
       "4  S1_Podatak 5  S2_Podatak 5  S3_Podatak 5  S4_Podatak 5"
      ]
     },
     "execution_count": 3,
     "metadata": {},
     "output_type": "execute_result"
    }
   ],
   "source": [
    "df = pd.DataFrame(data)\n",
    "\n",
    "df"
   ]
  },
  {
   "cell_type": "markdown",
   "id": "cc5b69cb",
   "metadata": {},
   "source": [
    "## Pandas `series` ili serija\n",
    "\n",
    "Drugi oblik podataka, za čiju obradu se koristi Pandas je *Series* ili serija kako ćemo je mi zvati. Serija predstavlja stupac u *DataFrame* tablici i zbog toga ima samo jednu dimenziju (os 0).\n",
    "\n",
    "<img src=\"slike/01_table_series.svg\" alt=\"pandas dataframe\"/>"
   ]
  },
  {
   "cell_type": "code",
   "execution_count": 4,
   "id": "1c9cec5f",
   "metadata": {},
   "outputs": [
    {
     "name": "stdout",
     "output_type": "stream",
     "text": [
      "<class 'pandas.core.frame.DataFrame'>\n"
     ]
    }
   ],
   "source": [
    "print(type(df))"
   ]
  },
  {
   "cell_type": "markdown",
   "id": "e6ddfa02",
   "metadata": {},
   "source": [
    "### Pristup podacima iz `dataframe-a`"
   ]
  },
  {
   "cell_type": "code",
   "execution_count": 5,
   "id": "65ad1d0e",
   "metadata": {},
   "outputs": [
    {
     "data": {
      "text/html": [
       "<div>\n",
       "<style scoped>\n",
       "    .dataframe tbody tr th:only-of-type {\n",
       "        vertical-align: middle;\n",
       "    }\n",
       "\n",
       "    .dataframe tbody tr th {\n",
       "        vertical-align: top;\n",
       "    }\n",
       "\n",
       "    .dataframe thead th {\n",
       "        text-align: right;\n",
       "    }\n",
       "</style>\n",
       "<table border=\"1\" class=\"dataframe\">\n",
       "  <thead>\n",
       "    <tr style=\"text-align: right;\">\n",
       "      <th></th>\n",
       "      <th>Stupac 1</th>\n",
       "      <th>Stupac 2</th>\n",
       "      <th>Stupac 3</th>\n",
       "      <th>Stupac 4</th>\n",
       "    </tr>\n",
       "  </thead>\n",
       "  <tbody>\n",
       "    <tr>\n",
       "      <th>0</th>\n",
       "      <td>S1_Podatak 1</td>\n",
       "      <td>S2_Podatak 1</td>\n",
       "      <td>S3_Podatak 1</td>\n",
       "      <td>S4_Podatak 1</td>\n",
       "    </tr>\n",
       "    <tr>\n",
       "      <th>1</th>\n",
       "      <td>S1_Podatak 2</td>\n",
       "      <td>S2_Podatak 2</td>\n",
       "      <td>S3_Podatak 2</td>\n",
       "      <td>S4_Podatak 2</td>\n",
       "    </tr>\n",
       "    <tr>\n",
       "      <th>2</th>\n",
       "      <td>S1_Podatak 3</td>\n",
       "      <td>S2_Podatak 3</td>\n",
       "      <td>S3_Podatak 3</td>\n",
       "      <td>S4_Podatak 3</td>\n",
       "    </tr>\n",
       "    <tr>\n",
       "      <th>3</th>\n",
       "      <td>S1_Podatak 4</td>\n",
       "      <td>S2_Podatak 4</td>\n",
       "      <td>S3_Podatak 4</td>\n",
       "      <td>S4_Podatak 4</td>\n",
       "    </tr>\n",
       "    <tr>\n",
       "      <th>4</th>\n",
       "      <td>S1_Podatak 5</td>\n",
       "      <td>S2_Podatak 5</td>\n",
       "      <td>S3_Podatak 5</td>\n",
       "      <td>S4_Podatak 5</td>\n",
       "    </tr>\n",
       "  </tbody>\n",
       "</table>\n",
       "</div>"
      ],
      "text/plain": [
       "       Stupac 1      Stupac 2      Stupac 3      Stupac 4\n",
       "0  S1_Podatak 1  S2_Podatak 1  S3_Podatak 1  S4_Podatak 1\n",
       "1  S1_Podatak 2  S2_Podatak 2  S3_Podatak 2  S4_Podatak 2\n",
       "2  S1_Podatak 3  S2_Podatak 3  S3_Podatak 3  S4_Podatak 3\n",
       "3  S1_Podatak 4  S2_Podatak 4  S3_Podatak 4  S4_Podatak 4\n",
       "4  S1_Podatak 5  S2_Podatak 5  S3_Podatak 5  S4_Podatak 5"
      ]
     },
     "execution_count": 5,
     "metadata": {},
     "output_type": "execute_result"
    }
   ],
   "source": [
    "df"
   ]
  },
  {
   "cell_type": "code",
   "execution_count": 10,
   "id": "497e0a7e",
   "metadata": {},
   "outputs": [
    {
     "data": {
      "text/plain": [
       "0    S1_Podatak 1\n",
       "1    S1_Podatak 2\n",
       "2    S1_Podatak 3\n",
       "3    S1_Podatak 4\n",
       "4    S1_Podatak 5\n",
       "Name: Stupac 1, dtype: object"
      ]
     },
     "execution_count": 10,
     "metadata": {},
     "output_type": "execute_result"
    }
   ],
   "source": [
    "stupac = df[\"Stupac 1\"]\n",
    "stupac\n",
    "# print(type(df[\"Stupac 1\"]))"
   ]
  },
  {
   "cell_type": "code",
   "execution_count": 11,
   "id": "0c2e8635",
   "metadata": {},
   "outputs": [
    {
     "data": {
      "text/plain": [
       "'Stupac 1'"
      ]
     },
     "execution_count": 11,
     "metadata": {},
     "output_type": "execute_result"
    }
   ],
   "source": [
    "stupac.name"
   ]
  },
  {
   "cell_type": "code",
   "execution_count": 16,
   "id": "e44ec5a6",
   "metadata": {},
   "outputs": [
    {
     "data": {
      "text/plain": [
       "0    5\n",
       "1    8\n",
       "2    2\n",
       "3    6\n",
       "4    5\n",
       "5    4\n",
       "6    8\n",
       "Name: Testna serija, dtype: int64"
      ]
     },
     "execution_count": 16,
     "metadata": {},
     "output_type": "execute_result"
    }
   ],
   "source": [
    "serija = pd.Series([5, 8, 2, 6, 5, 4, 8], name=\"Testna serija\")\n",
    "serija"
   ]
  },
  {
   "cell_type": "code",
   "execution_count": 20,
   "id": "d0a34075",
   "metadata": {},
   "outputs": [
    {
     "data": {
      "text/plain": [
       "prvi       5\n",
       "drugi      8\n",
       "treci      2\n",
       "cetvrti    6\n",
       "Name: Indeks serija, dtype: int64"
      ]
     },
     "execution_count": 20,
     "metadata": {},
     "output_type": "execute_result"
    }
   ],
   "source": [
    "serija_indeksi = pd.Series([5, 8, 2, 6], name=\"Indeks serija\", index=[\"prvi\", \"drugi\", \"treci\", \"cetvrti\"])\n",
    "serija_indeksi"
   ]
  },
  {
   "cell_type": "code",
   "execution_count": 21,
   "id": "09466cfc",
   "metadata": {},
   "outputs": [
    {
     "data": {
      "text/plain": [
       "5"
      ]
     },
     "execution_count": 21,
     "metadata": {},
     "output_type": "execute_result"
    }
   ],
   "source": [
    "serija_indeksi[\"prvi\"]"
   ]
  },
  {
   "cell_type": "code",
   "execution_count": 23,
   "id": "9ac9f41f",
   "metadata": {},
   "outputs": [
    {
     "data": {
      "text/plain": [
       "8"
      ]
     },
     "execution_count": 23,
     "metadata": {},
     "output_type": "execute_result"
    }
   ],
   "source": [
    "serija_indeksi[1]"
   ]
  },
  {
   "cell_type": "code",
   "execution_count": 30,
   "id": "86b3de4a",
   "metadata": {},
   "outputs": [
    {
     "data": {
      "text/plain": [
       "prvi     5\n",
       "treci    2\n",
       "Name: Indeks serija, dtype: int64"
      ]
     },
     "execution_count": 30,
     "metadata": {},
     "output_type": "execute_result"
    }
   ],
   "source": [
    "serija_indeksi[::2]"
   ]
  },
  {
   "cell_type": "code",
   "execution_count": 31,
   "id": "41603d38",
   "metadata": {},
   "outputs": [
    {
     "data": {
      "text/plain": [
       "prvi       5\n",
       "drugi      8\n",
       "treci      2\n",
       "cetvrti    6\n",
       "Name: Indeks serija, dtype: int64"
      ]
     },
     "execution_count": 31,
     "metadata": {},
     "output_type": "execute_result"
    }
   ],
   "source": [
    "serija_indeksi"
   ]
  },
  {
   "cell_type": "code",
   "execution_count": 34,
   "id": "dcedb99e",
   "metadata": {},
   "outputs": [],
   "source": [
    "serija_umnozak = serija_indeksi * 2"
   ]
  },
  {
   "cell_type": "code",
   "execution_count": 35,
   "id": "04c4ce42",
   "metadata": {},
   "outputs": [
    {
     "data": {
      "text/plain": [
       "prvi       10\n",
       "drugi      16\n",
       "treci       4\n",
       "cetvrti    12\n",
       "Name: Indeks serija, dtype: int64"
      ]
     },
     "execution_count": 35,
     "metadata": {},
     "output_type": "execute_result"
    }
   ],
   "source": [
    "serija_umnozak"
   ]
  },
  {
   "cell_type": "code",
   "execution_count": 36,
   "id": "cdc206ce",
   "metadata": {},
   "outputs": [
    {
     "data": {
      "text/plain": [
       "prvi       5\n",
       "drugi      8\n",
       "treci      2\n",
       "cetvrti    6\n",
       "Name: Indeks serija, dtype: int64"
      ]
     },
     "execution_count": 36,
     "metadata": {},
     "output_type": "execute_result"
    }
   ],
   "source": [
    "serija_indeksi"
   ]
  },
  {
   "cell_type": "code",
   "execution_count": 37,
   "id": "12a55d5a",
   "metadata": {},
   "outputs": [],
   "source": [
    "serija_indeksi[\"prvi\"] = 7"
   ]
  },
  {
   "cell_type": "code",
   "execution_count": 38,
   "id": "d148c782",
   "metadata": {},
   "outputs": [
    {
     "data": {
      "text/plain": [
       "prvi       7\n",
       "drugi      8\n",
       "treci      2\n",
       "cetvrti    6\n",
       "Name: Indeks serija, dtype: int64"
      ]
     },
     "execution_count": 38,
     "metadata": {},
     "output_type": "execute_result"
    }
   ],
   "source": [
    "serija_indeksi"
   ]
  },
  {
   "cell_type": "code",
   "execution_count": 39,
   "id": "308ff3b7",
   "metadata": {},
   "outputs": [],
   "source": [
    "serija_veci_od_6 = serija_indeksi[serija_indeksi > 6]"
   ]
  },
  {
   "cell_type": "code",
   "execution_count": 41,
   "id": "04e13e24",
   "metadata": {},
   "outputs": [
    {
     "data": {
      "text/plain": [
       "prvi        True\n",
       "drugi       True\n",
       "treci      False\n",
       "cetvrti    False\n",
       "Name: Indeks serija, dtype: bool"
      ]
     },
     "execution_count": 41,
     "metadata": {},
     "output_type": "execute_result"
    }
   ],
   "source": [
    "serija_indeksi > 6"
   ]
  },
  {
   "cell_type": "code",
   "execution_count": 40,
   "id": "dcd7b33b",
   "metadata": {},
   "outputs": [
    {
     "data": {
      "text/plain": [
       "prvi     7\n",
       "drugi    8\n",
       "Name: Indeks serija, dtype: int64"
      ]
     },
     "execution_count": 40,
     "metadata": {},
     "output_type": "execute_result"
    }
   ],
   "source": [
    "serija_veci_od_6"
   ]
  },
  {
   "cell_type": "code",
   "execution_count": 43,
   "id": "dac4dc15",
   "metadata": {},
   "outputs": [
    {
     "data": {
      "text/plain": [
       "0     5\n",
       "1     6\n",
       "2     1\n",
       "3     7\n",
       "4     8\n",
       "5     2\n",
       "6     3\n",
       "7     1\n",
       "8     6\n",
       "9     7\n",
       "10    1\n",
       "11    5\n",
       "12    1\n",
       "13    6\n",
       "Name: Duza serija, dtype: int64"
      ]
     },
     "execution_count": 43,
     "metadata": {},
     "output_type": "execute_result"
    }
   ],
   "source": [
    "serija_duza = pd.Series([5, 6, 1, 7, 8, 2, 3, 1, 6, 7, 1, 5, 1, 6], name=\"Duza serija\")\n",
    "serija_duza"
   ]
  },
  {
   "cell_type": "code",
   "execution_count": 46,
   "id": "2079de19",
   "metadata": {},
   "outputs": [
    {
     "data": {
      "text/plain": [
       "array([5, 6, 1, 7, 8, 2, 3], dtype=int64)"
      ]
     },
     "execution_count": 46,
     "metadata": {},
     "output_type": "execute_result"
    }
   ],
   "source": [
    "serija_duza.unique()  # jedinstveni elementi (bez ponavljanja)"
   ]
  },
  {
   "cell_type": "code",
   "execution_count": 47,
   "id": "3b99dc4e",
   "metadata": {},
   "outputs": [
    {
     "name": "stdout",
     "output_type": "stream",
     "text": [
      "<class 'numpy.ndarray'>\n"
     ]
    }
   ],
   "source": [
    "print(type(serija_duza.unique()))"
   ]
  },
  {
   "cell_type": "code",
   "execution_count": 50,
   "id": "1641792e",
   "metadata": {},
   "outputs": [
    {
     "data": {
      "text/plain": [
       "1    4\n",
       "6    3\n",
       "5    2\n",
       "7    2\n",
       "8    1\n",
       "2    1\n",
       "3    1\n",
       "Name: Duza serija, dtype: int64"
      ]
     },
     "execution_count": 50,
     "metadata": {},
     "output_type": "execute_result"
    }
   ],
   "source": [
    "# prebrojiti vrijednosti u seriji\n",
    "serija_duza.value_counts().sort_values(ascending=False)"
   ]
  },
  {
   "cell_type": "code",
   "execution_count": 51,
   "id": "616f4e43",
   "metadata": {},
   "outputs": [
    {
     "data": {
      "text/plain": [
       "0      True\n",
       "1     False\n",
       "2      True\n",
       "3      True\n",
       "4     False\n",
       "5     False\n",
       "6     False\n",
       "7      True\n",
       "8     False\n",
       "9      True\n",
       "10     True\n",
       "11     True\n",
       "12     True\n",
       "13    False\n",
       "Name: Duza serija, dtype: bool"
      ]
     },
     "execution_count": 51,
     "metadata": {},
     "output_type": "execute_result"
    }
   ],
   "source": [
    "serija_duza.isin([1, 5, 7])"
   ]
  },
  {
   "cell_type": "code",
   "execution_count": 52,
   "id": "968b3769",
   "metadata": {},
   "outputs": [
    {
     "data": {
      "text/plain": [
       "0     5\n",
       "2     1\n",
       "3     7\n",
       "7     1\n",
       "9     7\n",
       "10    1\n",
       "11    5\n",
       "12    1\n",
       "Name: Duza serija, dtype: int64"
      ]
     },
     "execution_count": 52,
     "metadata": {},
     "output_type": "execute_result"
    }
   ],
   "source": [
    "serija_duza[serija_duza.isin([1, 5, 7])]"
   ]
  },
  {
   "cell_type": "markdown",
   "id": "30333614",
   "metadata": {},
   "source": [
    "## Zadatak\n",
    "\n",
    "Generirajte nasumičnih 100 brojeva te ih pohranite u Python listu. Od te liste kreirajte Pandas seriju te joj dajte nekakav naziv.\n",
    "\n",
    "- Provjerite, koliko ima brojeva koji se ponavljaju te koliko se puta svaki od njih ponavlja?\n",
    "- Koji je broj najveći, a koji najmanji?\n",
    "- Modificirajte podatke u seriji tako da se svedu na postotke (neka budu u rasponu od 0 do 1).\n",
    "- Promijenite vrijednosti najvećeg broja tako da je identična vrijednosti najmanjeg broja. Provjerite koji je sada najveći broj."
   ]
  },
  {
   "cell_type": "code",
   "execution_count": 59,
   "id": "d5d9e091",
   "metadata": {},
   "outputs": [],
   "source": [
    "import random as rd\n",
    "lista = []\n",
    "\n",
    "for i in range(100):\n",
    "    lista.append(rd.randint(1, 101))\n",
    "\n",
    "random_serija = pd.Series(lista, name=\"Random serija\")"
   ]
  },
  {
   "cell_type": "code",
   "execution_count": 57,
   "id": "218ad576",
   "metadata": {},
   "outputs": [
    {
     "data": {
      "text/plain": [
       "0     69\n",
       "1     45\n",
       "2     47\n",
       "3     55\n",
       "4     81\n",
       "      ..\n",
       "95    18\n",
       "96    44\n",
       "97    67\n",
       "98    58\n",
       "99    90\n",
       "Name: Random serija, Length: 100, dtype: int64"
      ]
     },
     "execution_count": 57,
     "metadata": {},
     "output_type": "execute_result"
    }
   ],
   "source": [
    "random_serija"
   ]
  },
  {
   "cell_type": "code",
   "execution_count": 60,
   "id": "9bf2e0ed",
   "metadata": {},
   "outputs": [
    {
     "data": {
      "text/plain": [
       "57    5\n",
       "96    4\n",
       "40    3\n",
       "36    3\n",
       "3     3\n",
       "     ..\n",
       "46    1\n",
       "21    1\n",
       "42    1\n",
       "33    1\n",
       "53    1\n",
       "Name: Random serija, Length: 63, dtype: int64"
      ]
     },
     "execution_count": 60,
     "metadata": {},
     "output_type": "execute_result"
    }
   ],
   "source": [
    "random_serija.value_counts().sort_values(ascending=False)"
   ]
  },
  {
   "cell_type": "code",
   "execution_count": 63,
   "id": "94dd8755",
   "metadata": {},
   "outputs": [
    {
     "data": {
      "text/plain": [
       "1"
      ]
     },
     "execution_count": 63,
     "metadata": {},
     "output_type": "execute_result"
    }
   ],
   "source": [
    "random_serija.min()  # najmanja vrijednost u seriji"
   ]
  },
  {
   "cell_type": "code",
   "execution_count": 64,
   "id": "7e06cc69",
   "metadata": {},
   "outputs": [
    {
     "data": {
      "text/plain": [
       "99"
      ]
     },
     "execution_count": 64,
     "metadata": {},
     "output_type": "execute_result"
    }
   ],
   "source": [
    "random_serija.max()  # najveća vrijednost u seriji"
   ]
  },
  {
   "cell_type": "code",
   "execution_count": 65,
   "id": "95bac719",
   "metadata": {},
   "outputs": [],
   "source": [
    "random_serija = random_serija / 100"
   ]
  },
  {
   "cell_type": "code",
   "execution_count": 66,
   "id": "6ccbc038",
   "metadata": {},
   "outputs": [
    {
     "data": {
      "text/plain": [
       "0     0.67\n",
       "1     0.40\n",
       "2     0.52\n",
       "3     0.74\n",
       "4     0.70\n",
       "      ... \n",
       "95    0.16\n",
       "96    0.57\n",
       "97    0.85\n",
       "98    0.47\n",
       "99    0.53\n",
       "Name: Random serija, Length: 100, dtype: float64"
      ]
     },
     "execution_count": 66,
     "metadata": {},
     "output_type": "execute_result"
    }
   ],
   "source": [
    "random_serija"
   ]
  },
  {
   "cell_type": "code",
   "execution_count": null,
   "id": "9126da70",
   "metadata": {},
   "outputs": [],
   "source": []
  }
 ],
 "metadata": {
  "kernelspec": {
   "display_name": "Python 3 (ipykernel)",
   "language": "python",
   "name": "python3"
  },
  "language_info": {
   "codemirror_mode": {
    "name": "ipython",
    "version": 3
   },
   "file_extension": ".py",
   "mimetype": "text/x-python",
   "name": "python",
   "nbconvert_exporter": "python",
   "pygments_lexer": "ipython3",
   "version": "3.8.5"
  }
 },
 "nbformat": 4,
 "nbformat_minor": 5
}
