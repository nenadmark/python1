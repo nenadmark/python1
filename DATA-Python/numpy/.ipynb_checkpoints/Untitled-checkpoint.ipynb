{
 "cells": [
  {
   "cell_type": "markdown",
   "id": "14bb0644",
   "metadata": {},
   "source": [
    "### NUMPY \n",
    "numpy je pythonov odgovor na matlab\n",
    "numpy nudi jako puno matematickih funkcija\n",
    "\n",
    "kada instaliramo NumPy dobijemo:\n",
    "- Acipy (Scientific Python) - razvijen na temeljima NumPy biblioteke i nudei velik izbor gotovih algoritama uz razne znanstvene proracune\n",
    "- pandas - sluzi za obradu potadaka iz tablice\n",
    "- matplotlib - sluzi za vizualizaciju podataka"
   ]
  },
  {
   "cell_type": "code",
   "execution_count": 109,
   "id": "fbaded2b",
   "metadata": {},
   "outputs": [
    {
     "name": "stdout",
     "output_type": "stream",
     "text": [
      "[1, 2, 3, 4, 5]\n",
      "<class 'list'>\n",
      "[1 2 3 4 5]\n",
      "<class 'numpy.ndarray'>\n"
     ]
    }
   ],
   "source": [
    "import numpy as np\n",
    "\n",
    "obicna_lista = [1, 2, 3, 4, 5]\n",
    "numpy_lista = np.array(obicna_lista)\n",
    "\n",
    "print(obicna_lista)\n",
    "print(type(obicna_lista))\n",
    "\n",
    "print(numpy_lista)\n",
    "print(type(numpy_lista))"
   ]
  },
  {
   "cell_type": "code",
   "execution_count": 110,
   "id": "1dbdbd1a",
   "metadata": {},
   "outputs": [
    {
     "name": "stdout",
     "output_type": "stream",
     "text": [
      "[1, 2, 3, 4, 5, 1, 2, 3, 4, 5]\n"
     ]
    }
   ],
   "source": [
    "print(obicna_lista * 2)"
   ]
  },
  {
   "cell_type": "code",
   "execution_count": 114,
   "id": "d8fb26d5",
   "metadata": {},
   "outputs": [
    {
     "name": "stdout",
     "output_type": "stream",
     "text": [
      "[ 2  4  6  8 10]\n"
     ]
    }
   ],
   "source": [
    "print(numpy_lista * 2)"
   ]
  },
  {
   "cell_type": "code",
   "execution_count": 115,
   "id": "0adb0ce0",
   "metadata": {},
   "outputs": [
    {
     "name": "stdout",
     "output_type": "stream",
     "text": [
      "[2, 4, 6, 8, 10]\n"
     ]
    }
   ],
   "source": [
    "obicna_lista_duplo = [x * 2 for x in obicna_lista]\n",
    "print(obicna_lista_duplo)"
   ]
  },
  {
   "cell_type": "code",
   "execution_count": 116,
   "id": "1b1f5944",
   "metadata": {},
   "outputs": [
    {
     "name": "stdout",
     "output_type": "stream",
     "text": [
      "[ 3  6  9 12 15]\n"
     ]
    }
   ],
   "source": [
    "print(np.multiply(obicna_lista, 3))"
   ]
  },
  {
   "cell_type": "code",
   "execution_count": 117,
   "id": "64edb337",
   "metadata": {},
   "outputs": [
    {
     "name": "stdout",
     "output_type": "stream",
     "text": [
      "5\n"
     ]
    }
   ],
   "source": [
    "print(len(obicna_lista))"
   ]
  },
  {
   "cell_type": "code",
   "execution_count": 118,
   "id": "3971baa4",
   "metadata": {},
   "outputs": [
    {
     "name": "stdout",
     "output_type": "stream",
     "text": [
      "5\n"
     ]
    }
   ],
   "source": [
    "print(len(numpy_lista))"
   ]
  },
  {
   "cell_type": "markdown",
   "id": "e15b0dc5",
   "metadata": {},
   "source": [
    "## matrice"
   ]
  },
  {
   "cell_type": "code",
   "execution_count": 119,
   "id": "08ec7f98",
   "metadata": {},
   "outputs": [
    {
     "name": "stdout",
     "output_type": "stream",
     "text": [
      "[[1, 2, 3], [4, 5, 6], [7, 8, 9]]\n"
     ]
    }
   ],
   "source": [
    "obicna_matrica = [\n",
    "    [1, 2, 3],\n",
    "    [4, 5, 6],\n",
    "    [7, 8, 9]\n",
    "]\n",
    "print(obicna_matrica)"
   ]
  },
  {
   "cell_type": "code",
   "execution_count": 120,
   "id": "d3ccec0d",
   "metadata": {},
   "outputs": [
    {
     "name": "stdout",
     "output_type": "stream",
     "text": [
      "[[1 2 3]\n",
      " [4 5 6]\n",
      " [7 8 9]]\n"
     ]
    }
   ],
   "source": [
    "numpy_matrica = np.array(obicna_matrica)\n",
    "print(numpy_matrica)"
   ]
  },
  {
   "cell_type": "code",
   "execution_count": 121,
   "id": "afbc4043",
   "metadata": {},
   "outputs": [
    {
     "name": "stdout",
     "output_type": "stream",
     "text": [
      "3\n"
     ]
    }
   ],
   "source": [
    "print(len(obicna_matrica))"
   ]
  },
  {
   "cell_type": "code",
   "execution_count": 123,
   "id": "9aa61ce9",
   "metadata": {},
   "outputs": [
    {
     "name": "stdout",
     "output_type": "stream",
     "text": [
      "3\n"
     ]
    }
   ],
   "source": [
    "print(len(numpy_matrica))"
   ]
  },
  {
   "cell_type": "code",
   "execution_count": 124,
   "id": "6c5f1437",
   "metadata": {},
   "outputs": [
    {
     "data": {
      "text/plain": [
       "9"
      ]
     },
     "execution_count": 124,
     "metadata": {},
     "output_type": "execute_result"
    }
   ],
   "source": [
    "numpy_matrica.size"
   ]
  },
  {
   "cell_type": "markdown",
   "id": "fb3dc2e4",
   "metadata": {},
   "source": [
    "### kako pristupamo elemtima u numpy listi "
   ]
  },
  {
   "cell_type": "code",
   "execution_count": 125,
   "id": "c21293c0",
   "metadata": {},
   "outputs": [
    {
     "name": "stdout",
     "output_type": "stream",
     "text": [
      "1\n"
     ]
    }
   ],
   "source": [
    "print(obicna_lista[0])"
   ]
  },
  {
   "cell_type": "code",
   "execution_count": 126,
   "id": "256dd147",
   "metadata": {},
   "outputs": [
    {
     "name": "stdout",
     "output_type": "stream",
     "text": [
      "1\n"
     ]
    }
   ],
   "source": [
    "print(numpy_lista[0])"
   ]
  },
  {
   "cell_type": "code",
   "execution_count": 127,
   "id": "852dfe30",
   "metadata": {},
   "outputs": [
    {
     "name": "stdout",
     "output_type": "stream",
     "text": [
      "5\n"
     ]
    }
   ],
   "source": [
    "print(obicna_matrica[1][1])"
   ]
  },
  {
   "cell_type": "code",
   "execution_count": 128,
   "id": "16b1490e",
   "metadata": {},
   "outputs": [
    {
     "name": "stdout",
     "output_type": "stream",
     "text": [
      "5\n"
     ]
    }
   ],
   "source": [
    "print(numpy_matrica[1][1])"
   ]
  },
  {
   "cell_type": "code",
   "execution_count": 129,
   "id": "cd3d7d5a",
   "metadata": {},
   "outputs": [
    {
     "name": "stdout",
     "output_type": "stream",
     "text": [
      "5\n"
     ]
    }
   ],
   "source": [
    "print(numpy_matrica[1, 1])"
   ]
  },
  {
   "cell_type": "code",
   "execution_count": 130,
   "id": "8a526d2e",
   "metadata": {},
   "outputs": [],
   "source": [
    "obicna_3d_lista = [\n",
    "    [\n",
    "        [1, 1],\n",
    "        [2, 2]\n",
    "    ],\n",
    "    [\n",
    "        [3, 3],\n",
    "        [4, 4]\n",
    "    ],\n",
    "    \n",
    "]"
   ]
  },
  {
   "cell_type": "code",
   "execution_count": 131,
   "id": "8cc1c8f4",
   "metadata": {},
   "outputs": [
    {
     "name": "stdout",
     "output_type": "stream",
     "text": [
      "2\n"
     ]
    }
   ],
   "source": [
    "print(len(obicna_3d_lista))"
   ]
  },
  {
   "cell_type": "code",
   "execution_count": 132,
   "id": "cd78e029",
   "metadata": {},
   "outputs": [
    {
     "name": "stdout",
     "output_type": "stream",
     "text": [
      "4\n"
     ]
    }
   ],
   "source": [
    "print(obicna_3d_lista[1][1][0])"
   ]
  },
  {
   "cell_type": "code",
   "execution_count": 133,
   "id": "18a3b729",
   "metadata": {},
   "outputs": [
    {
     "name": "stdout",
     "output_type": "stream",
     "text": [
      "[[[1, 1], [2, 2]], [[3, 3], [4, 4]]]\n"
     ]
    }
   ],
   "source": [
    "print(obicna_3d_lista)"
   ]
  },
  {
   "cell_type": "code",
   "execution_count": 134,
   "id": "0615ba8e",
   "metadata": {},
   "outputs": [],
   "source": [
    "numpy_3d_lista = np.array(obicna_3d_lista)\n"
   ]
  },
  {
   "cell_type": "code",
   "execution_count": 136,
   "id": "30a6a737",
   "metadata": {},
   "outputs": [
    {
     "data": {
      "text/plain": [
       "3"
      ]
     },
     "execution_count": 136,
     "metadata": {},
     "output_type": "execute_result"
    }
   ],
   "source": [
    "numpy_3d_lista.ndim"
   ]
  },
  {
   "cell_type": "code",
   "execution_count": 137,
   "id": "c47684f5",
   "metadata": {},
   "outputs": [
    {
     "data": {
      "text/plain": [
       "2"
      ]
     },
     "execution_count": 137,
     "metadata": {},
     "output_type": "execute_result"
    }
   ],
   "source": [
    "numpy_matrica.ndim"
   ]
  },
  {
   "cell_type": "code",
   "execution_count": 138,
   "id": "67c06ad0",
   "metadata": {},
   "outputs": [
    {
     "data": {
      "text/plain": [
       "1"
      ]
     },
     "execution_count": 138,
     "metadata": {},
     "output_type": "execute_result"
    }
   ],
   "source": [
    "numpy_lista.ndim"
   ]
  },
  {
   "cell_type": "code",
   "execution_count": 62,
   "id": "3a1a20bb",
   "metadata": {},
   "outputs": [],
   "source": [
    "numpy_0d_lista = np.array(1)"
   ]
  },
  {
   "cell_type": "code",
   "execution_count": 139,
   "id": "1d7c4a0b",
   "metadata": {},
   "outputs": [
    {
     "data": {
      "text/plain": [
       "0"
      ]
     },
     "execution_count": 139,
     "metadata": {},
     "output_type": "execute_result"
    }
   ],
   "source": [
    "numpy_0d_lista.ndim"
   ]
  },
  {
   "cell_type": "code",
   "execution_count": 140,
   "id": "f1d0767f",
   "metadata": {},
   "outputs": [
    {
     "data": {
      "text/plain": [
       "1"
      ]
     },
     "execution_count": 140,
     "metadata": {},
     "output_type": "execute_result"
    }
   ],
   "source": [
    "numpy_0d_lista.size"
   ]
  },
  {
   "cell_type": "code",
   "execution_count": 141,
   "id": "336f8122",
   "metadata": {},
   "outputs": [],
   "source": [
    "#py_lista = [\n",
    "    #[1, 2, 3],\n",
    "    #[4, 5],\n",
    "    #[6]\n",
    "#]\n",
    "\n",
    "#np_lista = np.array(py_lista)"
   ]
  },
  {
   "cell_type": "markdown",
   "id": "266bab13",
   "metadata": {},
   "source": [
    "## Zadatak:\n",
    "\n",
    "ispisati broj redaka i stupaca u matrici spremljenoj u varijablama obicna_matrica i numpy_matrica"
   ]
  },
  {
   "cell_type": "code",
   "execution_count": 142,
   "id": "3fb14628",
   "metadata": {},
   "outputs": [
    {
     "name": "stdout",
     "output_type": "stream",
     "text": [
      "3 3\n"
     ]
    }
   ],
   "source": [
    "print(len(obicna_matrica), len(obicna_matrica[0]))"
   ]
  },
  {
   "cell_type": "code",
   "execution_count": 143,
   "id": "00c40941",
   "metadata": {},
   "outputs": [
    {
     "name": "stdout",
     "output_type": "stream",
     "text": [
      "3 3\n"
     ]
    }
   ],
   "source": [
    "print(len(numpy_matrica), len(numpy_matrica[0]))"
   ]
  },
  {
   "cell_type": "code",
   "execution_count": 144,
   "id": "d0fc93b0",
   "metadata": {},
   "outputs": [
    {
     "data": {
      "text/plain": [
       "(3, 3)"
      ]
     },
     "execution_count": 144,
     "metadata": {},
     "output_type": "execute_result"
    }
   ],
   "source": [
    "numpy_matrica.shape"
   ]
  },
  {
   "cell_type": "code",
   "execution_count": 145,
   "id": "dcedf07e",
   "metadata": {},
   "outputs": [],
   "source": [
    "stringovi = [\"AA\", \"BB\", \"CC\"]\n",
    "np_stringovi = np.array(stringovi)"
   ]
  },
  {
   "cell_type": "code",
   "execution_count": 146,
   "id": "9f76115b",
   "metadata": {},
   "outputs": [
    {
     "data": {
      "text/plain": [
       "array(['AA', 'BB', 'CC'], dtype='<U2')"
      ]
     },
     "execution_count": 146,
     "metadata": {},
     "output_type": "execute_result"
    }
   ],
   "source": [
    "np_stringovi"
   ]
  },
  {
   "cell_type": "code",
   "execution_count": 147,
   "id": "efe75f02",
   "metadata": {},
   "outputs": [
    {
     "data": {
      "text/plain": [
       "dtype('int32')"
      ]
     },
     "execution_count": 147,
     "metadata": {},
     "output_type": "execute_result"
    }
   ],
   "source": [
    "numpy_matrica.dtype"
   ]
  },
  {
   "cell_type": "code",
   "execution_count": 148,
   "id": "424e0df1",
   "metadata": {},
   "outputs": [
    {
     "data": {
      "text/plain": [
       "dtype('<U2')"
      ]
     },
     "execution_count": 148,
     "metadata": {},
     "output_type": "execute_result"
    }
   ],
   "source": [
    "np_stringovi.dtype"
   ]
  },
  {
   "cell_type": "code",
   "execution_count": 86,
   "id": "adf1b56b",
   "metadata": {},
   "outputs": [
    {
     "name": "stdout",
     "output_type": "stream",
     "text": [
      "['AA', 'BB', 'CC', 'AA', 'BB', 'CC']\n"
     ]
    }
   ],
   "source": [
    "print(stringovi * 2)\n",
    "#print(np_stringovi * 2)"
   ]
  },
  {
   "cell_type": "code",
   "execution_count": 87,
   "id": "6a696a6d",
   "metadata": {},
   "outputs": [
    {
     "data": {
      "text/plain": [
       "dtype('int32')"
      ]
     },
     "execution_count": 87,
     "metadata": {},
     "output_type": "execute_result"
    }
   ],
   "source": [
    "numpy_lista.dtype # ispisuje toip podataka u tom arrayu"
   ]
  },
  {
   "cell_type": "code",
   "execution_count": 88,
   "id": "83e184d5",
   "metadata": {},
   "outputs": [
    {
     "data": {
      "text/plain": [
       "20"
      ]
     },
     "execution_count": 88,
     "metadata": {},
     "output_type": "execute_result"
    }
   ],
   "source": [
    "numpy_lista.nbytes"
   ]
  },
  {
   "cell_type": "code",
   "execution_count": 89,
   "id": "6bbe2f6a",
   "metadata": {},
   "outputs": [],
   "source": [
    "numpy_lista_2 = np.array(obicna_lista, dtype=np.int64)"
   ]
  },
  {
   "cell_type": "code",
   "execution_count": 90,
   "id": "35f3a09b",
   "metadata": {},
   "outputs": [
    {
     "data": {
      "text/plain": [
       "array([1, 2, 3, 4, 5], dtype=int64)"
      ]
     },
     "execution_count": 90,
     "metadata": {},
     "output_type": "execute_result"
    }
   ],
   "source": [
    "numpy_lista_2"
   ]
  },
  {
   "cell_type": "code",
   "execution_count": 93,
   "id": "8cb8e1f8",
   "metadata": {},
   "outputs": [
    {
     "data": {
      "text/plain": [
       "40"
      ]
     },
     "execution_count": 93,
     "metadata": {},
     "output_type": "execute_result"
    }
   ],
   "source": [
    "numpy_lista_2.nbytes"
   ]
  },
  {
   "cell_type": "code",
   "execution_count": 95,
   "id": "141195d3",
   "metadata": {},
   "outputs": [],
   "source": [
    "numpy_lista_float = np.array(obicna_lista, dtype=np.float32)"
   ]
  },
  {
   "cell_type": "code",
   "execution_count": 97,
   "id": "fa38458f",
   "metadata": {},
   "outputs": [
    {
     "data": {
      "text/plain": [
       "array([1., 2., 3., 4., 5.], dtype=float32)"
      ]
     },
     "execution_count": 97,
     "metadata": {},
     "output_type": "execute_result"
    }
   ],
   "source": [
    "numpy_lista_float"
   ]
  },
  {
   "cell_type": "code",
   "execution_count": 98,
   "id": "8d079dbc",
   "metadata": {},
   "outputs": [
    {
     "data": {
      "text/plain": [
       "20"
      ]
     },
     "execution_count": 98,
     "metadata": {},
     "output_type": "execute_result"
    }
   ],
   "source": [
    "numpy_lista_float.nbytes # koliko memorije zauzimaju svi elementi"
   ]
  },
  {
   "cell_type": "code",
   "execution_count": 99,
   "id": "ad6b66f1",
   "metadata": {},
   "outputs": [
    {
     "data": {
      "text/plain": [
       "4"
      ]
     },
     "execution_count": 99,
     "metadata": {},
     "output_type": "execute_result"
    }
   ],
   "source": [
    "numpy_lista_float.itemsize # koliko memorije zauzima svaki pojedini element"
   ]
  },
  {
   "cell_type": "code",
   "execution_count": 100,
   "id": "4c4e5b9c",
   "metadata": {},
   "outputs": [],
   "source": [
    "mijesana_lista = [1, 2.5, \"bla\", None]"
   ]
  },
  {
   "cell_type": "code",
   "execution_count": 101,
   "id": "de13cb0f",
   "metadata": {},
   "outputs": [],
   "source": [
    "numpy_mijesana_lista = np.array(mijesana_lista)"
   ]
  },
  {
   "cell_type": "code",
   "execution_count": 103,
   "id": "8b726c3f",
   "metadata": {},
   "outputs": [
    {
     "data": {
      "text/plain": [
       "array([1, 2.5, 'bla', None], dtype=object)"
      ]
     },
     "execution_count": 103,
     "metadata": {},
     "output_type": "execute_result"
    }
   ],
   "source": [
    "numpy_mijesana_lista #kada je dtype=object, znaci da imamo mix podataka u tom arrayu"
   ]
  },
  {
   "cell_type": "code",
   "execution_count": 104,
   "id": "63664641",
   "metadata": {},
   "outputs": [],
   "source": [
    "numpy_test_lista = np.array([1, 2, 3, 4, 5, 6, 7, 8, 9], dtype=np.float32)"
   ]
  },
  {
   "cell_type": "code",
   "execution_count": 105,
   "id": "aa348cd7",
   "metadata": {},
   "outputs": [
    {
     "data": {
      "text/plain": [
       "1"
      ]
     },
     "execution_count": 105,
     "metadata": {},
     "output_type": "execute_result"
    }
   ],
   "source": [
    "numpy_test_lista.ndim"
   ]
  },
  {
   "cell_type": "code",
   "execution_count": 106,
   "id": "6d9dea76",
   "metadata": {},
   "outputs": [
    {
     "data": {
      "text/plain": [
       "array([[1., 2., 3.],\n",
       "       [4., 5., 6.],\n",
       "       [7., 8., 9.]], dtype=float32)"
      ]
     },
     "execution_count": 106,
     "metadata": {},
     "output_type": "execute_result"
    }
   ],
   "source": [
    "numpy_test_lista.reshape(3, 3)"
   ]
  },
  {
   "cell_type": "code",
   "execution_count": 108,
   "id": "d642c5bd",
   "metadata": {},
   "outputs": [],
   "source": [
    "#numpy_test_lista.reshape(2, 4) #nope"
   ]
  },
  {
   "cell_type": "markdown",
   "id": "ef412f08",
   "metadata": {},
   "source": [
    "### ZADATAK 1 :\n",
    "definirati listu s barem 10 elemenata cijelih brojeva.\n",
    "\n",
    "na temelju pocetne liste kreirati dvije nove i to na nacin da u jednoj budu svi parni a u drugoj svi neparni brojevi"
   ]
  },
  {
   "cell_type": "code",
   "execution_count": 159,
   "id": "0233c8c1",
   "metadata": {},
   "outputs": [],
   "source": [
    "zadatak_lista = [6, 3, 1, 10, 5, 7, 9, 2, 2, 2]"
   ]
  },
  {
   "cell_type": "code",
   "execution_count": 160,
   "id": "daae35c8",
   "metadata": {},
   "outputs": [
    {
     "name": "stdout",
     "output_type": "stream",
     "text": [
      "6\n",
      "10\n",
      "2\n",
      "2\n",
      "2\n"
     ]
    }
   ],
   "source": [
    "lista_even = [i for i in zadatak_lista if i % 2 == 0]\n",
    "lista_odd = [i for i in zadatak_lista if i % 1 == 0]\n",
    "for i in lista_even:\n",
    "    print(i)"
   ]
  },
  {
   "cell_type": "markdown",
   "id": "24e209a7",
   "metadata": {},
   "source": [
    " ista stvar s numpy:"
   ]
  },
  {
   "cell_type": "code",
   "execution_count": 175,
   "id": "2c6f89a2",
   "metadata": {},
   "outputs": [],
   "source": [
    "np_originalna = np.array(zadatak_lista)\n",
    "np_indeksi_parnih = np.where(np_originalna % 2 == 0)\n",
    "np_indeksi_neparnih = np.where(np_originalna % 1 == 0)"
   ]
  },
  {
   "cell_type": "code",
   "execution_count": 176,
   "id": "8847b375",
   "metadata": {
    "scrolled": true
   },
   "outputs": [
    {
     "name": "stdout",
     "output_type": "stream",
     "text": [
      "(array([0, 3, 7, 8, 9], dtype=int64),)\n",
      "(array([0, 1, 2, 3, 4, 5, 6, 7, 8, 9], dtype=int64),)\n"
     ]
    }
   ],
   "source": [
    "print(np_indeksi_parnih)\n",
    "print(np_indeksi_neparnih)"
   ]
  },
  {
   "cell_type": "code",
   "execution_count": 177,
   "id": "73c2fa0b",
   "metadata": {},
   "outputs": [],
   "source": [
    "np_originalna = np.array(zadatak_lista)\n",
    "np_lista_parnih = np_originalna[np_originalna % 2 == 0]\n",
    "np_lista_neparnih = np_originalna[np_originalna % 2 != 0]"
   ]
  },
  {
   "cell_type": "code",
   "execution_count": 178,
   "id": "457a94ae",
   "metadata": {},
   "outputs": [
    {
     "name": "stdout",
     "output_type": "stream",
     "text": [
      "[ 6 10  2  2  2]\n",
      "[3 1 5 7 9]\n"
     ]
    }
   ],
   "source": [
    "print(np_lista_parnih)\n",
    "print(np_lista_neparnih)"
   ]
  },
  {
   "cell_type": "markdown",
   "id": "ce80f2b6",
   "metadata": {},
   "source": [
    "### ZADATAK 2 :\n",
    "kreirati \"praznu\" 2d matricu proizvoljnih dimenzija. \"prazno\"u ovom slucaju znaci da je cijela matrica popunjena nulama."
   ]
  },
  {
   "cell_type": "code",
   "execution_count": null,
   "id": "fdcb9727",
   "metadata": {},
   "outputs": [],
   "source": [
    "prazna_2d_matrica = [\n",
    "    [0, 0, 0],\n",
    "    [0, 0, 0],\n",
    "    [0, 0, 0]\n",
    "]"
   ]
  },
  {
   "cell_type": "code",
   "execution_count": 180,
   "id": "7ab68939",
   "metadata": {},
   "outputs": [
    {
     "name": "stdout",
     "output_type": "stream",
     "text": [
      "[[0, 0, 0], [0, 0, 0], [0, 0, 0]]\n"
     ]
    }
   ],
   "source": [
    "prazna_2d_matrica_2 = []\n",
    "for i in range(3):\n",
    "    unutarnja=[]\n",
    "    for i in range(3):\n",
    "        unutarnja.append(0)\n",
    "    prazna_2d_matrica_2.append(unutarnja)\n",
    "print(prazna_2d_matrica_2)"
   ]
  },
  {
   "cell_type": "markdown",
   "id": "0630c6ec",
   "metadata": {},
   "source": [
    "NUMPY PRIMJER:"
   ]
  },
  {
   "cell_type": "code",
   "execution_count": 184,
   "id": "c3676983",
   "metadata": {},
   "outputs": [],
   "source": [
    "np_prazna_2d_matrica = np.zeros((9,9), dtype=np.int32)"
   ]
  },
  {
   "cell_type": "code",
   "execution_count": 186,
   "id": "d07b050b",
   "metadata": {},
   "outputs": [
    {
     "name": "stdout",
     "output_type": "stream",
     "text": [
      "[[0 0 0 0 0 0 0 0 0]\n",
      " [0 0 0 0 0 0 0 0 0]\n",
      " [0 0 0 0 0 0 0 0 0]\n",
      " [0 0 0 0 0 0 0 0 0]\n",
      " [0 0 0 0 0 0 0 0 0]\n",
      " [0 0 0 0 0 0 0 0 0]\n",
      " [0 0 0 0 0 0 0 0 0]\n",
      " [0 0 0 0 0 0 0 0 0]\n",
      " [0 0 0 0 0 0 0 0 0]]\n"
     ]
    }
   ],
   "source": [
    "print(np_prazna_2d_matrica)"
   ]
  },
  {
   "cell_type": "code",
   "execution_count": 187,
   "id": "b1a1f7b8",
   "metadata": {},
   "outputs": [
    {
     "name": "stdout",
     "output_type": "stream",
     "text": [
      "[[1 1 1 1 1 1 1 1 1]\n",
      " [1 1 1 1 1 1 1 1 1]\n",
      " [1 1 1 1 1 1 1 1 1]\n",
      " [1 1 1 1 1 1 1 1 1]\n",
      " [1 1 1 1 1 1 1 1 1]\n",
      " [1 1 1 1 1 1 1 1 1]\n",
      " [1 1 1 1 1 1 1 1 1]\n",
      " [1 1 1 1 1 1 1 1 1]\n",
      " [1 1 1 1 1 1 1 1 1]]\n"
     ]
    }
   ],
   "source": [
    "np_matrica_dvojke = np.ones((9,9), dtype=np.int32)\n",
    "print(np_matrica_dvojke)"
   ]
  },
  {
   "cell_type": "code",
   "execution_count": 193,
   "id": "6560b398",
   "metadata": {},
   "outputs": [
    {
     "name": "stdout",
     "output_type": "stream",
     "text": [
      "[[3.14 3.14 3.14 3.14 3.14 3.14 3.14 3.14 3.14]\n",
      " [3.14 3.14 3.14 3.14 3.14 3.14 3.14 3.14 3.14]\n",
      " [3.14 3.14 3.14 3.14 3.14 3.14 3.14 3.14 3.14]\n",
      " [3.14 3.14 3.14 3.14 3.14 3.14 3.14 3.14 3.14]\n",
      " [3.14 3.14 3.14 3.14 3.14 3.14 3.14 3.14 3.14]\n",
      " [3.14 3.14 3.14 3.14 3.14 3.14 3.14 3.14 3.14]\n",
      " [3.14 3.14 3.14 3.14 3.14 3.14 3.14 3.14 3.14]\n",
      " [3.14 3.14 3.14 3.14 3.14 3.14 3.14 3.14 3.14]\n",
      " [3.14 3.14 3.14 3.14 3.14 3.14 3.14 3.14 3.14]]\n"
     ]
    }
   ],
   "source": [
    "np_matrica_pi = np.full((9,9), 3.14)\n",
    "print(np_matrica_pi)"
   ]
  },
  {
   "cell_type": "markdown",
   "id": "14cc0d52",
   "metadata": {},
   "source": [
    "### ZADATAK 3 :\n",
    "kreirati listu koja pocinje od 5, ima 5 elemenata i to na nacin da je svaki jednak vrijednosti prethodnog uvecano za 3\n",
    "\n",
    "    \"5, 8, 11, 14, 17\""
   ]
  },
  {
   "cell_type": "code",
   "execution_count": 198,
   "id": "9ec5083a",
   "metadata": {},
   "outputs": [],
   "source": [
    "lista_svaki_treci = range(5, 10)"
   ]
  },
  {
   "cell_type": "code",
   "execution_count": 199,
   "id": "625b782c",
   "metadata": {},
   "outputs": [
    {
     "name": "stdout",
     "output_type": "stream",
     "text": [
      "range(5, 10)\n"
     ]
    }
   ],
   "source": [
    "print(lista_svaki_treci)"
   ]
  },
  {
   "cell_type": "code",
   "execution_count": 200,
   "id": "12076d59",
   "metadata": {},
   "outputs": [
    {
     "name": "stdout",
     "output_type": "stream",
     "text": [
      "5\n",
      "6\n",
      "7\n",
      "8\n",
      "9\n"
     ]
    }
   ],
   "source": [
    "for broj in lista_svaki_treci:\n",
    "    print(broj)"
   ]
  },
  {
   "cell_type": "code",
   "execution_count": null,
   "id": "7d6a5005",
   "metadata": {},
   "outputs": [],
   "source": [
    "# NUMPY NACIN\n",
    "np_svaki_treci = np.linalg"
   ]
  },
  {
   "cell_type": "code",
   "execution_count": null,
   "id": "2b31d9fc",
   "metadata": {},
   "outputs": [],
   "source": []
  }
 ],
 "metadata": {
  "kernelspec": {
   "display_name": "Python 3 (ipykernel)",
   "language": "python",
   "name": "python3"
  },
  "language_info": {
   "codemirror_mode": {
    "name": "ipython",
    "version": 3
   },
   "file_extension": ".py",
   "mimetype": "text/x-python",
   "name": "python",
   "nbconvert_exporter": "python",
   "pygments_lexer": "ipython3",
   "version": "3.8.5"
  }
 },
 "nbformat": 4,
 "nbformat_minor": 5
}
