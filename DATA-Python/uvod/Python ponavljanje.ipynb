{
 "cells": [
  {
   "cell_type": "markdown",
   "id": "3e21fb37",
   "metadata": {},
   "source": [
    "# Python ponavljanje"
   ]
  },
  {
   "cell_type": "markdown",
   "id": "781f031f",
   "metadata": {},
   "source": [
    "**Kojim se redoslijedom izvode matematičke operacije u Pythonu?**"
   ]
  },
  {
   "cell_type": "code",
   "execution_count": 2,
   "id": "64756e4f",
   "metadata": {},
   "outputs": [
    {
     "data": {
      "text/plain": [
       "5.0"
      ]
     },
     "execution_count": 2,
     "metadata": {},
     "output_type": "execute_result"
    }
   ],
   "source": [
    "5 * (4 - 2) / 2"
   ]
  },
  {
   "cell_type": "markdown",
   "id": "1a157cf6",
   "metadata": {},
   "source": [
    "Python slijedi pravila kao u matematici pa će zagrade imati prednost. Nakon toga će se rezultat u zagradama pomnožiti s 5, zatim će se rezultat toga podijeliti s 2. Dodatne informacije imate na [sljedećem linku](https://docs.python.org/3/reference/expressions.html#operator-precedence)."
   ]
  },
  {
   "cell_type": "markdown",
   "id": "72b53c1e",
   "metadata": {},
   "source": [
    "## Varijable u Pythonu"
   ]
  },
  {
   "cell_type": "code",
   "execution_count": 3,
   "id": "4c83daef",
   "metadata": {},
   "outputs": [],
   "source": [
    "prva_varijabla = 5"
   ]
  },
  {
   "cell_type": "markdown",
   "id": "09b5af68",
   "metadata": {},
   "source": [
    "U kasnijim ćelijama možemo koristiti varijable definirane u prethodnim ćelijama."
   ]
  },
  {
   "cell_type": "code",
   "execution_count": 5,
   "id": "b43f75b3",
   "metadata": {},
   "outputs": [
    {
     "name": "stdout",
     "output_type": "stream",
     "text": [
      "Varijabla ima vrijednost 5, a njen tip je <class 'int'>\n"
     ]
    }
   ],
   "source": [
    "print(f\"Varijabla ima vrijednost {prva_varijabla}, a njen tip je {type(prva_varijabla)}\")"
   ]
  },
  {
   "cell_type": "markdown",
   "id": "46539c5a",
   "metadata": {},
   "source": [
    "## Liste"
   ]
  },
  {
   "cell_type": "code",
   "execution_count": 13,
   "id": "589e66d5",
   "metadata": {},
   "outputs": [],
   "source": [
    "lista_1 = [1, 2, 3]\n",
    "lista_2 = lista_1\n",
    "lista_3 = lista_1.copy()\n",
    "lista_4 = lista_1[::]"
   ]
  },
  {
   "cell_type": "code",
   "execution_count": 14,
   "id": "b0e06ff2",
   "metadata": {},
   "outputs": [
    {
     "name": "stdout",
     "output_type": "stream",
     "text": [
      "[1, 2, 3, 4]\n"
     ]
    }
   ],
   "source": [
    "lista_1.append(4)\n",
    "print(lista_1)"
   ]
  },
  {
   "cell_type": "code",
   "execution_count": 11,
   "id": "6580eba0",
   "metadata": {},
   "outputs": [
    {
     "name": "stdout",
     "output_type": "stream",
     "text": [
      "[1, 2, 3, 4]\n"
     ]
    }
   ],
   "source": [
    "print(lista_2)"
   ]
  },
  {
   "cell_type": "code",
   "execution_count": 12,
   "id": "40e8b0c4",
   "metadata": {},
   "outputs": [
    {
     "name": "stdout",
     "output_type": "stream",
     "text": [
      "[1, 2, 3]\n"
     ]
    }
   ],
   "source": [
    "print(lista_3)"
   ]
  },
  {
   "cell_type": "code",
   "execution_count": 15,
   "id": "01d6a1a8",
   "metadata": {},
   "outputs": [
    {
     "name": "stdout",
     "output_type": "stream",
     "text": [
      "[1, 2, 3]\n"
     ]
    }
   ],
   "source": [
    "print(lista_4)"
   ]
  },
  {
   "cell_type": "code",
   "execution_count": 16,
   "id": "79ceebec",
   "metadata": {},
   "outputs": [],
   "source": [
    "lista_4.reverse()"
   ]
  },
  {
   "cell_type": "code",
   "execution_count": 17,
   "id": "4995b0c7",
   "metadata": {},
   "outputs": [
    {
     "data": {
      "text/plain": [
       "[3, 2, 1]"
      ]
     },
     "execution_count": 17,
     "metadata": {},
     "output_type": "execute_result"
    }
   ],
   "source": [
    "lista_4"
   ]
  },
  {
   "cell_type": "code",
   "execution_count": 23,
   "id": "c9cf250c",
   "metadata": {},
   "outputs": [
    {
     "name": "stdout",
     "output_type": "stream",
     "text": [
      "Pero Perić\n"
     ]
    }
   ],
   "source": [
    "osoba = [\"Pero\", \"Perić\"]\n",
    "#ime = osoba[0]\n",
    "#prezime = osoba[1]\n",
    "\n",
    "ime, prezime = osoba\n",
    "\n",
    "print(ime, prezime)"
   ]
  },
  {
   "cell_type": "code",
   "execution_count": 24,
   "id": "b4f44261",
   "metadata": {},
   "outputs": [],
   "source": [
    "brojevi = range(10)"
   ]
  },
  {
   "cell_type": "code",
   "execution_count": 27,
   "id": "8a3f721e",
   "metadata": {},
   "outputs": [
    {
     "name": "stdout",
     "output_type": "stream",
     "text": [
      "range(0, 10)\n",
      "<class 'range'>\n"
     ]
    }
   ],
   "source": [
    "print(brojevi)\n",
    "print(type(brojevi))"
   ]
  },
  {
   "cell_type": "markdown",
   "id": "9ee7fef8",
   "metadata": {},
   "source": [
    "Želimo li pretvoriti `range` tip podatke u klasičnu listu, koristimo ključnu riječ `list` za konverziju podataka."
   ]
  },
  {
   "cell_type": "code",
   "execution_count": 29,
   "id": "014b71eb",
   "metadata": {},
   "outputs": [
    {
     "name": "stdout",
     "output_type": "stream",
     "text": [
      "<class 'list'>\n",
      "[0, 1, 2, 3, 4, 5, 6, 7, 8, 9]\n"
     ]
    }
   ],
   "source": [
    "brojevi_2 = list(brojevi)\n",
    "\n",
    "print(type(brojevi_2))\n",
    "print(brojevi_2)"
   ]
  },
  {
   "cell_type": "markdown",
   "id": "8c806fb7",
   "metadata": {},
   "source": [
    "Metoda `insert` na mjesto definirano prvim argumentom dodaje vrijednost definiranu drugim argumentom."
   ]
  },
  {
   "cell_type": "code",
   "execution_count": 30,
   "id": "453a04f7",
   "metadata": {},
   "outputs": [
    {
     "name": "stdout",
     "output_type": "stream",
     "text": [
      "[0, 'Pero', 1, 2, 3, 4, 5, 6, 7, 8, 9]\n"
     ]
    }
   ],
   "source": [
    "brojevi_2.insert(1, \"Pero\")\n",
    "print(brojevi_2)"
   ]
  },
  {
   "cell_type": "markdown",
   "id": "92d6d1ad",
   "metadata": {},
   "source": [
    "### Kako sortirati listu?"
   ]
  },
  {
   "cell_type": "code",
   "execution_count": 31,
   "id": "17a2b71a",
   "metadata": {},
   "outputs": [
    {
     "ename": "TypeError",
     "evalue": "'<' not supported between instances of 'str' and 'int'",
     "output_type": "error",
     "traceback": [
      "\u001b[1;31m---------------------------------------------------------------------------\u001b[0m",
      "\u001b[1;31mTypeError\u001b[0m                                 Traceback (most recent call last)",
      "\u001b[1;32m~\\AppData\\Local\\Temp\\ipykernel_1380\\1369438854.py\u001b[0m in \u001b[0;36m<module>\u001b[1;34m\u001b[0m\n\u001b[1;32m----> 1\u001b[1;33m \u001b[0mbrojevi_2\u001b[0m\u001b[1;33m.\u001b[0m\u001b[0msort\u001b[0m\u001b[1;33m(\u001b[0m\u001b[1;33m)\u001b[0m\u001b[1;33m\u001b[0m\u001b[1;33m\u001b[0m\u001b[0m\n\u001b[0m\u001b[0;32m      2\u001b[0m \u001b[0mprint\u001b[0m\u001b[1;33m(\u001b[0m\u001b[0mbrojevi_2\u001b[0m\u001b[1;33m)\u001b[0m\u001b[1;33m\u001b[0m\u001b[1;33m\u001b[0m\u001b[0m\n",
      "\u001b[1;31mTypeError\u001b[0m: '<' not supported between instances of 'str' and 'int'"
     ]
    }
   ],
   "source": [
    "brojevi_2.sort()\n",
    "print(brojevi_2)"
   ]
  },
  {
   "cell_type": "code",
   "execution_count": 32,
   "id": "e7e5546c",
   "metadata": {},
   "outputs": [
    {
     "ename": "TypeError",
     "evalue": "'<' not supported between instances of 'str' and 'int'",
     "output_type": "error",
     "traceback": [
      "\u001b[1;31m---------------------------------------------------------------------------\u001b[0m",
      "\u001b[1;31mTypeError\u001b[0m                                 Traceback (most recent call last)",
      "\u001b[1;32m~\\AppData\\Local\\Temp\\ipykernel_1380\\3530024095.py\u001b[0m in \u001b[0;36m<module>\u001b[1;34m\u001b[0m\n\u001b[1;32m----> 1\u001b[1;33m \u001b[0msorted\u001b[0m\u001b[1;33m(\u001b[0m\u001b[0mbrojevi_2\u001b[0m\u001b[1;33m)\u001b[0m\u001b[1;33m\u001b[0m\u001b[1;33m\u001b[0m\u001b[0m\n\u001b[0m",
      "\u001b[1;31mTypeError\u001b[0m: '<' not supported between instances of 'str' and 'int'"
     ]
    }
   ],
   "source": [
    "sorted(brojevi_2)"
   ]
  },
  {
   "cell_type": "code",
   "execution_count": 33,
   "id": "c31a82a2",
   "metadata": {},
   "outputs": [],
   "source": [
    "brojevi_2.pop?"
   ]
  },
  {
   "cell_type": "code",
   "execution_count": 34,
   "id": "5cd5a90f",
   "metadata": {},
   "outputs": [
    {
     "name": "stdout",
     "output_type": "stream",
     "text": [
      "9\n",
      "[0, 'Pero', 1, 2, 3, 4, 5, 6, 7, 8]\n"
     ]
    }
   ],
   "source": [
    "print(brojevi_2.pop())\n",
    "print(brojevi_2)"
   ]
  },
  {
   "cell_type": "code",
   "execution_count": 35,
   "id": "887b3d53",
   "metadata": {},
   "outputs": [
    {
     "name": "stdout",
     "output_type": "stream",
     "text": [
      "[0, 1, 2, 3, 4, 5, 6, 7, 8]\n"
     ]
    }
   ],
   "source": [
    "brojevi_2.pop(1)\n",
    "print(brojevi_2)"
   ]
  },
  {
   "cell_type": "markdown",
   "id": "415f12c6",
   "metadata": {},
   "source": [
    "**Kako dobiti najmanju i najveću vrijednost u listi `brojevi_2`?** "
   ]
  },
  {
   "cell_type": "code",
   "execution_count": 36,
   "id": "227bcb36",
   "metadata": {},
   "outputs": [
    {
     "name": "stdout",
     "output_type": "stream",
     "text": [
      "0\n",
      "8\n"
     ]
    }
   ],
   "source": [
    "print(min(brojevi_2))\n",
    "print(max(brojevi_2))"
   ]
  },
  {
   "cell_type": "markdown",
   "id": "e6079869",
   "metadata": {},
   "source": [
    "## Rječnik (dictionary)"
   ]
  },
  {
   "cell_type": "code",
   "execution_count": 37,
   "id": "cad40e13",
   "metadata": {},
   "outputs": [],
   "source": [
    "test_dict = {\n",
    "    0: \"Nula\",\n",
    "    \"Prvi\": 1\n",
    "}"
   ]
  },
  {
   "cell_type": "code",
   "execution_count": 38,
   "id": "cfdb1813",
   "metadata": {},
   "outputs": [
    {
     "data": {
      "text/plain": [
       "'Nula'"
      ]
     },
     "execution_count": 38,
     "metadata": {},
     "output_type": "execute_result"
    }
   ],
   "source": [
    "test_dict[0]"
   ]
  },
  {
   "cell_type": "code",
   "execution_count": 39,
   "id": "6ded68b6",
   "metadata": {},
   "outputs": [
    {
     "data": {
      "text/plain": [
       "1"
      ]
     },
     "execution_count": 39,
     "metadata": {},
     "output_type": "execute_result"
    }
   ],
   "source": [
    "test_dict[\"Prvi\"]"
   ]
  },
  {
   "cell_type": "code",
   "execution_count": 41,
   "id": "e70cbca4",
   "metadata": {},
   "outputs": [
    {
     "name": "stdout",
     "output_type": "stream",
     "text": [
      "dict_keys([0, 'Prvi'])\n",
      "<class 'dict_keys'>\n",
      "<class 'list'>\n"
     ]
    }
   ],
   "source": [
    "kljucevi = test_dict.keys()\n",
    "print(kljucevi)\n",
    "print(type(kljucevi))\n",
    "print(type(list(kljucevi)))"
   ]
  },
  {
   "cell_type": "code",
   "execution_count": 42,
   "id": "a37fc1c7",
   "metadata": {},
   "outputs": [
    {
     "name": "stdout",
     "output_type": "stream",
     "text": [
      "dict_items([(0, 'Nula'), ('Prvi', 1)])\n",
      "<class 'dict_items'>\n"
     ]
    }
   ],
   "source": [
    "items = test_dict.items()\n",
    "print(items)\n",
    "print(type(items))"
   ]
  },
  {
   "cell_type": "markdown",
   "id": "a00eac50",
   "metadata": {},
   "source": [
    "# Tuple ili n-terac"
   ]
  },
  {
   "cell_type": "code",
   "execution_count": 43,
   "id": "1c631c1e",
   "metadata": {},
   "outputs": [],
   "source": [
    "test_tuple = (1, 2, 3)"
   ]
  },
  {
   "cell_type": "code",
   "execution_count": 44,
   "id": "6fbd158e",
   "metadata": {},
   "outputs": [
    {
     "data": {
      "text/plain": [
       "(1, 2, 3)"
      ]
     },
     "execution_count": 44,
     "metadata": {},
     "output_type": "execute_result"
    }
   ],
   "source": [
    "test_tuple"
   ]
  },
  {
   "cell_type": "code",
   "execution_count": 47,
   "id": "17f7a66b",
   "metadata": {},
   "outputs": [],
   "source": [
    "test_tuple_2 = (1, [2, 3, 4], \"Bla\")"
   ]
  },
  {
   "cell_type": "code",
   "execution_count": 50,
   "id": "c9594032",
   "metadata": {},
   "outputs": [
    {
     "name": "stdout",
     "output_type": "stream",
     "text": [
      "[2, 3, 4]\n",
      "3\n"
     ]
    }
   ],
   "source": [
    "print(test_tuple_2[1])\n",
    "print(test_tuple_2[1][1])"
   ]
  },
  {
   "cell_type": "code",
   "execution_count": 51,
   "id": "e9f5c3c3",
   "metadata": {},
   "outputs": [],
   "source": [
    "test_tuple_2[1][1] = \"Pero\""
   ]
  },
  {
   "cell_type": "code",
   "execution_count": 52,
   "id": "13ec844a",
   "metadata": {},
   "outputs": [
    {
     "data": {
      "text/plain": [
       "(1, [2, 'Pero', 4], 'Bla')"
      ]
     },
     "execution_count": 52,
     "metadata": {},
     "output_type": "execute_result"
    }
   ],
   "source": [
    "test_tuple_2"
   ]
  },
  {
   "cell_type": "code",
   "execution_count": 53,
   "id": "38e3d544",
   "metadata": {},
   "outputs": [],
   "source": [
    "bla = {1, 2, 3}"
   ]
  },
  {
   "cell_type": "code",
   "execution_count": 54,
   "id": "1ea98a3a",
   "metadata": {},
   "outputs": [
    {
     "data": {
      "text/plain": [
       "dict"
      ]
     },
     "execution_count": 54,
     "metadata": {},
     "output_type": "execute_result"
    }
   ],
   "source": [
    "type(test_dict)"
   ]
  },
  {
   "cell_type": "code",
   "execution_count": 55,
   "id": "918db7c5",
   "metadata": {},
   "outputs": [
    {
     "data": {
      "text/plain": [
       "set"
      ]
     },
     "execution_count": 55,
     "metadata": {},
     "output_type": "execute_result"
    }
   ],
   "source": [
    "type(bla)"
   ]
  },
  {
   "cell_type": "code",
   "execution_count": 1,
   "id": "b3c4ef72",
   "metadata": {},
   "outputs": [],
   "source": [
    "lista_duplikati = [1, 5, 2, 2, 1, 3, 1, 2]\n",
    "moj_set = set(lista_duplikati)\n",
    "\n"
   ]
  },
  {
   "cell_type": "code",
   "execution_count": 3,
   "id": "f12df326",
   "metadata": {
    "scrolled": true
   },
   "outputs": [
    {
     "ename": "AttributeError",
     "evalue": "'set' object has no attribute 'append'",
     "output_type": "error",
     "traceback": [
      "\u001b[1;31m---------------------------------------------------------------------------\u001b[0m",
      "\u001b[1;31mAttributeError\u001b[0m                            Traceback (most recent call last)",
      "\u001b[1;32m~\\AppData\\Local\\Temp\\ipykernel_11600\\3391034313.py\u001b[0m in \u001b[0;36m<module>\u001b[1;34m\u001b[0m\n\u001b[1;32m----> 1\u001b[1;33m \u001b[0mmoj_set\u001b[0m\u001b[1;33m.\u001b[0m\u001b[0mappend\u001b[0m\u001b[1;33m(\u001b[0m\u001b[1;36m7\u001b[0m\u001b[1;33m)\u001b[0m\u001b[1;33m\u001b[0m\u001b[1;33m\u001b[0m\u001b[0m\n\u001b[0m",
      "\u001b[1;31mAttributeError\u001b[0m: 'set' object has no attribute 'append'"
     ]
    }
   ],
   "source": [
    "moj_set.append(7)"
   ]
  },
  {
   "cell_type": "markdown",
   "id": "bc7ad1a2",
   "metadata": {},
   "source": [
    "#  Funkcije"
   ]
  },
  {
   "cell_type": "markdown",
   "id": "c2e6e8ae",
   "metadata": {},
   "source": [
    "Želimo napraviti funkciju koja će kao argument prihvatiti jedan broj koji predstavlja temperaturu te ovisno o vrijednosti argumenta ispisati sljedeće:\n",
    " - ako je temperatura manja od 18, ispisati \"Potrebno je uključiti grijanje\"\n",
    " - ako je temperatura između 18 i 25, ispisati \"Temperatura je ok\"\n",
    " - ako je temperatura veća od 25, ispisati \"Potrebno je uključiti hlađenje\"\n",
    " \n",
    "Ukoliko predani argument nije cijeli broj, funkcija ispisuje odgovarajuću grešku."
   ]
  },
  {
   "cell_type": "markdown",
   "id": "07d4abab",
   "metadata": {},
   "source": [
    "Funkcije u Python-u definiramo pomoću ključne riječi `def` nakon čega slijedi naziv funkcije te unutar zagrada argumenti koji funkcija prihvaća. Funkcija može biti bez argumenata, a može imati i proizvoljan broj argumenata. U ovom slučaju nam treba 1 argument."
   ]
  },
  {
   "cell_type": "code",
   "execution_count": 15,
   "id": "e58163c2",
   "metadata": {},
   "outputs": [],
   "source": [
    "def ispis_temperature(temperatura: int):\n",
    "    # if not isinstance(temperatura, int):\n",
    "    #    print(\"Argument nije cijeli broj\")\n",
    "    if type(temperatura) is not int:\n",
    "        print(\"Argument nije cijeli broj\")\n",
    "    elif temperatura < 18:\n",
    "        print(\"Potrebno je uključiti grijanje.\")\n",
    "    elif 18 <= temperatura <= 25:\n",
    "        print(\"Temperatura je ok.\")\n",
    "    else:\n",
    "        print(\"Potrebno je uključiti hlađanje.\")"
   ]
  },
  {
   "cell_type": "code",
   "execution_count": 13,
   "id": "0ac646b9",
   "metadata": {},
   "outputs": [
    {
     "name": "stdout",
     "output_type": "stream",
     "text": [
      "Potrebno je uključiti grijanje.\n"
     ]
    }
   ],
   "source": [
    "ispis_temperature(5)"
   ]
  },
  {
   "cell_type": "code",
   "execution_count": 14,
   "id": "642553dc",
   "metadata": {},
   "outputs": [
    {
     "name": "stdout",
     "output_type": "stream",
     "text": [
      "Argument nije cijeli broj\n"
     ]
    }
   ],
   "source": [
    "ispis_temperature(\"bok\")"
   ]
  },
  {
   "cell_type": "markdown",
   "id": "20aa1bca",
   "metadata": {},
   "source": [
    "# Petlje u Pythonu"
   ]
  },
  {
   "cell_type": "markdown",
   "id": "e0ecd612",
   "metadata": {},
   "source": [
    "### For petlja"
   ]
  },
  {
   "cell_type": "code",
   "execution_count": 17,
   "id": "f87c0602",
   "metadata": {},
   "outputs": [
    {
     "name": "stdout",
     "output_type": "stream",
     "text": [
      "Senzor\n",
      "pokreta\n",
      "je\n",
      "aktivan\n"
     ]
    }
   ],
   "source": [
    "moja_lista = [\"Senzor\", \"pokreta\", \"je\", \"aktivan\"]\n",
    "\n",
    "for element in moja_lista:\n",
    "    print(element)"
   ]
  },
  {
   "cell_type": "markdown",
   "id": "d76e90bf",
   "metadata": {},
   "source": [
    "### While petlja"
   ]
  },
  {
   "cell_type": "code",
   "execution_count": 19,
   "id": "b4a1b173",
   "metadata": {},
   "outputs": [
    {
     "name": "stdout",
     "output_type": "stream",
     "text": [
      "Senzor\n",
      "pokreta\n",
      "je\n",
      "aktivan\n"
     ]
    }
   ],
   "source": [
    "i = 0\n",
    "while i < len(moja_lista):\n",
    "    print(moja_lista[i])\n",
    "    i += 1"
   ]
  },
  {
   "cell_type": "code",
   "execution_count": 20,
   "id": "47f9f14e",
   "metadata": {},
   "outputs": [],
   "source": [
    "lista_1 = [1, 2, 3, 4, 5]"
   ]
  },
  {
   "cell_type": "markdown",
   "id": "9e3e17c0",
   "metadata": {},
   "source": [
    "**Kako kreirati novi listu na temelju `lista_1` na način da svaki element bude jednak kvadratu elementa na istom indeksu?**"
   ]
  },
  {
   "cell_type": "markdown",
   "id": "5fd779c4",
   "metadata": {},
   "source": [
    "### Način 1"
   ]
  },
  {
   "cell_type": "markdown",
   "id": "c7b1b94f",
   "metadata": {},
   "source": [
    "\"Školski\" način bi bio:\n",
    "1. definirati novu praznu listu\n",
    "2. `for` petljom proći kroz `lista_1`\n",
    "3. u svakom koraku petlje izračunati kvadrat trenutnog elementa po kojem iteriramo\n",
    "4. izračunatu vrijednost dodati u novu listu"
   ]
  },
  {
   "cell_type": "code",
   "execution_count": 22,
   "id": "5a10fd00",
   "metadata": {},
   "outputs": [
    {
     "name": "stdout",
     "output_type": "stream",
     "text": [
      "[1, 4, 9, 16, 25]\n"
     ]
    }
   ],
   "source": [
    "nova_prazna_lista = []\n",
    "for i in lista_1:\n",
    "    nova_prazna_lista.append(i*i)\n",
    "\n",
    "print(nova_prazna_lista)"
   ]
  },
  {
   "cell_type": "markdown",
   "id": "bc56ddfb",
   "metadata": {},
   "source": [
    "### Način 2"
   ]
  },
  {
   "cell_type": "markdown",
   "id": "34aad279",
   "metadata": {},
   "source": [
    "Za jednostavnije slučajeve poput ovoga možemo koristiti `list comprehension`."
   ]
  },
  {
   "cell_type": "code",
   "execution_count": 23,
   "id": "cbe49381",
   "metadata": {},
   "outputs": [
    {
     "name": "stdout",
     "output_type": "stream",
     "text": [
      "[1, 4, 9, 16, 25]\n"
     ]
    }
   ],
   "source": [
    "kvadrati = [i*i for i in lista_1]\n",
    "print(kvadrati)"
   ]
  },
  {
   "cell_type": "markdown",
   "id": "45207dcb",
   "metadata": {},
   "source": [
    "Na ovaj način u jednom koraku kreiramo novu listu na temelju vrijednosti elemenata u postojećoj listi.\n",
    "\n",
    "Sintaksa bi bila sljedeća:\n",
    "\n",
    "`nova_lista = [varijabla for varijabla in neka_lista if neki_uvjet]` gdje dio s uvjetom možemo izostaviti.\n",
    "\n",
    "Idemo vidjeti na još jednom primjeru.\n",
    "\n",
    "Želimo iz liste ispod kreirati novu listu tako da svaki element koji u sebi ima slovo \"A\" bude dodan u novu listu, ali napisan velikim slovima."
   ]
  },
  {
   "cell_type": "code",
   "execution_count": 24,
   "id": "e0eda7a5",
   "metadata": {},
   "outputs": [],
   "source": [
    "lista_2 = [\"SQL\", \"Python\", \"Django\", \"Numpy\", \"Pandas\", \"Java\"]"
   ]
  },
  {
   "cell_type": "code",
   "execution_count": 31,
   "id": "da051edf",
   "metadata": {},
   "outputs": [
    {
     "name": "stdout",
     "output_type": "stream",
     "text": [
      "['DJANGO', 'PANDAS', 'JAVA']\n"
     ]
    }
   ],
   "source": [
    "lista_velika_slova = [x.upper() for x in lista_2 if \"A\" in x.upper()]\n",
    "\n",
    "# lista_velika_slova = []\n",
    "# for x in lista_2:\n",
    "#     if \"a\" in x.upper():\n",
    "#         lista_velika_slova.append(x.upper())\n",
    "\n",
    "print(lista_velika_slova)"
   ]
  },
  {
   "cell_type": "code",
   "execution_count": null,
   "id": "ba5364f4",
   "metadata": {},
   "outputs": [],
   "source": []
  }
 ],
 "metadata": {
  "kernelspec": {
   "display_name": "Python 3 (ipykernel)",
   "language": "python",
   "name": "python3"
  },
  "language_info": {
   "codemirror_mode": {
    "name": "ipython",
    "version": 3
   },
   "file_extension": ".py",
   "mimetype": "text/x-python",
   "name": "python",
   "nbconvert_exporter": "python",
   "pygments_lexer": "ipython3",
   "version": "3.9.13"
  }
 },
 "nbformat": 4,
 "nbformat_minor": 5
}
