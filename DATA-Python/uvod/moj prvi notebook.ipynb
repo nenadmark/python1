{
 "cells": [
  {
   "cell_type": "code",
   "execution_count": 8,
   "id": "d6cfd4e3",
   "metadata": {
    "scrolled": true
   },
   "outputs": [
    {
     "name": "stdout",
     "output_type": "stream",
     "text": [
      "Hello World iz Jupyter notebooka!\n",
      "Jos jedan print\n"
     ]
    }
   ],
   "source": [
    "print(\"Hello World iz Jupyter notebooka!\")\n",
    "\n",
    "print(\"Jos jedan print\")"
   ]
  },
  {
   "cell_type": "markdown",
   "id": "cb03aaa4",
   "metadata": {},
   "source": [
    "# Naslov\n",
    "## Podnaslov\n",
    "### Podpodnaslov\n"
   ]
  },
  {
   "cell_type": "markdown",
   "id": "05c7ac7c",
   "metadata": {},
   "source": [
    "# Kako formatirati tekstu u Markdown-u?\n",
    "\n",
    "**bold**\n",
    "\n",
    "*italic*\n",
    "\n",
    "`označavanje određenog` dijela teksta\n",
    "\n",
    "```python\n",
    "def pozdrav():\n",
    "    print(\"Hello world\")\n",
    "```\n",
    "\n",
    "```javascript\n",
    "console.log(\"Hello world\");\n",
    "```\n",
    "\n",
    "| Stupac 1 | Stupac 2 |\n",
    "| -------- | -------- |\n",
    "| Vrijednost 1 | Vrijednost 2 |\n",
    "\n",
    "> Ovo je nekakav quote blok.\n",
    "\n",
    "Definiranje liste:\n",
    "1. prvi\n",
    "2. drugi\n",
    "3. treći\n",
    "\n",
    "Definiranje unordered liste:\n",
    "+ prvi\n",
    " + prvi 2\n",
    "+ drugi\n",
    "+ treći"
   ]
  },
  {
   "cell_type": "code",
   "execution_count": null,
   "id": "73887bb2",
   "metadata": {},
   "outputs": [],
   "source": []
  },
  {
   "cell_type": "code",
   "execution_count": null,
   "id": "31afbcac",
   "metadata": {},
   "outputs": [],
   "source": []
  }
 ],
 "metadata": {
  "kernelspec": {
   "display_name": "Python 3 (ipykernel)",
   "language": "python",
   "name": "python3"
  },
  "language_info": {
   "codemirror_mode": {
    "name": "ipython",
    "version": 3
   },
   "file_extension": ".py",
   "mimetype": "text/x-python",
   "name": "python",
   "nbconvert_exporter": "python",
   "pygments_lexer": "ipython3",
   "version": "3.9.13"
  }
 },
 "nbformat": 4,
 "nbformat_minor": 5
}
